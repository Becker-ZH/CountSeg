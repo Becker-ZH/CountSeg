{
 "cells": [
  {
   "cell_type": "code",
   "execution_count": 1,
   "metadata": {},
   "outputs": [
    {
     "name": "stdout",
     "output_type": "stream",
     "text": [
      "create_segmentations_from_detections.m\texample_detector.m   viewanno.m\r\n",
      "devkit_doc.pdf\t\t\t\texample_layout.m     viewdet.m\r\n",
      "example_action.m\t\t\texample_segmenter.m  VOC2007\r\n",
      "example_action_nobb.m\t\t\tlocal\t\t     VOC2012\r\n",
      "example_classifier.m\t\t\tresults\t\t     VOCcode\r\n"
     ]
    }
   ],
   "source": [
    "!ls ~/mnt/data/VOCdevkit/"
   ]
  },
  {
   "cell_type": "code",
   "execution_count": 2,
   "metadata": {},
   "outputs": [
    {
     "name": "stdout",
     "output_type": "stream",
     "text": [
      "Cloning into 'CountSeg'...\n",
      "remote: Enumerating objects: 9, done.\u001b[K\n",
      "remote: Counting objects: 100% (9/9), done.\u001b[K\n",
      "remote: Compressing objects: 100% (8/8), done.\u001b[K\n",
      "remote: Total 381 (delta 1), reused 5 (delta 1), pack-reused 372\u001b[K\n",
      "Receiving objects: 100% (381/381), 174.47 MiB | 73.25 MiB/s, done.\n",
      "Resolving deltas: 100% (149/149), done.\n",
      "Checking connectivity... done.\n"
     ]
    }
   ],
   "source": [
    "!git clone https://github.com/Becker-ZH/CountSeg.git"
   ]
  },
  {
   "cell_type": "code",
   "execution_count": 3,
   "metadata": {},
   "outputs": [
    {
     "name": "stdout",
     "output_type": "stream",
     "text": [
      "\u001b[0m\u001b[01;34mCountSeg\u001b[0m/  Untitled.ipynb\r\n"
     ]
    }
   ],
   "source": [
    "ls"
   ]
  },
  {
   "cell_type": "code",
   "execution_count": 5,
   "metadata": {},
   "outputs": [
    {
     "data": {
      "text/plain": [
       "'/home/ubuntu/ebs/Notebooks/for gaussian'"
      ]
     },
     "execution_count": 5,
     "metadata": {},
     "output_type": "execute_result"
    }
   ],
   "source": [
    "pwd"
   ]
  },
  {
   "cell_type": "code",
   "execution_count": 6,
   "metadata": {},
   "outputs": [
    {
     "name": "stdout",
     "output_type": "stream",
     "text": [
      "number of images for train: 2501\n",
      "number of images for val: 2510\n",
      "<function PeakResponseMapping._median_filter at 0x7f2cf53b90d0>\n",
      "addedmodule5\n",
      "enable_peak_stimulation on\n",
      "[2020-04-28 14:31:28,818] _name: network_trainer\n",
      "data_loaders:\n",
      "  _name: fetch_data\n",
      "  dataset: \n",
      "    _name: pascal_voc_classification\n",
      "    data_dir: /home/ubuntu/mnt/data/VOCdevkit   ## pascal dataset path, change to your local path\n",
      "    year: 2007\n",
      "  batch_size: 16                     ## batch size for training\n",
      "  num_workers: 4\n",
      "  dataloader_flag: counting    ##control how to load data\n",
      "  transform:\n",
      "    _name: image_transform\n",
      "    image_size: [448, 448]\n",
      "    mean: [0.485, 0.456, 0.406]\n",
      "    std: [0.229, 0.224, 0.225]\n",
      "  train_augmentation:\n",
      "    horizontal_flip: 0.5\n",
      "  test_batch_size: 1          ## only support test batch of 1\n",
      "  train_splits:\n",
      "    - train\n",
      "  test_splits:\n",
      "    - val\n",
      "model:\n",
      "  _name: peak_response_mapping\n",
      "  backbone:\n",
      "    _name: fc_resnet50\n",
      "    channels: 60\n",
      "  win_size: 3\n",
      "  sub_pixel_locating_factor: 1        \n",
      "  enable_peak_stimulation: true\n",
      "  filter_type: 'median'\n",
      "  peak_stimulation: 'addedmodule5'\n",
      "criterion1:\n",
      "  _name: class_reg_loss98_6       ## loss used in the first stage of the algorithm\n",
      "criterion2:\n",
      "  _name: class_reg_loss96_7_2       ## loss used in the second stage of the algorithm\n",
      "optimizer:\n",
      "  _name: sgd_optimizer\n",
      "  lr: 0.01       \n",
      "  momentum: 0.9      \n",
      "  weight_decay: 1.0e-4      \n",
      "parameter:\n",
      "  _name: finetune\n",
      "  base_lr: 0.01\n",
      "  groups:\n",
      "    'features': 0.01\n",
      "meters:\n",
      "  loss:\n",
      "    _name: loss_meter\n",
      "max_epoch: 150                   ## max number of epochs for training\n",
      "device: cuda\n",
      "epoch_stage1: 20                      ## number of epochs for the first stage, after that, the training will go to second stage\n",
      "train_method: joint_train                ## joint training of the first stage and second stage\n",
      "path_history: ./pascal07_counting        ## path for saving checkpoints and training history\n",
      "hooks:\n",
      "  on_start:\n",
      "    -\n",
      "      _name: print_state\n",
      "      formats:\n",
      "        - '@CONFIG'\n",
      "        - 'Model: {model}'\n",
      "      join_str: '\\n'\n",
      "  on_end_epoch: \n",
      "    - \n",
      "      _name: print_state\n",
      "      formats:\n",
      "        - 'epoch: {epoch_idx}'\n",
      "        - 'classification_loss: {metrics[train_loss]:.4f}'\n",
      "  save_checkpoints: \n",
      "    -\n",
      "      _name: checkpoint\n",
      "      save_step: -1     ## save checkpoint step, negative step means not saving\n",
      "Model: DataParallel(\n",
      "  (module): PeakResponseMapping(\n",
      "    (backbond): FC_ResNet(\n",
      "      (features): Sequential(\n",
      "        (0): Conv2d(3, 64, kernel_size=(7, 7), stride=(2, 2), padding=(3, 3), bias=False)\n",
      "        (1): BatchNorm2d(64, eps=1e-05, momentum=0.1, affine=True, track_running_stats=True)\n",
      "        (2): ReLU(inplace)\n",
      "        (3): MaxPool2d(kernel_size=3, stride=2, padding=1, dilation=1, ceil_mode=False)\n",
      "        (4): Sequential(\n",
      "          (0): Bottleneck(\n",
      "            (conv1): Conv2d(64, 64, kernel_size=(1, 1), stride=(1, 1), bias=False)\n",
      "            (bn1): BatchNorm2d(64, eps=1e-05, momentum=0.1, affine=True, track_running_stats=True)\n",
      "            (conv2): Conv2d(64, 64, kernel_size=(3, 3), stride=(1, 1), padding=(1, 1), bias=False)\n",
      "            (bn2): BatchNorm2d(64, eps=1e-05, momentum=0.1, affine=True, track_running_stats=True)\n",
      "            (conv3): Conv2d(64, 256, kernel_size=(1, 1), stride=(1, 1), bias=False)\n",
      "            (bn3): BatchNorm2d(256, eps=1e-05, momentum=0.1, affine=True, track_running_stats=True)\n",
      "            (relu): ReLU(inplace)\n",
      "            (downsample): Sequential(\n",
      "              (0): Conv2d(64, 256, kernel_size=(1, 1), stride=(1, 1), bias=False)\n",
      "              (1): BatchNorm2d(256, eps=1e-05, momentum=0.1, affine=True, track_running_stats=True)\n",
      "            )\n",
      "          )\n",
      "          (1): Bottleneck(\n",
      "            (conv1): Conv2d(256, 64, kernel_size=(1, 1), stride=(1, 1), bias=False)\n",
      "            (bn1): BatchNorm2d(64, eps=1e-05, momentum=0.1, affine=True, track_running_stats=True)\n",
      "            (conv2): Conv2d(64, 64, kernel_size=(3, 3), stride=(1, 1), padding=(1, 1), bias=False)\n",
      "            (bn2): BatchNorm2d(64, eps=1e-05, momentum=0.1, affine=True, track_running_stats=True)\n",
      "            (conv3): Conv2d(64, 256, kernel_size=(1, 1), stride=(1, 1), bias=False)\n",
      "            (bn3): BatchNorm2d(256, eps=1e-05, momentum=0.1, affine=True, track_running_stats=True)\n",
      "            (relu): ReLU(inplace)\n",
      "          )\n",
      "          (2): Bottleneck(\n",
      "            (conv1): Conv2d(256, 64, kernel_size=(1, 1), stride=(1, 1), bias=False)\n",
      "            (bn1): BatchNorm2d(64, eps=1e-05, momentum=0.1, affine=True, track_running_stats=True)\n",
      "            (conv2): Conv2d(64, 64, kernel_size=(3, 3), stride=(1, 1), padding=(1, 1), bias=False)\n",
      "            (bn2): BatchNorm2d(64, eps=1e-05, momentum=0.1, affine=True, track_running_stats=True)\n",
      "            (conv3): Conv2d(64, 256, kernel_size=(1, 1), stride=(1, 1), bias=False)\n",
      "            (bn3): BatchNorm2d(256, eps=1e-05, momentum=0.1, affine=True, track_running_stats=True)\n",
      "            (relu): ReLU(inplace)\n",
      "          )\n",
      "        )\n",
      "        (5): Sequential(\n",
      "          (0): Bottleneck(\n",
      "            (conv1): Conv2d(256, 128, kernel_size=(1, 1), stride=(1, 1), bias=False)\n",
      "            (bn1): BatchNorm2d(128, eps=1e-05, momentum=0.1, affine=True, track_running_stats=True)\n",
      "            (conv2): Conv2d(128, 128, kernel_size=(3, 3), stride=(2, 2), padding=(1, 1), bias=False)\n",
      "            (bn2): BatchNorm2d(128, eps=1e-05, momentum=0.1, affine=True, track_running_stats=True)\n",
      "            (conv3): Conv2d(128, 512, kernel_size=(1, 1), stride=(1, 1), bias=False)\n",
      "            (bn3): BatchNorm2d(512, eps=1e-05, momentum=0.1, affine=True, track_running_stats=True)\n",
      "            (relu): ReLU(inplace)\n",
      "            (downsample): Sequential(\n",
      "              (0): Conv2d(256, 512, kernel_size=(1, 1), stride=(2, 2), bias=False)\n",
      "              (1): BatchNorm2d(512, eps=1e-05, momentum=0.1, affine=True, track_running_stats=True)\n",
      "            )\n",
      "          )\n",
      "          (1): Bottleneck(\n",
      "            (conv1): Conv2d(512, 128, kernel_size=(1, 1), stride=(1, 1), bias=False)\n",
      "            (bn1): BatchNorm2d(128, eps=1e-05, momentum=0.1, affine=True, track_running_stats=True)\n",
      "            (conv2): Conv2d(128, 128, kernel_size=(3, 3), stride=(1, 1), padding=(1, 1), bias=False)\n",
      "            (bn2): BatchNorm2d(128, eps=1e-05, momentum=0.1, affine=True, track_running_stats=True)\n",
      "            (conv3): Conv2d(128, 512, kernel_size=(1, 1), stride=(1, 1), bias=False)\n",
      "            (bn3): BatchNorm2d(512, eps=1e-05, momentum=0.1, affine=True, track_running_stats=True)\n",
      "            (relu): ReLU(inplace)\n",
      "          )\n",
      "          (2): Bottleneck(\n",
      "            (conv1): Conv2d(512, 128, kernel_size=(1, 1), stride=(1, 1), bias=False)\n",
      "            (bn1): BatchNorm2d(128, eps=1e-05, momentum=0.1, affine=True, track_running_stats=True)\n",
      "            (conv2): Conv2d(128, 128, kernel_size=(3, 3), stride=(1, 1), padding=(1, 1), bias=False)\n",
      "            (bn2): BatchNorm2d(128, eps=1e-05, momentum=0.1, affine=True, track_running_stats=True)\n",
      "            (conv3): Conv2d(128, 512, kernel_size=(1, 1), stride=(1, 1), bias=False)\n",
      "            (bn3): BatchNorm2d(512, eps=1e-05, momentum=0.1, affine=True, track_running_stats=True)\n",
      "            (relu): ReLU(inplace)\n",
      "          )\n",
      "          (3): Bottleneck(\n",
      "            (conv1): Conv2d(512, 128, kernel_size=(1, 1), stride=(1, 1), bias=False)\n",
      "            (bn1): BatchNorm2d(128, eps=1e-05, momentum=0.1, affine=True, track_running_stats=True)\n",
      "            (conv2): Conv2d(128, 128, kernel_size=(3, 3), stride=(1, 1), padding=(1, 1), bias=False)\n",
      "            (bn2): BatchNorm2d(128, eps=1e-05, momentum=0.1, affine=True, track_running_stats=True)\n",
      "            (conv3): Conv2d(128, 512, kernel_size=(1, 1), stride=(1, 1), bias=False)\n",
      "            (bn3): BatchNorm2d(512, eps=1e-05, momentum=0.1, affine=True, track_running_stats=True)\n",
      "            (relu): ReLU(inplace)\n",
      "          )\n",
      "        )\n",
      "        (6): Sequential(\n",
      "          (0): Bottleneck(\n",
      "            (conv1): Conv2d(512, 256, kernel_size=(1, 1), stride=(1, 1), bias=False)\n",
      "            (bn1): BatchNorm2d(256, eps=1e-05, momentum=0.1, affine=True, track_running_stats=True)\n",
      "            (conv2): Conv2d(256, 256, kernel_size=(3, 3), stride=(2, 2), padding=(1, 1), bias=False)\n",
      "            (bn2): BatchNorm2d(256, eps=1e-05, momentum=0.1, affine=True, track_running_stats=True)\n",
      "            (conv3): Conv2d(256, 1024, kernel_size=(1, 1), stride=(1, 1), bias=False)\n",
      "            (bn3): BatchNorm2d(1024, eps=1e-05, momentum=0.1, affine=True, track_running_stats=True)\n",
      "            (relu): ReLU(inplace)\n",
      "            (downsample): Sequential(\n",
      "              (0): Conv2d(512, 1024, kernel_size=(1, 1), stride=(2, 2), bias=False)\n",
      "              (1): BatchNorm2d(1024, eps=1e-05, momentum=0.1, affine=True, track_running_stats=True)\n",
      "            )\n",
      "          )\n",
      "          (1): Bottleneck(\n",
      "            (conv1): Conv2d(1024, 256, kernel_size=(1, 1), stride=(1, 1), bias=False)\n",
      "            (bn1): BatchNorm2d(256, eps=1e-05, momentum=0.1, affine=True, track_running_stats=True)\n",
      "            (conv2): Conv2d(256, 256, kernel_size=(3, 3), stride=(1, 1), padding=(1, 1), bias=False)\n",
      "            (bn2): BatchNorm2d(256, eps=1e-05, momentum=0.1, affine=True, track_running_stats=True)\n",
      "            (conv3): Conv2d(256, 1024, kernel_size=(1, 1), stride=(1, 1), bias=False)\n",
      "            (bn3): BatchNorm2d(1024, eps=1e-05, momentum=0.1, affine=True, track_running_stats=True)\n",
      "            (relu): ReLU(inplace)\n",
      "          )\n",
      "          (2): Bottleneck(\n",
      "            (conv1): Conv2d(1024, 256, kernel_size=(1, 1), stride=(1, 1), bias=False)\n",
      "            (bn1): BatchNorm2d(256, eps=1e-05, momentum=0.1, affine=True, track_running_stats=True)\n",
      "            (conv2): Conv2d(256, 256, kernel_size=(3, 3), stride=(1, 1), padding=(1, 1), bias=False)\n",
      "            (bn2): BatchNorm2d(256, eps=1e-05, momentum=0.1, affine=True, track_running_stats=True)\n",
      "            (conv3): Conv2d(256, 1024, kernel_size=(1, 1), stride=(1, 1), bias=False)\n",
      "            (bn3): BatchNorm2d(1024, eps=1e-05, momentum=0.1, affine=True, track_running_stats=True)\n",
      "            (relu): ReLU(inplace)\n",
      "          )\n",
      "          (3): Bottleneck(\n",
      "            (conv1): Conv2d(1024, 256, kernel_size=(1, 1), stride=(1, 1), bias=False)\n",
      "            (bn1): BatchNorm2d(256, eps=1e-05, momentum=0.1, affine=True, track_running_stats=True)\n",
      "            (conv2): Conv2d(256, 256, kernel_size=(3, 3), stride=(1, 1), padding=(1, 1), bias=False)\n",
      "            (bn2): BatchNorm2d(256, eps=1e-05, momentum=0.1, affine=True, track_running_stats=True)\n",
      "            (conv3): Conv2d(256, 1024, kernel_size=(1, 1), stride=(1, 1), bias=False)\n",
      "            (bn3): BatchNorm2d(1024, eps=1e-05, momentum=0.1, affine=True, track_running_stats=True)\n",
      "            (relu): ReLU(inplace)\n",
      "          )\n",
      "          (4): Bottleneck(\n",
      "            (conv1): Conv2d(1024, 256, kernel_size=(1, 1), stride=(1, 1), bias=False)\n",
      "            (bn1): BatchNorm2d(256, eps=1e-05, momentum=0.1, affine=True, track_running_stats=True)\n",
      "            (conv2): Conv2d(256, 256, kernel_size=(3, 3), stride=(1, 1), padding=(1, 1), bias=False)\n",
      "            (bn2): BatchNorm2d(256, eps=1e-05, momentum=0.1, affine=True, track_running_stats=True)\n",
      "            (conv3): Conv2d(256, 1024, kernel_size=(1, 1), stride=(1, 1), bias=False)\n",
      "            (bn3): BatchNorm2d(1024, eps=1e-05, momentum=0.1, affine=True, track_running_stats=True)\n",
      "            (relu): ReLU(inplace)\n",
      "          )\n",
      "          (5): Bottleneck(\n",
      "            (conv1): Conv2d(1024, 256, kernel_size=(1, 1), stride=(1, 1), bias=False)\n",
      "            (bn1): BatchNorm2d(256, eps=1e-05, momentum=0.1, affine=True, track_running_stats=True)\n",
      "            (conv2): Conv2d(256, 256, kernel_size=(3, 3), stride=(1, 1), padding=(1, 1), bias=False)\n",
      "            (bn2): BatchNorm2d(256, eps=1e-05, momentum=0.1, affine=True, track_running_stats=True)\n",
      "            (conv3): Conv2d(256, 1024, kernel_size=(1, 1), stride=(1, 1), bias=False)\n",
      "            (bn3): BatchNorm2d(1024, eps=1e-05, momentum=0.1, affine=True, track_running_stats=True)\n",
      "            (relu): ReLU(inplace)\n",
      "          )\n",
      "        )\n",
      "        (7): Sequential(\n",
      "          (0): Bottleneck(\n",
      "            (conv1): Conv2d(1024, 512, kernel_size=(1, 1), stride=(1, 1), bias=False)\n",
      "            (bn1): BatchNorm2d(512, eps=1e-05, momentum=0.1, affine=True, track_running_stats=True)\n",
      "            (conv2): Conv2d(512, 512, kernel_size=(3, 3), stride=(2, 2), padding=(1, 1), bias=False)\n",
      "            (bn2): BatchNorm2d(512, eps=1e-05, momentum=0.1, affine=True, track_running_stats=True)\n",
      "            (conv3): Conv2d(512, 2048, kernel_size=(1, 1), stride=(1, 1), bias=False)\n",
      "            (bn3): BatchNorm2d(2048, eps=1e-05, momentum=0.1, affine=True, track_running_stats=True)\n",
      "            (relu): ReLU(inplace)\n",
      "            (downsample): Sequential(\n",
      "              (0): Conv2d(1024, 2048, kernel_size=(1, 1), stride=(2, 2), bias=False)\n",
      "              (1): BatchNorm2d(2048, eps=1e-05, momentum=0.1, affine=True, track_running_stats=True)\n",
      "            )\n",
      "          )\n",
      "          (1): Bottleneck(\n",
      "            (conv1): Conv2d(2048, 512, kernel_size=(1, 1), stride=(1, 1), bias=False)\n",
      "            (bn1): BatchNorm2d(512, eps=1e-05, momentum=0.1, affine=True, track_running_stats=True)\n",
      "            (conv2): Conv2d(512, 512, kernel_size=(3, 3), stride=(1, 1), padding=(1, 1), bias=False)\n",
      "            (bn2): BatchNorm2d(512, eps=1e-05, momentum=0.1, affine=True, track_running_stats=True)\n",
      "            (conv3): Conv2d(512, 2048, kernel_size=(1, 1), stride=(1, 1), bias=False)\n",
      "            (bn3): BatchNorm2d(2048, eps=1e-05, momentum=0.1, affine=True, track_running_stats=True)\n",
      "            (relu): ReLU(inplace)\n",
      "          )\n",
      "          (2): Bottleneck(\n",
      "            (conv1): Conv2d(2048, 512, kernel_size=(1, 1), stride=(1, 1), bias=False)\n",
      "            (bn1): BatchNorm2d(512, eps=1e-05, momentum=0.1, affine=True, track_running_stats=True)\n",
      "            (conv2): Conv2d(512, 512, kernel_size=(3, 3), stride=(1, 1), padding=(1, 1), bias=False)\n",
      "            (bn2): BatchNorm2d(512, eps=1e-05, momentum=0.1, affine=True, track_running_stats=True)\n",
      "            (conv3): Conv2d(512, 2048, kernel_size=(1, 1), stride=(1, 1), bias=False)\n",
      "            (bn3): BatchNorm2d(2048, eps=1e-05, momentum=0.1, affine=True, track_running_stats=True)\n",
      "            (relu): ReLU(inplace)\n",
      "          )\n",
      "        )\n",
      "      )\n",
      "      (classifier): Sequential(\n",
      "        (0): Conv2d(2048, 60, kernel_size=(1, 1), stride=(1, 1))\n",
      "      )\n",
      "    )\n",
      "    (addedmodule): Addedmodule(\n",
      "      (branch1): Sequential(\n",
      "        (0): BatchNorm2d(30, eps=1e-05, momentum=0.1, affine=True, track_running_stats=True)\n",
      "        (1): ReLU(inplace)\n",
      "        (2): Conv2d(30, 20, kernel_size=(1, 1), stride=(1, 1))\n",
      "      )\n",
      "      (branch2): Sequential(\n",
      "        (0): BatchNorm2d(30, eps=1e-05, momentum=0.1, affine=True, track_running_stats=True)\n",
      "        (1): ReLU(inplace)\n",
      "        (2): Conv2d(30, 20, kernel_size=(1, 1), stride=(1, 1))\n",
      "      )\n",
      "    )\n",
      "    (jointable): Jointable()\n",
      "  )\n",
      ")\n"
     ]
    },
    {
     "data": {
      "application/vnd.jupyter.widget-view+json": {
       "model_id": "1322b6b7567a44809da31538b2823f84",
       "version_major": 2,
       "version_minor": 0
      },
      "text/plain": [
       "HBox(children=(IntProgress(value=0, max=150), HTML(value='')))"
      ]
     },
     "metadata": {},
     "output_type": "display_data"
    },
    {
     "name": "stdout",
     "output_type": "stream",
     "text": [
      "learning rate: 0.0001\n",
      "learning rate: 0.01\n",
      "stage 1 of the training: using criterion1\n"
     ]
    },
    {
     "data": {
      "application/vnd.jupyter.widget-view+json": {
       "model_id": "",
       "version_major": 2,
       "version_minor": 0
      },
      "text/plain": [
       "HBox(children=(IntProgress(value=0, description='train', max=157, style=ProgressStyle(description_width='initi…"
      ]
     },
     "metadata": {},
     "output_type": "display_data"
    },
    {
     "name": "stdout",
     "output_type": "stream",
     "text": [
      "validation start\n"
     ]
    },
    {
     "data": {
      "application/vnd.jupyter.widget-view+json": {
       "model_id": "",
       "version_major": 2,
       "version_minor": 0
      },
      "text/plain": [
       "HBox(children=(IntProgress(value=0, description='val', max=2510, style=ProgressStyle(description_width='initia…"
      ]
     },
     "metadata": {},
     "output_type": "display_data"
    },
    {
     "name": "stdout",
     "output_type": "stream",
     "text": [
      "mrmse_nz: 1.996256, rmrmse_nz: 0.952092, mrmse: 0.486163, rmrmse: 0.233587 \n",
      "[2020-04-28 14:33:57,201] epoch: 0 | classification_loss: 1.1452\n",
      "[2020-04-28 14:33:57,359] checkpoint created at /home/ubuntu/ebs/Notebooks/for gaussian/pascal07_counting/model_latest.pt\n",
      "[2020-04-28 14:33:57,510] checkpoint created at /home/ubuntu/ebs/Notebooks/for gaussian/pascal07_counting/model_rmrmse.pt\n",
      "\n",
      "--------------------------------------------------------\n",
      "\n",
      "learning rate: 0.0001\n",
      "learning rate: 0.01\n",
      "stage 1 of the training: using criterion1\n"
     ]
    },
    {
     "data": {
      "application/vnd.jupyter.widget-view+json": {
       "model_id": "",
       "version_major": 2,
       "version_minor": 0
      },
      "text/plain": [
       "HBox(children=(IntProgress(value=0, description='train', max=157, style=ProgressStyle(description_width='initi…"
      ]
     },
     "metadata": {},
     "output_type": "display_data"
    },
    {
     "name": "stdout",
     "output_type": "stream",
     "text": [
      "validation start\n"
     ]
    },
    {
     "data": {
      "application/vnd.jupyter.widget-view+json": {
       "model_id": "",
       "version_major": 2,
       "version_minor": 0
      },
      "text/plain": [
       "HBox(children=(IntProgress(value=0, description='val', max=2510, style=ProgressStyle(description_width='initia…"
      ]
     },
     "metadata": {},
     "output_type": "display_data"
    },
    {
     "name": "stdout",
     "output_type": "stream",
     "text": [
      "mrmse_nz: 1.862249, rmrmse_nz: 0.887049, mrmse: 0.449106, rmrmse: 0.223018 \n",
      "[2020-04-28 14:36:25,622] epoch: 1 | classification_loss: 0.6962\n",
      "[2020-04-28 14:36:26,170] checkpoint created at /home/ubuntu/ebs/Notebooks/for gaussian/pascal07_counting/model_latest.pt\n",
      "[2020-04-28 14:36:27,578] checkpoint created at /home/ubuntu/ebs/Notebooks/for gaussian/pascal07_counting/model_rmrmse.pt\n",
      "\n",
      "--------------------------------------------------------\n",
      "\n",
      "learning rate: 0.0001\n",
      "learning rate: 0.01\n",
      "stage 1 of the training: using criterion1\n"
     ]
    },
    {
     "data": {
      "application/vnd.jupyter.widget-view+json": {
       "model_id": "",
       "version_major": 2,
       "version_minor": 0
      },
      "text/plain": [
       "HBox(children=(IntProgress(value=0, description='train', max=157, style=ProgressStyle(description_width='initi…"
      ]
     },
     "metadata": {},
     "output_type": "display_data"
    },
    {
     "name": "stdout",
     "output_type": "stream",
     "text": [
      "validation start\n"
     ]
    },
    {
     "data": {
      "application/vnd.jupyter.widget-view+json": {
       "model_id": "",
       "version_major": 2,
       "version_minor": 0
      },
      "text/plain": [
       "HBox(children=(IntProgress(value=0, description='val', max=2510, style=ProgressStyle(description_width='initia…"
      ]
     },
     "metadata": {},
     "output_type": "display_data"
    },
    {
     "name": "stdout",
     "output_type": "stream",
     "text": [
      "mrmse_nz: 1.665098, rmrmse_nz: 0.782684, mrmse: 0.412990, rmrmse: 0.210826 \n",
      "[2020-04-28 14:38:56,544] epoch: 2 | classification_loss: 0.6122\n",
      "[2020-04-28 14:38:57,094] checkpoint created at /home/ubuntu/ebs/Notebooks/for gaussian/pascal07_counting/model_latest.pt\n",
      "[2020-04-28 14:38:58,504] checkpoint created at /home/ubuntu/ebs/Notebooks/for gaussian/pascal07_counting/model_rmrmse.pt\n",
      "\n",
      "--------------------------------------------------------\n",
      "\n",
      "learning rate: 0.0001\n",
      "learning rate: 0.01\n",
      "stage 1 of the training: using criterion1\n"
     ]
    },
    {
     "data": {
      "application/vnd.jupyter.widget-view+json": {
       "model_id": "",
       "version_major": 2,
       "version_minor": 0
      },
      "text/plain": [
       "HBox(children=(IntProgress(value=0, description='train', max=157, style=ProgressStyle(description_width='initi…"
      ]
     },
     "metadata": {},
     "output_type": "display_data"
    },
    {
     "name": "stdout",
     "output_type": "stream",
     "text": [
      "validation start\n"
     ]
    },
    {
     "data": {
      "application/vnd.jupyter.widget-view+json": {
       "model_id": "",
       "version_major": 2,
       "version_minor": 0
      },
      "text/plain": [
       "HBox(children=(IntProgress(value=0, description='val', max=2510, style=ProgressStyle(description_width='initia…"
      ]
     },
     "metadata": {},
     "output_type": "display_data"
    },
    {
     "name": "stdout",
     "output_type": "stream",
     "text": [
      "mrmse_nz: 1.593913, rmrmse_nz: 0.760404, mrmse: 0.397821, rmrmse: 0.209346 \n",
      "[2020-04-28 14:41:29,606] epoch: 3 | classification_loss: 0.5253\n",
      "[2020-04-28 14:41:30,156] checkpoint created at /home/ubuntu/ebs/Notebooks/for gaussian/pascal07_counting/model_latest.pt\n",
      "[2020-04-28 14:41:31,561] checkpoint created at /home/ubuntu/ebs/Notebooks/for gaussian/pascal07_counting/model_rmrmse.pt\n",
      "\n",
      "--------------------------------------------------------\n",
      "\n",
      "learning rate: 0.0001\n",
      "learning rate: 0.01\n",
      "stage 1 of the training: using criterion1\n"
     ]
    },
    {
     "data": {
      "application/vnd.jupyter.widget-view+json": {
       "model_id": "",
       "version_major": 2,
       "version_minor": 0
      },
      "text/plain": [
       "HBox(children=(IntProgress(value=0, description='train', max=157, style=ProgressStyle(description_width='initi…"
      ]
     },
     "metadata": {},
     "output_type": "display_data"
    },
    {
     "name": "stdout",
     "output_type": "stream",
     "text": [
      "validation start\n"
     ]
    },
    {
     "data": {
      "application/vnd.jupyter.widget-view+json": {
       "model_id": "",
       "version_major": 2,
       "version_minor": 0
      },
      "text/plain": [
       "HBox(children=(IntProgress(value=0, description='val', max=2510, style=ProgressStyle(description_width='initia…"
      ]
     },
     "metadata": {},
     "output_type": "display_data"
    },
    {
     "name": "stdout",
     "output_type": "stream",
     "text": [
      "mrmse_nz: 1.456436, rmrmse_nz: 0.687531, mrmse: 0.375482, rmrmse: 0.213920 \n",
      "[2020-04-28 14:44:00,791] epoch: 4 | classification_loss: 0.4699\n",
      "[2020-04-28 14:44:01,333] checkpoint created at /home/ubuntu/ebs/Notebooks/for gaussian/pascal07_counting/model_latest.pt\n",
      "[2020-04-28 14:44:01,485] checkpoint created at /home/ubuntu/ebs/Notebooks/for gaussian/pascal07_counting/model_mrmse.pt\n",
      "\n",
      "--------------------------------------------------------\n",
      "\n",
      "learning rate: 0.0001\n",
      "learning rate: 0.01\n",
      "stage 1 of the training: using criterion1\n"
     ]
    },
    {
     "data": {
      "application/vnd.jupyter.widget-view+json": {
       "model_id": "",
       "version_major": 2,
       "version_minor": 0
      },
      "text/plain": [
       "HBox(children=(IntProgress(value=0, description='train', max=157, style=ProgressStyle(description_width='initi…"
      ]
     },
     "metadata": {},
     "output_type": "display_data"
    },
    {
     "name": "stdout",
     "output_type": "stream",
     "text": [
      "validation start\n"
     ]
    },
    {
     "data": {
      "application/vnd.jupyter.widget-view+json": {
       "model_id": "",
       "version_major": 2,
       "version_minor": 0
      },
      "text/plain": [
       "HBox(children=(IntProgress(value=0, description='val', max=2510, style=ProgressStyle(description_width='initia…"
      ]
     },
     "metadata": {},
     "output_type": "display_data"
    },
    {
     "name": "stdout",
     "output_type": "stream",
     "text": [
      "mrmse_nz: 1.388973, rmrmse_nz: 0.669053, mrmse: 0.366515, rmrmse: 0.210050 \n",
      "[2020-04-28 14:46:31,577] epoch: 5 | classification_loss: 0.4469\n",
      "[2020-04-28 14:46:32,129] checkpoint created at /home/ubuntu/ebs/Notebooks/for gaussian/pascal07_counting/model_latest.pt\n",
      "[2020-04-28 14:46:33,540] checkpoint created at /home/ubuntu/ebs/Notebooks/for gaussian/pascal07_counting/model_mrmse.pt\n",
      "\n",
      "--------------------------------------------------------\n",
      "\n",
      "learning rate: 0.0001\n",
      "learning rate: 0.01\n",
      "stage 1 of the training: using criterion1\n"
     ]
    },
    {
     "data": {
      "application/vnd.jupyter.widget-view+json": {
       "model_id": "",
       "version_major": 2,
       "version_minor": 0
      },
      "text/plain": [
       "HBox(children=(IntProgress(value=0, description='train', max=157, style=ProgressStyle(description_width='initi…"
      ]
     },
     "metadata": {},
     "output_type": "display_data"
    },
    {
     "name": "stdout",
     "output_type": "stream",
     "text": [
      "validation start\n"
     ]
    },
    {
     "data": {
      "application/vnd.jupyter.widget-view+json": {
       "model_id": "",
       "version_major": 2,
       "version_minor": 0
      },
      "text/plain": [
       "HBox(children=(IntProgress(value=0, description='val', max=2510, style=ProgressStyle(description_width='initia…"
      ]
     },
     "metadata": {},
     "output_type": "display_data"
    },
    {
     "name": "stdout",
     "output_type": "stream",
     "text": [
      "mrmse_nz: 1.324103, rmrmse_nz: 0.627919, mrmse: 0.360855, rmrmse: 0.205906 \n",
      "[2020-04-28 14:49:03,205] epoch: 6 | classification_loss: 0.4153\n",
      "[2020-04-28 14:49:03,783] checkpoint created at /home/ubuntu/ebs/Notebooks/for gaussian/pascal07_counting/model_latest.pt\n",
      "[2020-04-28 14:49:05,192] checkpoint created at /home/ubuntu/ebs/Notebooks/for gaussian/pascal07_counting/model_rmrmse.pt\n",
      "\n",
      "--------------------------------------------------------\n",
      "\n",
      "learning rate: 0.0001\n",
      "learning rate: 0.01\n",
      "stage 1 of the training: using criterion1\n"
     ]
    },
    {
     "data": {
      "application/vnd.jupyter.widget-view+json": {
       "model_id": "",
       "version_major": 2,
       "version_minor": 0
      },
      "text/plain": [
       "HBox(children=(IntProgress(value=0, description='train', max=157, style=ProgressStyle(description_width='initi…"
      ]
     },
     "metadata": {},
     "output_type": "display_data"
    },
    {
     "name": "stdout",
     "output_type": "stream",
     "text": [
      "validation start\n"
     ]
    },
    {
     "data": {
      "application/vnd.jupyter.widget-view+json": {
       "model_id": "",
       "version_major": 2,
       "version_minor": 0
      },
      "text/plain": [
       "HBox(children=(IntProgress(value=0, description='val', max=2510, style=ProgressStyle(description_width='initia…"
      ]
     },
     "metadata": {},
     "output_type": "display_data"
    },
    {
     "name": "stdout",
     "output_type": "stream",
     "text": [
      "mrmse_nz: 1.311004, rmrmse_nz: 0.630807, mrmse: 0.348104, rmrmse: 0.198327 \n",
      "[2020-04-28 14:51:33,266] epoch: 7 | classification_loss: 0.3818\n",
      "[2020-04-28 14:51:33,812] checkpoint created at /home/ubuntu/ebs/Notebooks/for gaussian/pascal07_counting/model_latest.pt\n",
      "[2020-04-28 14:51:35,224] checkpoint created at /home/ubuntu/ebs/Notebooks/for gaussian/pascal07_counting/model_rmrmse.pt\n",
      "\n",
      "--------------------------------------------------------\n",
      "\n",
      "learning rate: 0.0001\n",
      "learning rate: 0.01\n",
      "stage 1 of the training: using criterion1\n"
     ]
    },
    {
     "data": {
      "application/vnd.jupyter.widget-view+json": {
       "model_id": "",
       "version_major": 2,
       "version_minor": 0
      },
      "text/plain": [
       "HBox(children=(IntProgress(value=0, description='train', max=157, style=ProgressStyle(description_width='initi…"
      ]
     },
     "metadata": {},
     "output_type": "display_data"
    },
    {
     "name": "stdout",
     "output_type": "stream",
     "text": [
      "validation start\n"
     ]
    },
    {
     "data": {
      "application/vnd.jupyter.widget-view+json": {
       "model_id": "",
       "version_major": 2,
       "version_minor": 0
      },
      "text/plain": [
       "HBox(children=(IntProgress(value=0, description='val', max=2510, style=ProgressStyle(description_width='initia…"
      ]
     },
     "metadata": {},
     "output_type": "display_data"
    },
    {
     "name": "stdout",
     "output_type": "stream",
     "text": [
      "mrmse_nz: 1.288785, rmrmse_nz: 0.614540, mrmse: 0.348463, rmrmse: 0.202845 \n",
      "[2020-04-28 14:54:03,609] epoch: 8 | classification_loss: 0.3430\n",
      "[2020-04-28 14:54:04,163] checkpoint created at /home/ubuntu/ebs/Notebooks/for gaussian/pascal07_counting/model_latest.pt\n",
      "[2020-04-28 14:54:04,318] checkpoint created at /home/ubuntu/ebs/Notebooks/for gaussian/pascal07_counting/model_rmrmse_nz.pt\n",
      "\n",
      "--------------------------------------------------------\n",
      "\n",
      "learning rate: 0.0001\n",
      "learning rate: 0.01\n",
      "stage 1 of the training: using criterion1\n"
     ]
    },
    {
     "data": {
      "application/vnd.jupyter.widget-view+json": {
       "model_id": "",
       "version_major": 2,
       "version_minor": 0
      },
      "text/plain": [
       "HBox(children=(IntProgress(value=0, description='train', max=157, style=ProgressStyle(description_width='initi…"
      ]
     },
     "metadata": {},
     "output_type": "display_data"
    },
    {
     "name": "stdout",
     "output_type": "stream",
     "text": [
      "validation start\n"
     ]
    },
    {
     "data": {
      "application/vnd.jupyter.widget-view+json": {
       "model_id": "",
       "version_major": 2,
       "version_minor": 0
      },
      "text/plain": [
       "HBox(children=(IntProgress(value=0, description='val', max=2510, style=ProgressStyle(description_width='initia…"
      ]
     },
     "metadata": {},
     "output_type": "display_data"
    },
    {
     "name": "stdout",
     "output_type": "stream",
     "text": [
      "mrmse_nz: 1.271469, rmrmse_nz: 0.608399, mrmse: 0.349227, rmrmse: 0.206734 \n",
      "[2020-04-28 14:56:33,311] epoch: 9 | classification_loss: 0.3428\n",
      "[2020-04-28 14:56:33,859] checkpoint created at /home/ubuntu/ebs/Notebooks/for gaussian/pascal07_counting/model_latest.pt\n",
      "[2020-04-28 14:56:35,268] checkpoint created at /home/ubuntu/ebs/Notebooks/for gaussian/pascal07_counting/model_rmrmse_nz.pt\n",
      "\n",
      "--------------------------------------------------------\n",
      "\n",
      "learning rate: 0.0001\n",
      "learning rate: 0.01\n",
      "stage 1 of the training: using criterion1\n"
     ]
    },
    {
     "data": {
      "application/vnd.jupyter.widget-view+json": {
       "model_id": "",
       "version_major": 2,
       "version_minor": 0
      },
      "text/plain": [
       "HBox(children=(IntProgress(value=0, description='train', max=157, style=ProgressStyle(description_width='initi…"
      ]
     },
     "metadata": {},
     "output_type": "display_data"
    },
    {
     "name": "stdout",
     "output_type": "stream",
     "text": [
      "validation start\n"
     ]
    },
    {
     "data": {
      "application/vnd.jupyter.widget-view+json": {
       "model_id": "",
       "version_major": 2,
       "version_minor": 0
      },
      "text/plain": [
       "HBox(children=(IntProgress(value=0, description='val', max=2510, style=ProgressStyle(description_width='initia…"
      ]
     },
     "metadata": {},
     "output_type": "display_data"
    },
    {
     "name": "stdout",
     "output_type": "stream",
     "text": [
      "mrmse_nz: 1.263322, rmrmse_nz: 0.603515, mrmse: 0.350687, rmrmse: 0.205985 \n",
      "[2020-04-28 14:59:04,697] epoch: 10 | classification_loss: 0.3049\n",
      "[2020-04-28 14:59:05,248] checkpoint created at /home/ubuntu/ebs/Notebooks/for gaussian/pascal07_counting/model_latest.pt\n",
      "[2020-04-28 14:59:06,653] checkpoint created at /home/ubuntu/ebs/Notebooks/for gaussian/pascal07_counting/model_rmrmse_nz.pt\n",
      "\n",
      "--------------------------------------------------------\n",
      "\n",
      "learning rate: 0.0001\n",
      "learning rate: 0.01\n",
      "stage 1 of the training: using criterion1\n"
     ]
    },
    {
     "data": {
      "application/vnd.jupyter.widget-view+json": {
       "model_id": "",
       "version_major": 2,
       "version_minor": 0
      },
      "text/plain": [
       "HBox(children=(IntProgress(value=0, description='train', max=157, style=ProgressStyle(description_width='initi…"
      ]
     },
     "metadata": {},
     "output_type": "display_data"
    },
    {
     "name": "stdout",
     "output_type": "stream",
     "text": [
      "validation start\n"
     ]
    },
    {
     "data": {
      "application/vnd.jupyter.widget-view+json": {
       "model_id": "",
       "version_major": 2,
       "version_minor": 0
      },
      "text/plain": [
       "HBox(children=(IntProgress(value=0, description='val', max=2510, style=ProgressStyle(description_width='initia…"
      ]
     },
     "metadata": {},
     "output_type": "display_data"
    },
    {
     "name": "stdout",
     "output_type": "stream",
     "text": [
      "mrmse_nz: 1.228886, rmrmse_nz: 0.600067, mrmse: 0.332982, rmrmse: 0.197557 \n",
      "[2020-04-28 15:01:36,565] epoch: 11 | classification_loss: 0.2801\n",
      "[2020-04-28 15:01:37,123] checkpoint created at /home/ubuntu/ebs/Notebooks/for gaussian/pascal07_counting/model_latest.pt\n",
      "[2020-04-28 15:01:38,530] checkpoint created at /home/ubuntu/ebs/Notebooks/for gaussian/pascal07_counting/model_rmrmse.pt\n",
      "\n",
      "--------------------------------------------------------\n",
      "\n",
      "learning rate: 0.0001\n",
      "learning rate: 0.01\n",
      "stage 1 of the training: using criterion1\n"
     ]
    },
    {
     "data": {
      "application/vnd.jupyter.widget-view+json": {
       "model_id": "",
       "version_major": 2,
       "version_minor": 0
      },
      "text/plain": [
       "HBox(children=(IntProgress(value=0, description='train', max=157, style=ProgressStyle(description_width='initi…"
      ]
     },
     "metadata": {},
     "output_type": "display_data"
    },
    {
     "name": "stdout",
     "output_type": "stream",
     "text": [
      "validation start\n"
     ]
    },
    {
     "data": {
      "application/vnd.jupyter.widget-view+json": {
       "model_id": "",
       "version_major": 2,
       "version_minor": 0
      },
      "text/plain": [
       "HBox(children=(IntProgress(value=0, description='val', max=2510, style=ProgressStyle(description_width='initia…"
      ]
     },
     "metadata": {},
     "output_type": "display_data"
    },
    {
     "name": "stdout",
     "output_type": "stream",
     "text": [
      "mrmse_nz: 1.190770, rmrmse_nz: 0.585913, mrmse: 0.331591, rmrmse: 0.203255 \n",
      "[2020-04-28 15:04:08,402] epoch: 12 | classification_loss: 0.2520\n",
      "[2020-04-28 15:04:08,962] checkpoint created at /home/ubuntu/ebs/Notebooks/for gaussian/pascal07_counting/model_latest.pt\n",
      "[2020-04-28 15:04:10,363] checkpoint created at /home/ubuntu/ebs/Notebooks/for gaussian/pascal07_counting/model_mrmse.pt\n",
      "\n",
      "--------------------------------------------------------\n",
      "\n",
      "learning rate: 0.0001\n",
      "learning rate: 0.01\n",
      "stage 1 of the training: using criterion1\n"
     ]
    },
    {
     "data": {
      "application/vnd.jupyter.widget-view+json": {
       "model_id": "",
       "version_major": 2,
       "version_minor": 0
      },
      "text/plain": [
       "HBox(children=(IntProgress(value=0, description='train', max=157, style=ProgressStyle(description_width='initi…"
      ]
     },
     "metadata": {},
     "output_type": "display_data"
    },
    {
     "name": "stdout",
     "output_type": "stream",
     "text": [
      "validation start\n"
     ]
    },
    {
     "data": {
      "application/vnd.jupyter.widget-view+json": {
       "model_id": "",
       "version_major": 2,
       "version_minor": 0
      },
      "text/plain": [
       "HBox(children=(IntProgress(value=0, description='val', max=2510, style=ProgressStyle(description_width='initia…"
      ]
     },
     "metadata": {},
     "output_type": "display_data"
    },
    {
     "name": "stdout",
     "output_type": "stream",
     "text": [
      "mrmse_nz: 1.235475, rmrmse_nz: 0.591548, mrmse: 0.333045, rmrmse: 0.190680 \n",
      "[2020-04-28 15:06:39,641] epoch: 13 | classification_loss: 0.2445\n",
      "[2020-04-28 15:06:40,191] checkpoint created at /home/ubuntu/ebs/Notebooks/for gaussian/pascal07_counting/model_latest.pt\n",
      "[2020-04-28 15:06:41,601] checkpoint created at /home/ubuntu/ebs/Notebooks/for gaussian/pascal07_counting/model_rmrmse.pt\n",
      "\n",
      "--------------------------------------------------------\n",
      "\n",
      "learning rate: 0.0001\n",
      "learning rate: 0.01\n",
      "stage 1 of the training: using criterion1\n"
     ]
    },
    {
     "data": {
      "application/vnd.jupyter.widget-view+json": {
       "model_id": "",
       "version_major": 2,
       "version_minor": 0
      },
      "text/plain": [
       "HBox(children=(IntProgress(value=0, description='train', max=157, style=ProgressStyle(description_width='initi…"
      ]
     },
     "metadata": {},
     "output_type": "display_data"
    },
    {
     "name": "stdout",
     "output_type": "stream",
     "text": [
      "validation start\n"
     ]
    },
    {
     "data": {
      "application/vnd.jupyter.widget-view+json": {
       "model_id": "",
       "version_major": 2,
       "version_minor": 0
      },
      "text/plain": [
       "HBox(children=(IntProgress(value=0, description='val', max=2510, style=ProgressStyle(description_width='initia…"
      ]
     },
     "metadata": {},
     "output_type": "display_data"
    },
    {
     "name": "stdout",
     "output_type": "stream",
     "text": [
      "mrmse_nz: 1.233505, rmrmse_nz: 0.603516, mrmse: 0.338687, rmrmse: 0.200571 \n",
      "[2020-04-28 15:09:10,374] epoch: 14 | classification_loss: 0.2275\n",
      "[2020-04-28 15:09:10,927] checkpoint created at /home/ubuntu/ebs/Notebooks/for gaussian/pascal07_counting/model_latest.pt\n",
      "\n",
      "--------------------------------------------------------\n",
      "\n",
      "learning rate: 0.0001\n",
      "learning rate: 0.01\n",
      "stage 1 of the training: using criterion1\n"
     ]
    },
    {
     "data": {
      "application/vnd.jupyter.widget-view+json": {
       "model_id": "",
       "version_major": 2,
       "version_minor": 0
      },
      "text/plain": [
       "HBox(children=(IntProgress(value=0, description='train', max=157, style=ProgressStyle(description_width='initi…"
      ]
     },
     "metadata": {},
     "output_type": "display_data"
    },
    {
     "name": "stdout",
     "output_type": "stream",
     "text": [
      "validation start\n"
     ]
    },
    {
     "data": {
      "application/vnd.jupyter.widget-view+json": {
       "model_id": "",
       "version_major": 2,
       "version_minor": 0
      },
      "text/plain": [
       "HBox(children=(IntProgress(value=0, description='val', max=2510, style=ProgressStyle(description_width='initia…"
      ]
     },
     "metadata": {},
     "output_type": "display_data"
    },
    {
     "name": "stdout",
     "output_type": "stream",
     "text": [
      "mrmse_nz: 1.219917, rmrmse_nz: 0.585381, mrmse: 0.332265, rmrmse: 0.198312 \n",
      "[2020-04-28 15:11:40,424] epoch: 15 | classification_loss: 0.2049\n",
      "[2020-04-28 15:11:40,985] checkpoint created at /home/ubuntu/ebs/Notebooks/for gaussian/pascal07_counting/model_latest.pt\n",
      "[2020-04-28 15:11:42,399] checkpoint created at /home/ubuntu/ebs/Notebooks/for gaussian/pascal07_counting/model_rmrmse_nz.pt\n",
      "\n",
      "--------------------------------------------------------\n",
      "\n",
      "learning rate: 0.0001\n",
      "learning rate: 0.01\n",
      "stage 1 of the training: using criterion1\n"
     ]
    },
    {
     "data": {
      "application/vnd.jupyter.widget-view+json": {
       "model_id": "",
       "version_major": 2,
       "version_minor": 0
      },
      "text/plain": [
       "HBox(children=(IntProgress(value=0, description='train', max=157, style=ProgressStyle(description_width='initi…"
      ]
     },
     "metadata": {},
     "output_type": "display_data"
    },
    {
     "name": "stdout",
     "output_type": "stream",
     "text": [
      "validation start\n"
     ]
    },
    {
     "data": {
      "application/vnd.jupyter.widget-view+json": {
       "model_id": "",
       "version_major": 2,
       "version_minor": 0
      },
      "text/plain": [
       "HBox(children=(IntProgress(value=0, description='val', max=2510, style=ProgressStyle(description_width='initia…"
      ]
     },
     "metadata": {},
     "output_type": "display_data"
    },
    {
     "name": "stdout",
     "output_type": "stream",
     "text": [
      "mrmse_nz: 1.208781, rmrmse_nz: 0.600814, mrmse: 0.333929, rmrmse: 0.207639 \n",
      "[2020-04-28 15:14:11,643] epoch: 16 | classification_loss: 0.1969\n",
      "[2020-04-28 15:14:12,216] checkpoint created at /home/ubuntu/ebs/Notebooks/for gaussian/pascal07_counting/model_latest.pt\n",
      "\n",
      "--------------------------------------------------------\n",
      "\n",
      "learning rate: 0.0001\n",
      "learning rate: 0.01\n",
      "stage 1 of the training: using criterion1\n"
     ]
    },
    {
     "data": {
      "application/vnd.jupyter.widget-view+json": {
       "model_id": "",
       "version_major": 2,
       "version_minor": 0
      },
      "text/plain": [
       "HBox(children=(IntProgress(value=0, description='train', max=157, style=ProgressStyle(description_width='initi…"
      ]
     },
     "metadata": {},
     "output_type": "display_data"
    },
    {
     "name": "stdout",
     "output_type": "stream",
     "text": [
      "validation start\n"
     ]
    },
    {
     "data": {
      "application/vnd.jupyter.widget-view+json": {
       "model_id": "",
       "version_major": 2,
       "version_minor": 0
      },
      "text/plain": [
       "HBox(children=(IntProgress(value=0, description='val', max=2510, style=ProgressStyle(description_width='initia…"
      ]
     },
     "metadata": {},
     "output_type": "display_data"
    },
    {
     "name": "stdout",
     "output_type": "stream",
     "text": [
      "mrmse_nz: 1.191439, rmrmse_nz: 0.583990, mrmse: 0.334829, rmrmse: 0.208848 \n",
      "[2020-04-28 15:16:40,553] epoch: 17 | classification_loss: 0.1841\n",
      "[2020-04-28 15:16:41,100] checkpoint created at /home/ubuntu/ebs/Notebooks/for gaussian/pascal07_counting/model_latest.pt\n",
      "[2020-04-28 15:16:42,509] checkpoint created at /home/ubuntu/ebs/Notebooks/for gaussian/pascal07_counting/model_rmrmse_nz.pt\n",
      "\n",
      "--------------------------------------------------------\n",
      "\n",
      "learning rate: 0.0001\n",
      "learning rate: 0.01\n",
      "stage 1 of the training: using criterion1\n"
     ]
    },
    {
     "data": {
      "application/vnd.jupyter.widget-view+json": {
       "model_id": "",
       "version_major": 2,
       "version_minor": 0
      },
      "text/plain": [
       "HBox(children=(IntProgress(value=0, description='train', max=157, style=ProgressStyle(description_width='initi…"
      ]
     },
     "metadata": {},
     "output_type": "display_data"
    },
    {
     "name": "stdout",
     "output_type": "stream",
     "text": [
      "validation start\n"
     ]
    },
    {
     "data": {
      "application/vnd.jupyter.widget-view+json": {
       "model_id": "",
       "version_major": 2,
       "version_minor": 0
      },
      "text/plain": [
       "HBox(children=(IntProgress(value=0, description='val', max=2510, style=ProgressStyle(description_width='initia…"
      ]
     },
     "metadata": {},
     "output_type": "display_data"
    },
    {
     "name": "stdout",
     "output_type": "stream",
     "text": [
      "mrmse_nz: 1.191662, rmrmse_nz: 0.585793, mrmse: 0.337888, rmrmse: 0.212763 \n",
      "[2020-04-28 15:19:11,605] epoch: 18 | classification_loss: 0.1884\n",
      "[2020-04-28 15:19:12,155] checkpoint created at /home/ubuntu/ebs/Notebooks/for gaussian/pascal07_counting/model_latest.pt\n",
      "\n",
      "--------------------------------------------------------\n",
      "\n",
      "learning rate: 0.0001\n",
      "learning rate: 0.01\n",
      "stage 1 of the training: using criterion1\n"
     ]
    },
    {
     "data": {
      "application/vnd.jupyter.widget-view+json": {
       "model_id": "",
       "version_major": 2,
       "version_minor": 0
      },
      "text/plain": [
       "HBox(children=(IntProgress(value=0, description='train', max=157, style=ProgressStyle(description_width='initi…"
      ]
     },
     "metadata": {},
     "output_type": "display_data"
    },
    {
     "name": "stdout",
     "output_type": "stream",
     "text": [
      "validation start\n"
     ]
    },
    {
     "data": {
      "application/vnd.jupyter.widget-view+json": {
       "model_id": "",
       "version_major": 2,
       "version_minor": 0
      },
      "text/plain": [
       "HBox(children=(IntProgress(value=0, description='val', max=2510, style=ProgressStyle(description_width='initia…"
      ]
     },
     "metadata": {},
     "output_type": "display_data"
    },
    {
     "name": "stdout",
     "output_type": "stream",
     "text": [
      "mrmse_nz: 1.216744, rmrmse_nz: 0.593849, mrmse: 0.338624, rmrmse: 0.205875 \n",
      "[2020-04-28 15:21:41,821] epoch: 19 | classification_loss: 0.1725\n",
      "[2020-04-28 15:21:42,392] checkpoint created at /home/ubuntu/ebs/Notebooks/for gaussian/pascal07_counting/model_latest.pt\n",
      "\n",
      "--------------------------------------------------------\n",
      "\n",
      "learning rate: 0.0001\n",
      "learning rate: 0.01\n",
      "stage 2 of the training: using criterion2\n"
     ]
    },
    {
     "data": {
      "application/vnd.jupyter.widget-view+json": {
       "model_id": "",
       "version_major": 2,
       "version_minor": 0
      },
      "text/plain": [
       "HBox(children=(IntProgress(value=0, description='train', max=157, style=ProgressStyle(description_width='initi…"
      ]
     },
     "metadata": {},
     "output_type": "display_data"
    },
    {
     "name": "stdout",
     "output_type": "stream",
     "text": [
      "validation start\n"
     ]
    },
    {
     "data": {
      "application/vnd.jupyter.widget-view+json": {
       "model_id": "",
       "version_major": 2,
       "version_minor": 0
      },
      "text/plain": [
       "HBox(children=(IntProgress(value=0, description='val', max=2510, style=ProgressStyle(description_width='initia…"
      ]
     },
     "metadata": {},
     "output_type": "display_data"
    },
    {
     "name": "stdout",
     "output_type": "stream",
     "text": [
      "mrmse_nz: 1.499425, rmrmse_nz: 0.716757, mrmse: 0.362728, rmrmse: 0.185431 \n",
      "[2020-04-28 15:24:12,320] epoch: 20 | classification_loss: 1.2419\n",
      "[2020-04-28 15:24:12,869] checkpoint created at /home/ubuntu/ebs/Notebooks/for gaussian/pascal07_counting/model_latest.pt\n",
      "[2020-04-28 15:24:14,282] checkpoint created at /home/ubuntu/ebs/Notebooks/for gaussian/pascal07_counting/model_rmrmse.pt\n",
      "\n",
      "--------------------------------------------------------\n",
      "\n",
      "learning rate: 0.0001\n",
      "learning rate: 0.01\n",
      "stage 2 of the training: using criterion2\n"
     ]
    },
    {
     "data": {
      "application/vnd.jupyter.widget-view+json": {
       "model_id": "",
       "version_major": 2,
       "version_minor": 0
      },
      "text/plain": [
       "HBox(children=(IntProgress(value=0, description='train', max=157, style=ProgressStyle(description_width='initi…"
      ]
     },
     "metadata": {},
     "output_type": "display_data"
    },
    {
     "name": "stdout",
     "output_type": "stream",
     "text": [
      "validation start\n"
     ]
    },
    {
     "data": {
      "application/vnd.jupyter.widget-view+json": {
       "model_id": "",
       "version_major": 2,
       "version_minor": 0
      },
      "text/plain": [
       "HBox(children=(IntProgress(value=0, description='val', max=2510, style=ProgressStyle(description_width='initia…"
      ]
     },
     "metadata": {},
     "output_type": "display_data"
    },
    {
     "name": "stdout",
     "output_type": "stream",
     "text": [
      "mrmse_nz: 1.438527, rmrmse_nz: 0.682220, mrmse: 0.350496, rmrmse: 0.180398 \n",
      "[2020-04-28 15:26:43,100] epoch: 21 | classification_loss: 0.9528\n",
      "[2020-04-28 15:26:43,646] checkpoint created at /home/ubuntu/ebs/Notebooks/for gaussian/pascal07_counting/model_latest.pt\n",
      "[2020-04-28 15:26:45,057] checkpoint created at /home/ubuntu/ebs/Notebooks/for gaussian/pascal07_counting/model_rmrmse.pt\n",
      "\n",
      "--------------------------------------------------------\n",
      "\n",
      "learning rate: 0.0001\n",
      "learning rate: 0.01\n",
      "stage 2 of the training: using criterion2\n"
     ]
    },
    {
     "data": {
      "application/vnd.jupyter.widget-view+json": {
       "model_id": "",
       "version_major": 2,
       "version_minor": 0
      },
      "text/plain": [
       "HBox(children=(IntProgress(value=0, description='train', max=157, style=ProgressStyle(description_width='initi…"
      ]
     },
     "metadata": {},
     "output_type": "display_data"
    },
    {
     "name": "stdout",
     "output_type": "stream",
     "text": [
      "validation start\n"
     ]
    },
    {
     "data": {
      "application/vnd.jupyter.widget-view+json": {
       "model_id": "",
       "version_major": 2,
       "version_minor": 0
      },
      "text/plain": [
       "HBox(children=(IntProgress(value=0, description='val', max=2510, style=ProgressStyle(description_width='initia…"
      ]
     },
     "metadata": {},
     "output_type": "display_data"
    },
    {
     "name": "stdout",
     "output_type": "stream",
     "text": [
      "mrmse_nz: 1.405960, rmrmse_nz: 0.660006, mrmse: 0.342516, rmrmse: 0.172382 \n",
      "[2020-04-28 15:29:13,469] epoch: 22 | classification_loss: 0.9132\n",
      "[2020-04-28 15:29:14,017] checkpoint created at /home/ubuntu/ebs/Notebooks/for gaussian/pascal07_counting/model_latest.pt\n",
      "[2020-04-28 15:29:15,428] checkpoint created at /home/ubuntu/ebs/Notebooks/for gaussian/pascal07_counting/model_rmrmse.pt\n",
      "\n",
      "--------------------------------------------------------\n",
      "\n",
      "learning rate: 0.0001\n",
      "learning rate: 0.01\n",
      "stage 2 of the training: using criterion2\n"
     ]
    },
    {
     "data": {
      "application/vnd.jupyter.widget-view+json": {
       "model_id": "",
       "version_major": 2,
       "version_minor": 0
      },
      "text/plain": [
       "HBox(children=(IntProgress(value=0, description='train', max=157, style=ProgressStyle(description_width='initi…"
      ]
     },
     "metadata": {},
     "output_type": "display_data"
    },
    {
     "name": "stdout",
     "output_type": "stream",
     "text": [
      "validation start\n"
     ]
    },
    {
     "data": {
      "application/vnd.jupyter.widget-view+json": {
       "model_id": "",
       "version_major": 2,
       "version_minor": 0
      },
      "text/plain": [
       "HBox(children=(IntProgress(value=0, description='val', max=2510, style=ProgressStyle(description_width='initia…"
      ]
     },
     "metadata": {},
     "output_type": "display_data"
    },
    {
     "name": "stdout",
     "output_type": "stream",
     "text": [
      "mrmse_nz: 1.377098, rmrmse_nz: 0.642115, mrmse: 0.334881, rmrmse: 0.167751 \n",
      "[2020-04-28 15:31:44,429] epoch: 23 | classification_loss: 0.8938\n",
      "[2020-04-28 15:31:44,981] checkpoint created at /home/ubuntu/ebs/Notebooks/for gaussian/pascal07_counting/model_latest.pt\n",
      "[2020-04-28 15:31:46,388] checkpoint created at /home/ubuntu/ebs/Notebooks/for gaussian/pascal07_counting/model_rmrmse.pt\n",
      "\n",
      "--------------------------------------------------------\n",
      "\n",
      "learning rate: 0.0001\n",
      "learning rate: 0.01\n",
      "stage 2 of the training: using criterion2\n"
     ]
    },
    {
     "data": {
      "application/vnd.jupyter.widget-view+json": {
       "model_id": "",
       "version_major": 2,
       "version_minor": 0
      },
      "text/plain": [
       "HBox(children=(IntProgress(value=0, description='train', max=157, style=ProgressStyle(description_width='initi…"
      ]
     },
     "metadata": {},
     "output_type": "display_data"
    },
    {
     "name": "stdout",
     "output_type": "stream",
     "text": [
      "validation start\n"
     ]
    },
    {
     "data": {
      "application/vnd.jupyter.widget-view+json": {
       "model_id": "",
       "version_major": 2,
       "version_minor": 0
      },
      "text/plain": [
       "HBox(children=(IntProgress(value=0, description='val', max=2510, style=ProgressStyle(description_width='initia…"
      ]
     },
     "metadata": {},
     "output_type": "display_data"
    },
    {
     "name": "stdout",
     "output_type": "stream",
     "text": [
      "mrmse_nz: 1.362961, rmrmse_nz: 0.640084, mrmse: 0.334083, rmrmse: 0.168695 \n",
      "[2020-04-28 15:34:15,590] epoch: 24 | classification_loss: 0.8779\n",
      "[2020-04-28 15:34:16,140] checkpoint created at /home/ubuntu/ebs/Notebooks/for gaussian/pascal07_counting/model_latest.pt\n",
      "\n",
      "--------------------------------------------------------\n",
      "\n",
      "learning rate: 0.0001\n",
      "learning rate: 0.01\n",
      "stage 2 of the training: using criterion2\n"
     ]
    },
    {
     "data": {
      "application/vnd.jupyter.widget-view+json": {
       "model_id": "",
       "version_major": 2,
       "version_minor": 0
      },
      "text/plain": [
       "HBox(children=(IntProgress(value=0, description='train', max=157, style=ProgressStyle(description_width='initi…"
      ]
     },
     "metadata": {},
     "output_type": "display_data"
    },
    {
     "name": "stdout",
     "output_type": "stream",
     "text": [
      "validation start\n"
     ]
    },
    {
     "data": {
      "application/vnd.jupyter.widget-view+json": {
       "model_id": "",
       "version_major": 2,
       "version_minor": 0
      },
      "text/plain": [
       "HBox(children=(IntProgress(value=0, description='val', max=2510, style=ProgressStyle(description_width='initia…"
      ]
     },
     "metadata": {},
     "output_type": "display_data"
    },
    {
     "name": "stdout",
     "output_type": "stream",
     "text": [
      "mrmse_nz: 1.317248, rmrmse_nz: 0.621743, mrmse: 0.324224, rmrmse: 0.167094 \n",
      "[2020-04-28 15:36:46,060] epoch: 25 | classification_loss: 0.8697\n",
      "[2020-04-28 15:36:46,638] checkpoint created at /home/ubuntu/ebs/Notebooks/for gaussian/pascal07_counting/model_latest.pt\n",
      "[2020-04-28 15:36:48,049] checkpoint created at /home/ubuntu/ebs/Notebooks/for gaussian/pascal07_counting/model_rmrmse.pt\n",
      "\n",
      "--------------------------------------------------------\n",
      "\n",
      "learning rate: 0.0001\n",
      "learning rate: 0.01\n",
      "stage 2 of the training: using criterion2\n"
     ]
    },
    {
     "data": {
      "application/vnd.jupyter.widget-view+json": {
       "model_id": "",
       "version_major": 2,
       "version_minor": 0
      },
      "text/plain": [
       "HBox(children=(IntProgress(value=0, description='train', max=157, style=ProgressStyle(description_width='initi…"
      ]
     },
     "metadata": {},
     "output_type": "display_data"
    },
    {
     "name": "stdout",
     "output_type": "stream",
     "text": [
      "validation start\n"
     ]
    },
    {
     "data": {
      "application/vnd.jupyter.widget-view+json": {
       "model_id": "",
       "version_major": 2,
       "version_minor": 0
      },
      "text/plain": [
       "HBox(children=(IntProgress(value=0, description='val', max=2510, style=ProgressStyle(description_width='initia…"
      ]
     },
     "metadata": {},
     "output_type": "display_data"
    },
    {
     "name": "stdout",
     "output_type": "stream",
     "text": [
      "mrmse_nz: 1.299145, rmrmse_nz: 0.623698, mrmse: 0.323758, rmrmse: 0.170811 \n",
      "[2020-04-28 15:39:16,512] epoch: 26 | classification_loss: 0.8629\n",
      "[2020-04-28 15:39:17,067] checkpoint created at /home/ubuntu/ebs/Notebooks/for gaussian/pascal07_counting/model_latest.pt\n",
      "[2020-04-28 15:39:18,476] checkpoint created at /home/ubuntu/ebs/Notebooks/for gaussian/pascal07_counting/model_mrmse.pt\n",
      "\n",
      "--------------------------------------------------------\n",
      "\n",
      "learning rate: 0.0001\n",
      "learning rate: 0.01\n",
      "stage 2 of the training: using criterion2\n"
     ]
    },
    {
     "data": {
      "application/vnd.jupyter.widget-view+json": {
       "model_id": "",
       "version_major": 2,
       "version_minor": 0
      },
      "text/plain": [
       "HBox(children=(IntProgress(value=0, description='train', max=157, style=ProgressStyle(description_width='initi…"
      ]
     },
     "metadata": {},
     "output_type": "display_data"
    },
    {
     "name": "stdout",
     "output_type": "stream",
     "text": [
      "validation start\n"
     ]
    },
    {
     "data": {
      "application/vnd.jupyter.widget-view+json": {
       "model_id": "4a9af8f79ca74a789ca8590a5d86dd10",
       "version_major": 2,
       "version_minor": 0
      },
      "text/plain": [
       "HBox(children=(IntProgress(value=0, description='val', max=2510, style=ProgressStyle(description_width='initia…"
      ]
     },
     "metadata": {},
     "output_type": "display_data"
    },
    {
     "name": "stdout",
     "output_type": "stream",
     "text": [
      "validation start\n"
     ]
    },
    {
     "data": {
      "application/vnd.jupyter.widget-view+json": {
       "model_id": "",
       "version_major": 2,
       "version_minor": 0
      },
      "text/plain": [
       "HBox(children=(IntProgress(value=0, description='val', max=2510, style=ProgressStyle(description_width='initia…"
      ]
     },
     "metadata": {},
     "output_type": "display_data"
    },
    {
     "name": "stdout",
     "output_type": "stream",
     "text": [
      "mrmse_nz: 1.282609, rmrmse_nz: 0.621946, mrmse: 0.319207, rmrmse: 0.168293 \n",
      "[2020-04-28 15:44:20,280] epoch: 28 | classification_loss: 0.8345\n",
      "[2020-04-28 15:44:20,825] checkpoint created at /home/ubuntu/ebs/Notebooks/for gaussian/pascal07_counting/model_latest.pt\n",
      "\n",
      "--------------------------------------------------------\n",
      "\n",
      "learning rate: 0.0001\n",
      "learning rate: 0.01\n",
      "stage 2 of the training: using criterion2\n"
     ]
    },
    {
     "data": {
      "application/vnd.jupyter.widget-view+json": {
       "model_id": "",
       "version_major": 2,
       "version_minor": 0
      },
      "text/plain": [
       "HBox(children=(IntProgress(value=0, description='train', max=157, style=ProgressStyle(description_width='initi…"
      ]
     },
     "metadata": {},
     "output_type": "display_data"
    },
    {
     "name": "stdout",
     "output_type": "stream",
     "text": [
      "validation start\n"
     ]
    },
    {
     "data": {
      "application/vnd.jupyter.widget-view+json": {
       "model_id": "",
       "version_major": 2,
       "version_minor": 0
      },
      "text/plain": [
       "HBox(children=(IntProgress(value=0, description='val', max=2510, style=ProgressStyle(description_width='initia…"
      ]
     },
     "metadata": {},
     "output_type": "display_data"
    },
    {
     "name": "stdout",
     "output_type": "stream",
     "text": [
      "mrmse_nz: 1.280963, rmrmse_nz: 0.623486, mrmse: 0.316257, rmrmse: 0.165384 \n",
      "[2020-04-28 15:46:49,463] epoch: 29 | classification_loss: 0.8364\n",
      "[2020-04-28 15:46:50,026] checkpoint created at /home/ubuntu/ebs/Notebooks/for gaussian/pascal07_counting/model_latest.pt\n",
      "[2020-04-28 15:46:51,435] checkpoint created at /home/ubuntu/ebs/Notebooks/for gaussian/pascal07_counting/model_rmrmse.pt\n",
      "\n",
      "--------------------------------------------------------\n",
      "\n",
      "learning rate: 0.0001\n",
      "learning rate: 0.01\n",
      "stage 2 of the training: using criterion2\n"
     ]
    },
    {
     "data": {
      "application/vnd.jupyter.widget-view+json": {
       "model_id": "",
       "version_major": 2,
       "version_minor": 0
      },
      "text/plain": [
       "HBox(children=(IntProgress(value=0, description='train', max=157, style=ProgressStyle(description_width='initi…"
      ]
     },
     "metadata": {},
     "output_type": "display_data"
    },
    {
     "name": "stdout",
     "output_type": "stream",
     "text": [
      "validation start\n"
     ]
    },
    {
     "data": {
      "application/vnd.jupyter.widget-view+json": {
       "model_id": "776b50d85ed644debf4b9c257e4eccc6",
       "version_major": 2,
       "version_minor": 0
      },
      "text/plain": [
       "HBox(children=(IntProgress(value=0, description='val', max=2510, style=ProgressStyle(description_width='initia…"
      ]
     },
     "metadata": {},
     "output_type": "display_data"
    },
    {
     "name": "stderr",
     "output_type": "stream",
     "text": [
      "IOPub message rate exceeded.\n",
      "The notebook server will temporarily stop sending output\n",
      "to the client in order to avoid crashing it.\n",
      "To change this limit, set the config variable\n",
      "`--NotebookApp.iopub_msg_rate_limit`.\n",
      "\n",
      "Current values:\n",
      "NotebookApp.iopub_msg_rate_limit=1000.0 (msgs/sec)\n",
      "NotebookApp.rate_limit_window=3.0 (secs)\n",
      "\n"
     ]
    },
    {
     "name": "stdout",
     "output_type": "stream",
     "text": [
      "validation start\n"
     ]
    },
    {
     "data": {
      "application/vnd.jupyter.widget-view+json": {
       "model_id": "",
       "version_major": 2,
       "version_minor": 0
      },
      "text/plain": [
       "HBox(children=(IntProgress(value=0, description='val', max=2510, style=ProgressStyle(description_width='initia…"
      ]
     },
     "metadata": {},
     "output_type": "display_data"
    },
    {
     "name": "stdout",
     "output_type": "stream",
     "text": [
      "mrmse_nz: 1.249895, rmrmse_nz: 0.619600, mrmse: 0.310938, rmrmse: 0.165933 \n",
      "[2020-04-28 15:54:22,856] epoch: 32 | classification_loss: 0.8112\n",
      "[2020-04-28 15:54:23,402] checkpoint created at /home/ubuntu/ebs/Notebooks/for gaussian/pascal07_counting/model_latest.pt\n",
      "[2020-04-28 15:54:24,816] checkpoint created at /home/ubuntu/ebs/Notebooks/for gaussian/pascal07_counting/model_mrmse.pt\n",
      "\n",
      "--------------------------------------------------------\n",
      "\n",
      "learning rate: 0.0001\n",
      "learning rate: 0.01\n",
      "stage 2 of the training: using criterion2\n"
     ]
    },
    {
     "data": {
      "application/vnd.jupyter.widget-view+json": {
       "model_id": "",
       "version_major": 2,
       "version_minor": 0
      },
      "text/plain": [
       "HBox(children=(IntProgress(value=0, description='train', max=157, style=ProgressStyle(description_width='initi…"
      ]
     },
     "metadata": {},
     "output_type": "display_data"
    },
    {
     "name": "stdout",
     "output_type": "stream",
     "text": [
      "validation start\n"
     ]
    },
    {
     "data": {
      "application/vnd.jupyter.widget-view+json": {
       "model_id": "",
       "version_major": 2,
       "version_minor": 0
      },
      "text/plain": [
       "HBox(children=(IntProgress(value=0, description='val', max=2510, style=ProgressStyle(description_width='initia…"
      ]
     },
     "metadata": {},
     "output_type": "display_data"
    },
    {
     "name": "stdout",
     "output_type": "stream",
     "text": [
      "mrmse_nz: 1.257107, rmrmse_nz: 0.619279, mrmse: 0.313114, rmrmse: 0.165984 \n",
      "[2020-04-28 15:56:53,749] epoch: 33 | classification_loss: 0.8170\n",
      "[2020-04-28 15:56:54,308] checkpoint created at /home/ubuntu/ebs/Notebooks/for gaussian/pascal07_counting/model_latest.pt\n",
      "\n",
      "--------------------------------------------------------\n",
      "\n",
      "learning rate: 0.0001\n",
      "learning rate: 0.01\n",
      "stage 2 of the training: using criterion2\n"
     ]
    },
    {
     "data": {
      "application/vnd.jupyter.widget-view+json": {
       "model_id": "",
       "version_major": 2,
       "version_minor": 0
      },
      "text/plain": [
       "HBox(children=(IntProgress(value=0, description='train', max=157, style=ProgressStyle(description_width='initi…"
      ]
     },
     "metadata": {},
     "output_type": "display_data"
    },
    {
     "name": "stdout",
     "output_type": "stream",
     "text": [
      "validation start\n"
     ]
    },
    {
     "data": {
      "application/vnd.jupyter.widget-view+json": {
       "model_id": "",
       "version_major": 2,
       "version_minor": 0
      },
      "text/plain": [
       "HBox(children=(IntProgress(value=0, description='val', max=2510, style=ProgressStyle(description_width='initia…"
      ]
     },
     "metadata": {},
     "output_type": "display_data"
    },
    {
     "name": "stdout",
     "output_type": "stream",
     "text": [
      "mrmse_nz: 1.242320, rmrmse_nz: 0.630864, mrmse: 0.311187, rmrmse: 0.169742 \n",
      "[2020-04-28 15:59:23,877] epoch: 34 | classification_loss: 0.8018\n",
      "[2020-04-28 15:59:24,428] checkpoint created at /home/ubuntu/ebs/Notebooks/for gaussian/pascal07_counting/model_latest.pt\n",
      "\n",
      "--------------------------------------------------------\n",
      "\n",
      "learning rate: 0.0001\n",
      "learning rate: 0.01\n",
      "stage 2 of the training: using criterion2\n"
     ]
    },
    {
     "data": {
      "application/vnd.jupyter.widget-view+json": {
       "model_id": "",
       "version_major": 2,
       "version_minor": 0
      },
      "text/plain": [
       "HBox(children=(IntProgress(value=0, description='train', max=157, style=ProgressStyle(description_width='initi…"
      ]
     },
     "metadata": {},
     "output_type": "display_data"
    },
    {
     "name": "stdout",
     "output_type": "stream",
     "text": [
      "validation start\n"
     ]
    },
    {
     "data": {
      "application/vnd.jupyter.widget-view+json": {
       "model_id": "",
       "version_major": 2,
       "version_minor": 0
      },
      "text/plain": [
       "HBox(children=(IntProgress(value=0, description='val', max=2510, style=ProgressStyle(description_width='initia…"
      ]
     },
     "metadata": {},
     "output_type": "display_data"
    },
    {
     "name": "stdout",
     "output_type": "stream",
     "text": [
      "mrmse_nz: 1.237566, rmrmse_nz: 0.615781, mrmse: 0.311199, rmrmse: 0.168779 \n",
      "[2020-04-28 16:01:53,554] epoch: 35 | classification_loss: 0.8042\n",
      "[2020-04-28 16:01:54,103] checkpoint created at /home/ubuntu/ebs/Notebooks/for gaussian/pascal07_counting/model_latest.pt\n",
      "\n",
      "--------------------------------------------------------\n",
      "\n",
      "learning rate: 0.0001\n",
      "learning rate: 0.01\n",
      "stage 2 of the training: using criterion2\n"
     ]
    },
    {
     "data": {
      "application/vnd.jupyter.widget-view+json": {
       "model_id": "",
       "version_major": 2,
       "version_minor": 0
      },
      "text/plain": [
       "HBox(children=(IntProgress(value=0, description='train', max=157, style=ProgressStyle(description_width='initi…"
      ]
     },
     "metadata": {},
     "output_type": "display_data"
    },
    {
     "name": "stdout",
     "output_type": "stream",
     "text": [
      "validation start\n"
     ]
    },
    {
     "data": {
      "application/vnd.jupyter.widget-view+json": {
       "model_id": "",
       "version_major": 2,
       "version_minor": 0
      },
      "text/plain": [
       "HBox(children=(IntProgress(value=0, description='val', max=2510, style=ProgressStyle(description_width='initia…"
      ]
     },
     "metadata": {},
     "output_type": "display_data"
    },
    {
     "name": "stdout",
     "output_type": "stream",
     "text": [
      "mrmse_nz: 1.252324, rmrmse_nz: 0.617503, mrmse: 0.311072, rmrmse: 0.164557 \n",
      "[2020-04-28 16:04:23,426] epoch: 36 | classification_loss: 0.8007\n",
      "[2020-04-28 16:04:23,975] checkpoint created at /home/ubuntu/ebs/Notebooks/for gaussian/pascal07_counting/model_latest.pt\n",
      "\n",
      "--------------------------------------------------------\n",
      "\n",
      "learning rate: 0.0001\n",
      "learning rate: 0.01\n",
      "stage 2 of the training: using criterion2\n"
     ]
    },
    {
     "data": {
      "application/vnd.jupyter.widget-view+json": {
       "model_id": "",
       "version_major": 2,
       "version_minor": 0
      },
      "text/plain": [
       "HBox(children=(IntProgress(value=0, description='train', max=157, style=ProgressStyle(description_width='initi…"
      ]
     },
     "metadata": {},
     "output_type": "display_data"
    },
    {
     "name": "stdout",
     "output_type": "stream",
     "text": [
      "validation start\n"
     ]
    },
    {
     "data": {
      "application/vnd.jupyter.widget-view+json": {
       "model_id": "",
       "version_major": 2,
       "version_minor": 0
      },
      "text/plain": [
       "HBox(children=(IntProgress(value=0, description='val', max=2510, style=ProgressStyle(description_width='initia…"
      ]
     },
     "metadata": {},
     "output_type": "display_data"
    },
    {
     "name": "stdout",
     "output_type": "stream",
     "text": [
      "mrmse_nz: 1.220042, rmrmse_nz: 0.617755, mrmse: 0.306872, rmrmse: 0.168387 \n",
      "[2020-04-28 16:06:53,121] epoch: 37 | classification_loss: 0.7966\n",
      "[2020-04-28 16:06:53,670] checkpoint created at /home/ubuntu/ebs/Notebooks/for gaussian/pascal07_counting/model_latest.pt\n",
      "[2020-04-28 16:06:55,079] checkpoint created at /home/ubuntu/ebs/Notebooks/for gaussian/pascal07_counting/model_mrmse.pt\n",
      "\n",
      "--------------------------------------------------------\n",
      "\n",
      "learning rate: 0.0001\n",
      "learning rate: 0.01\n",
      "stage 2 of the training: using criterion2\n"
     ]
    },
    {
     "data": {
      "application/vnd.jupyter.widget-view+json": {
       "model_id": "",
       "version_major": 2,
       "version_minor": 0
      },
      "text/plain": [
       "HBox(children=(IntProgress(value=0, description='train', max=157, style=ProgressStyle(description_width='initi…"
      ]
     },
     "metadata": {},
     "output_type": "display_data"
    },
    {
     "name": "stdout",
     "output_type": "stream",
     "text": [
      "validation start\n"
     ]
    },
    {
     "data": {
      "application/vnd.jupyter.widget-view+json": {
       "model_id": "",
       "version_major": 2,
       "version_minor": 0
      },
      "text/plain": [
       "HBox(children=(IntProgress(value=0, description='val', max=2510, style=ProgressStyle(description_width='initia…"
      ]
     },
     "metadata": {},
     "output_type": "display_data"
    },
    {
     "name": "stdout",
     "output_type": "stream",
     "text": [
      "mrmse_nz: 1.247744, rmrmse_nz: 0.628337, mrmse: 0.310699, rmrmse: 0.167815 \n",
      "[2020-04-28 16:09:25,109] epoch: 38 | classification_loss: 0.7865\n",
      "[2020-04-28 16:09:25,657] checkpoint created at /home/ubuntu/ebs/Notebooks/for gaussian/pascal07_counting/model_latest.pt\n",
      "\n",
      "--------------------------------------------------------\n",
      "\n",
      "learning rate: 0.0001\n",
      "learning rate: 0.01\n",
      "stage 2 of the training: using criterion2\n"
     ]
    },
    {
     "data": {
      "application/vnd.jupyter.widget-view+json": {
       "model_id": "",
       "version_major": 2,
       "version_minor": 0
      },
      "text/plain": [
       "HBox(children=(IntProgress(value=0, description='train', max=157, style=ProgressStyle(description_width='initi…"
      ]
     },
     "metadata": {},
     "output_type": "display_data"
    },
    {
     "name": "stdout",
     "output_type": "stream",
     "text": [
      "validation start\n"
     ]
    },
    {
     "data": {
      "application/vnd.jupyter.widget-view+json": {
       "model_id": "",
       "version_major": 2,
       "version_minor": 0
      },
      "text/plain": [
       "HBox(children=(IntProgress(value=0, description='val', max=2510, style=ProgressStyle(description_width='initia…"
      ]
     },
     "metadata": {},
     "output_type": "display_data"
    },
    {
     "name": "stdout",
     "output_type": "stream",
     "text": [
      "mrmse_nz: 1.221363, rmrmse_nz: 0.619273, mrmse: 0.306242, rmrmse: 0.166694 \n",
      "[2020-04-28 16:11:54,785] epoch: 39 | classification_loss: 0.7897\n",
      "[2020-04-28 16:11:55,338] checkpoint created at /home/ubuntu/ebs/Notebooks/for gaussian/pascal07_counting/model_latest.pt\n",
      "[2020-04-28 16:11:56,749] checkpoint created at /home/ubuntu/ebs/Notebooks/for gaussian/pascal07_counting/model_mrmse.pt\n",
      "\n",
      "--------------------------------------------------------\n",
      "\n",
      "learning rate: 0.0001\n",
      "learning rate: 0.01\n",
      "stage 2 of the training: using criterion2\n"
     ]
    },
    {
     "data": {
      "application/vnd.jupyter.widget-view+json": {
       "model_id": "",
       "version_major": 2,
       "version_minor": 0
      },
      "text/plain": [
       "HBox(children=(IntProgress(value=0, description='train', max=157, style=ProgressStyle(description_width='initi…"
      ]
     },
     "metadata": {},
     "output_type": "display_data"
    },
    {
     "name": "stdout",
     "output_type": "stream",
     "text": [
      "validation start\n"
     ]
    },
    {
     "data": {
      "application/vnd.jupyter.widget-view+json": {
       "model_id": "",
       "version_major": 2,
       "version_minor": 0
      },
      "text/plain": [
       "HBox(children=(IntProgress(value=0, description='val', max=2510, style=ProgressStyle(description_width='initia…"
      ]
     },
     "metadata": {},
     "output_type": "display_data"
    },
    {
     "name": "stdout",
     "output_type": "stream",
     "text": [
      "mrmse_nz: 1.231727, rmrmse_nz: 0.626840, mrmse: 0.309794, rmrmse: 0.168585 \n",
      "[2020-04-28 16:14:27,481] epoch: 40 | classification_loss: 0.7831\n",
      "[2020-04-28 16:14:28,061] checkpoint created at /home/ubuntu/ebs/Notebooks/for gaussian/pascal07_counting/model_latest.pt\n",
      "\n",
      "--------------------------------------------------------\n",
      "\n",
      "learning rate: 0.0001\n",
      "learning rate: 0.01\n",
      "stage 2 of the training: using criterion2\n"
     ]
    },
    {
     "data": {
      "application/vnd.jupyter.widget-view+json": {
       "model_id": "",
       "version_major": 2,
       "version_minor": 0
      },
      "text/plain": [
       "HBox(children=(IntProgress(value=0, description='train', max=157, style=ProgressStyle(description_width='initi…"
      ]
     },
     "metadata": {},
     "output_type": "display_data"
    },
    {
     "name": "stdout",
     "output_type": "stream",
     "text": [
      "validation start\n"
     ]
    },
    {
     "data": {
      "application/vnd.jupyter.widget-view+json": {
       "model_id": "",
       "version_major": 2,
       "version_minor": 0
      },
      "text/plain": [
       "HBox(children=(IntProgress(value=0, description='val', max=2510, style=ProgressStyle(description_width='initia…"
      ]
     },
     "metadata": {},
     "output_type": "display_data"
    },
    {
     "name": "stdout",
     "output_type": "stream",
     "text": [
      "mrmse_nz: 1.223963, rmrmse_nz: 0.618380, mrmse: 0.309820, rmrmse: 0.171803 \n",
      "[2020-04-28 16:16:56,577] epoch: 41 | classification_loss: 0.7815\n",
      "[2020-04-28 16:16:57,127] checkpoint created at /home/ubuntu/ebs/Notebooks/for gaussian/pascal07_counting/model_latest.pt\n",
      "\n",
      "--------------------------------------------------------\n",
      "\n",
      "learning rate: 0.0001\n",
      "learning rate: 0.01\n",
      "stage 2 of the training: using criterion2\n"
     ]
    },
    {
     "data": {
      "application/vnd.jupyter.widget-view+json": {
       "model_id": "",
       "version_major": 2,
       "version_minor": 0
      },
      "text/plain": [
       "HBox(children=(IntProgress(value=0, description='train', max=157, style=ProgressStyle(description_width='initi…"
      ]
     },
     "metadata": {},
     "output_type": "display_data"
    },
    {
     "name": "stdout",
     "output_type": "stream",
     "text": [
      "validation start\n"
     ]
    },
    {
     "data": {
      "application/vnd.jupyter.widget-view+json": {
       "model_id": "",
       "version_major": 2,
       "version_minor": 0
      },
      "text/plain": [
       "HBox(children=(IntProgress(value=0, description='val', max=2510, style=ProgressStyle(description_width='initia…"
      ]
     },
     "metadata": {},
     "output_type": "display_data"
    },
    {
     "name": "stdout",
     "output_type": "stream",
     "text": [
      "mrmse_nz: 1.221744, rmrmse_nz: 0.632796, mrmse: 0.307917, rmrmse: 0.171706 \n",
      "[2020-04-28 16:19:26,388] epoch: 42 | classification_loss: 0.7770\n",
      "[2020-04-28 16:19:26,936] checkpoint created at /home/ubuntu/ebs/Notebooks/for gaussian/pascal07_counting/model_latest.pt\n",
      "\n",
      "--------------------------------------------------------\n",
      "\n",
      "learning rate: 0.0001\n",
      "learning rate: 0.01\n",
      "stage 2 of the training: using criterion2\n"
     ]
    },
    {
     "data": {
      "application/vnd.jupyter.widget-view+json": {
       "model_id": "",
       "version_major": 2,
       "version_minor": 0
      },
      "text/plain": [
       "HBox(children=(IntProgress(value=0, description='train', max=157, style=ProgressStyle(description_width='initi…"
      ]
     },
     "metadata": {},
     "output_type": "display_data"
    },
    {
     "name": "stdout",
     "output_type": "stream",
     "text": [
      "validation start\n"
     ]
    },
    {
     "data": {
      "application/vnd.jupyter.widget-view+json": {
       "model_id": "",
       "version_major": 2,
       "version_minor": 0
      },
      "text/plain": [
       "HBox(children=(IntProgress(value=0, description='val', max=2510, style=ProgressStyle(description_width='initia…"
      ]
     },
     "metadata": {},
     "output_type": "display_data"
    },
    {
     "name": "stdout",
     "output_type": "stream",
     "text": [
      "mrmse_nz: 1.225056, rmrmse_nz: 0.611211, mrmse: 0.303615, rmrmse: 0.160405 \n",
      "[2020-04-28 16:21:56,192] epoch: 43 | classification_loss: 0.7783\n",
      "[2020-04-28 16:21:56,750] checkpoint created at /home/ubuntu/ebs/Notebooks/for gaussian/pascal07_counting/model_latest.pt\n",
      "[2020-04-28 16:21:58,162] checkpoint created at /home/ubuntu/ebs/Notebooks/for gaussian/pascal07_counting/model_rmrmse.pt\n",
      "\n",
      "--------------------------------------------------------\n",
      "\n",
      "learning rate: 0.0001\n",
      "learning rate: 0.01\n",
      "stage 2 of the training: using criterion2\n"
     ]
    },
    {
     "data": {
      "application/vnd.jupyter.widget-view+json": {
       "model_id": "",
       "version_major": 2,
       "version_minor": 0
      },
      "text/plain": [
       "HBox(children=(IntProgress(value=0, description='train', max=157, style=ProgressStyle(description_width='initi…"
      ]
     },
     "metadata": {},
     "output_type": "display_data"
    },
    {
     "name": "stdout",
     "output_type": "stream",
     "text": [
      "validation start\n"
     ]
    },
    {
     "data": {
      "application/vnd.jupyter.widget-view+json": {
       "model_id": "",
       "version_major": 2,
       "version_minor": 0
      },
      "text/plain": [
       "HBox(children=(IntProgress(value=0, description='val', max=2510, style=ProgressStyle(description_width='initia…"
      ]
     },
     "metadata": {},
     "output_type": "display_data"
    },
    {
     "name": "stdout",
     "output_type": "stream",
     "text": [
      "mrmse_nz: 1.242601, rmrmse_nz: 0.632951, mrmse: 0.309842, rmrmse: 0.167846 \n",
      "[2020-04-28 16:24:27,893] epoch: 44 | classification_loss: 0.7717\n",
      "[2020-04-28 16:24:28,443] checkpoint created at /home/ubuntu/ebs/Notebooks/for gaussian/pascal07_counting/model_latest.pt\n",
      "\n",
      "--------------------------------------------------------\n",
      "\n",
      "learning rate: 0.0001\n",
      "learning rate: 0.01\n",
      "stage 2 of the training: using criterion2\n"
     ]
    },
    {
     "data": {
      "application/vnd.jupyter.widget-view+json": {
       "model_id": "",
       "version_major": 2,
       "version_minor": 0
      },
      "text/plain": [
       "HBox(children=(IntProgress(value=0, description='train', max=157, style=ProgressStyle(description_width='initi…"
      ]
     },
     "metadata": {},
     "output_type": "display_data"
    },
    {
     "name": "stdout",
     "output_type": "stream",
     "text": [
      "validation start\n"
     ]
    },
    {
     "data": {
      "application/vnd.jupyter.widget-view+json": {
       "model_id": "",
       "version_major": 2,
       "version_minor": 0
      },
      "text/plain": [
       "HBox(children=(IntProgress(value=0, description='val', max=2510, style=ProgressStyle(description_width='initia…"
      ]
     },
     "metadata": {},
     "output_type": "display_data"
    },
    {
     "name": "stdout",
     "output_type": "stream",
     "text": [
      "mrmse_nz: 1.242173, rmrmse_nz: 0.619298, mrmse: 0.309152, rmrmse: 0.164670 \n",
      "[2020-04-28 16:26:57,069] epoch: 45 | classification_loss: 0.7728\n",
      "[2020-04-28 16:26:57,647] checkpoint created at /home/ubuntu/ebs/Notebooks/for gaussian/pascal07_counting/model_latest.pt\n",
      "\n",
      "--------------------------------------------------------\n",
      "\n",
      "learning rate: 0.0001\n",
      "learning rate: 0.01\n",
      "stage 2 of the training: using criterion2\n"
     ]
    },
    {
     "data": {
      "application/vnd.jupyter.widget-view+json": {
       "model_id": "",
       "version_major": 2,
       "version_minor": 0
      },
      "text/plain": [
       "HBox(children=(IntProgress(value=0, description='train', max=157, style=ProgressStyle(description_width='initi…"
      ]
     },
     "metadata": {},
     "output_type": "display_data"
    },
    {
     "name": "stdout",
     "output_type": "stream",
     "text": [
      "validation start\n"
     ]
    },
    {
     "data": {
      "application/vnd.jupyter.widget-view+json": {
       "model_id": "",
       "version_major": 2,
       "version_minor": 0
      },
      "text/plain": [
       "HBox(children=(IntProgress(value=0, description='val', max=2510, style=ProgressStyle(description_width='initia…"
      ]
     },
     "metadata": {},
     "output_type": "display_data"
    },
    {
     "name": "stdout",
     "output_type": "stream",
     "text": [
      "mrmse_nz: 1.220187, rmrmse_nz: 0.626771, mrmse: 0.306886, rmrmse: 0.171234 \n",
      "[2020-04-28 16:29:28,699] epoch: 46 | classification_loss: 0.7684\n",
      "[2020-04-28 16:29:29,251] checkpoint created at /home/ubuntu/ebs/Notebooks/for gaussian/pascal07_counting/model_latest.pt\n",
      "\n",
      "--------------------------------------------------------\n",
      "\n",
      "learning rate: 0.0001\n",
      "learning rate: 0.01\n",
      "stage 2 of the training: using criterion2\n"
     ]
    },
    {
     "data": {
      "application/vnd.jupyter.widget-view+json": {
       "model_id": "",
       "version_major": 2,
       "version_minor": 0
      },
      "text/plain": [
       "HBox(children=(IntProgress(value=0, description='train', max=157, style=ProgressStyle(description_width='initi…"
      ]
     },
     "metadata": {},
     "output_type": "display_data"
    },
    {
     "name": "stdout",
     "output_type": "stream",
     "text": [
      "validation start\n"
     ]
    },
    {
     "data": {
      "application/vnd.jupyter.widget-view+json": {
       "model_id": "",
       "version_major": 2,
       "version_minor": 0
      },
      "text/plain": [
       "HBox(children=(IntProgress(value=0, description='val', max=2510, style=ProgressStyle(description_width='initia…"
      ]
     },
     "metadata": {},
     "output_type": "display_data"
    },
    {
     "name": "stdout",
     "output_type": "stream",
     "text": [
      "mrmse_nz: 1.221638, rmrmse_nz: 0.625331, mrmse: 0.310350, rmrmse: 0.172859 \n",
      "[2020-04-28 16:31:58,719] epoch: 47 | classification_loss: 0.7702\n",
      "[2020-04-28 16:31:59,266] checkpoint created at /home/ubuntu/ebs/Notebooks/for gaussian/pascal07_counting/model_latest.pt\n",
      "\n",
      "--------------------------------------------------------\n",
      "\n",
      "learning rate: 0.0001\n",
      "learning rate: 0.01\n",
      "stage 2 of the training: using criterion2\n"
     ]
    },
    {
     "data": {
      "application/vnd.jupyter.widget-view+json": {
       "model_id": "",
       "version_major": 2,
       "version_minor": 0
      },
      "text/plain": [
       "HBox(children=(IntProgress(value=0, description='train', max=157, style=ProgressStyle(description_width='initi…"
      ]
     },
     "metadata": {},
     "output_type": "display_data"
    },
    {
     "name": "stdout",
     "output_type": "stream",
     "text": [
      "validation start\n"
     ]
    },
    {
     "data": {
      "application/vnd.jupyter.widget-view+json": {
       "model_id": "",
       "version_major": 2,
       "version_minor": 0
      },
      "text/plain": [
       "HBox(children=(IntProgress(value=0, description='val', max=2510, style=ProgressStyle(description_width='initia…"
      ]
     },
     "metadata": {},
     "output_type": "display_data"
    },
    {
     "name": "stdout",
     "output_type": "stream",
     "text": [
      "mrmse_nz: 1.247375, rmrmse_nz: 0.641471, mrmse: 0.312268, rmrmse: 0.171294 \n",
      "[2020-04-28 16:34:28,202] epoch: 48 | classification_loss: 0.7626\n",
      "[2020-04-28 16:34:28,779] checkpoint created at /home/ubuntu/ebs/Notebooks/for gaussian/pascal07_counting/model_latest.pt\n",
      "\n",
      "--------------------------------------------------------\n",
      "\n",
      "learning rate: 0.0001\n",
      "learning rate: 0.01\n",
      "stage 2 of the training: using criterion2\n"
     ]
    },
    {
     "data": {
      "application/vnd.jupyter.widget-view+json": {
       "model_id": "",
       "version_major": 2,
       "version_minor": 0
      },
      "text/plain": [
       "HBox(children=(IntProgress(value=0, description='train', max=157, style=ProgressStyle(description_width='initi…"
      ]
     },
     "metadata": {},
     "output_type": "display_data"
    },
    {
     "name": "stdout",
     "output_type": "stream",
     "text": [
      "validation start\n"
     ]
    },
    {
     "data": {
      "application/vnd.jupyter.widget-view+json": {
       "model_id": "",
       "version_major": 2,
       "version_minor": 0
      },
      "text/plain": [
       "HBox(children=(IntProgress(value=0, description='val', max=2510, style=ProgressStyle(description_width='initia…"
      ]
     },
     "metadata": {},
     "output_type": "display_data"
    },
    {
     "name": "stdout",
     "output_type": "stream",
     "text": [
      "mrmse_nz: 1.211725, rmrmse_nz: 0.615639, mrmse: 0.304354, rmrmse: 0.167354 \n",
      "[2020-04-28 16:36:57,541] epoch: 49 | classification_loss: 0.7618\n",
      "[2020-04-28 16:36:58,090] checkpoint created at /home/ubuntu/ebs/Notebooks/for gaussian/pascal07_counting/model_latest.pt\n",
      "\n",
      "--------------------------------------------------------\n",
      "\n",
      "learning rate: 5e-05\n",
      "learning rate: 0.005\n",
      "stage 2 of the training: using criterion2\n"
     ]
    },
    {
     "data": {
      "application/vnd.jupyter.widget-view+json": {
       "model_id": "",
       "version_major": 2,
       "version_minor": 0
      },
      "text/plain": [
       "HBox(children=(IntProgress(value=0, description='train', max=157, style=ProgressStyle(description_width='initi…"
      ]
     },
     "metadata": {},
     "output_type": "display_data"
    },
    {
     "name": "stdout",
     "output_type": "stream",
     "text": [
      "validation start\n"
     ]
    },
    {
     "data": {
      "application/vnd.jupyter.widget-view+json": {
       "model_id": "",
       "version_major": 2,
       "version_minor": 0
      },
      "text/plain": [
       "HBox(children=(IntProgress(value=0, description='val', max=2510, style=ProgressStyle(description_width='initia…"
      ]
     },
     "metadata": {},
     "output_type": "display_data"
    },
    {
     "name": "stdout",
     "output_type": "stream",
     "text": [
      "mrmse_nz: 1.224852, rmrmse_nz: 0.621309, mrmse: 0.305498, rmrmse: 0.166108 \n",
      "[2020-04-28 16:39:27,253] epoch: 50 | classification_loss: 0.7549\n",
      "[2020-04-28 16:39:27,826] checkpoint created at /home/ubuntu/ebs/Notebooks/for gaussian/pascal07_counting/model_latest.pt\n",
      "\n",
      "--------------------------------------------------------\n",
      "\n",
      "learning rate: 5e-05\n",
      "learning rate: 0.005\n",
      "stage 2 of the training: using criterion2\n"
     ]
    },
    {
     "data": {
      "application/vnd.jupyter.widget-view+json": {
       "model_id": "",
       "version_major": 2,
       "version_minor": 0
      },
      "text/plain": [
       "HBox(children=(IntProgress(value=0, description='train', max=157, style=ProgressStyle(description_width='initi…"
      ]
     },
     "metadata": {},
     "output_type": "display_data"
    },
    {
     "name": "stdout",
     "output_type": "stream",
     "text": [
      "validation start\n"
     ]
    },
    {
     "data": {
      "application/vnd.jupyter.widget-view+json": {
       "model_id": "",
       "version_major": 2,
       "version_minor": 0
      },
      "text/plain": [
       "HBox(children=(IntProgress(value=0, description='val', max=2510, style=ProgressStyle(description_width='initia…"
      ]
     },
     "metadata": {},
     "output_type": "display_data"
    },
    {
     "name": "stdout",
     "output_type": "stream",
     "text": [
      "mrmse_nz: 1.208093, rmrmse_nz: 0.618061, mrmse: 0.303074, rmrmse: 0.166351 \n",
      "[2020-04-28 16:41:57,859] epoch: 51 | classification_loss: 0.7526\n",
      "[2020-04-28 16:41:58,407] checkpoint created at /home/ubuntu/ebs/Notebooks/for gaussian/pascal07_counting/model_latest.pt\n",
      "[2020-04-28 16:41:59,816] checkpoint created at /home/ubuntu/ebs/Notebooks/for gaussian/pascal07_counting/model_mrmse.pt\n",
      "\n",
      "--------------------------------------------------------\n",
      "\n",
      "learning rate: 5e-05\n",
      "learning rate: 0.005\n",
      "stage 2 of the training: using criterion2\n"
     ]
    },
    {
     "data": {
      "application/vnd.jupyter.widget-view+json": {
       "model_id": "",
       "version_major": 2,
       "version_minor": 0
      },
      "text/plain": [
       "HBox(children=(IntProgress(value=0, description='train', max=157, style=ProgressStyle(description_width='initi…"
      ]
     },
     "metadata": {},
     "output_type": "display_data"
    },
    {
     "name": "stdout",
     "output_type": "stream",
     "text": [
      "validation start\n"
     ]
    },
    {
     "data": {
      "application/vnd.jupyter.widget-view+json": {
       "model_id": "",
       "version_major": 2,
       "version_minor": 0
      },
      "text/plain": [
       "HBox(children=(IntProgress(value=0, description='val', max=2510, style=ProgressStyle(description_width='initia…"
      ]
     },
     "metadata": {},
     "output_type": "display_data"
    },
    {
     "name": "stdout",
     "output_type": "stream",
     "text": [
      "mrmse_nz: 1.238548, rmrmse_nz: 0.624369, mrmse: 0.307270, rmrmse: 0.164980 \n",
      "[2020-04-28 16:44:30,106] epoch: 52 | classification_loss: 0.7571\n",
      "[2020-04-28 16:44:30,656] checkpoint created at /home/ubuntu/ebs/Notebooks/for gaussian/pascal07_counting/model_latest.pt\n",
      "\n",
      "--------------------------------------------------------\n",
      "\n",
      "learning rate: 5e-05\n",
      "learning rate: 0.005\n",
      "stage 2 of the training: using criterion2\n"
     ]
    },
    {
     "data": {
      "application/vnd.jupyter.widget-view+json": {
       "model_id": "",
       "version_major": 2,
       "version_minor": 0
      },
      "text/plain": [
       "HBox(children=(IntProgress(value=0, description='train', max=157, style=ProgressStyle(description_width='initi…"
      ]
     },
     "metadata": {},
     "output_type": "display_data"
    },
    {
     "name": "stdout",
     "output_type": "stream",
     "text": [
      "validation start\n"
     ]
    },
    {
     "data": {
      "application/vnd.jupyter.widget-view+json": {
       "model_id": "",
       "version_major": 2,
       "version_minor": 0
      },
      "text/plain": [
       "HBox(children=(IntProgress(value=0, description='val', max=2510, style=ProgressStyle(description_width='initia…"
      ]
     },
     "metadata": {},
     "output_type": "display_data"
    },
    {
     "name": "stdout",
     "output_type": "stream",
     "text": [
      "mrmse_nz: 1.242003, rmrmse_nz: 0.623021, mrmse: 0.308762, rmrmse: 0.163838 \n",
      "[2020-04-28 16:46:59,805] epoch: 53 | classification_loss: 0.7521\n",
      "[2020-04-28 16:47:00,354] checkpoint created at /home/ubuntu/ebs/Notebooks/for gaussian/pascal07_counting/model_latest.pt\n",
      "\n",
      "--------------------------------------------------------\n",
      "\n",
      "learning rate: 5e-05\n",
      "learning rate: 0.005\n",
      "stage 2 of the training: using criterion2\n"
     ]
    },
    {
     "data": {
      "application/vnd.jupyter.widget-view+json": {
       "model_id": "",
       "version_major": 2,
       "version_minor": 0
      },
      "text/plain": [
       "HBox(children=(IntProgress(value=0, description='train', max=157, style=ProgressStyle(description_width='initi…"
      ]
     },
     "metadata": {},
     "output_type": "display_data"
    },
    {
     "name": "stdout",
     "output_type": "stream",
     "text": [
      "validation start\n"
     ]
    },
    {
     "data": {
      "application/vnd.jupyter.widget-view+json": {
       "model_id": "",
       "version_major": 2,
       "version_minor": 0
      },
      "text/plain": [
       "HBox(children=(IntProgress(value=0, description='val', max=2510, style=ProgressStyle(description_width='initia…"
      ]
     },
     "metadata": {},
     "output_type": "display_data"
    },
    {
     "name": "stdout",
     "output_type": "stream",
     "text": [
      "mrmse_nz: 1.231413, rmrmse_nz: 0.620202, mrmse: 0.308470, rmrmse: 0.165922 \n",
      "[2020-04-28 16:49:29,487] epoch: 54 | classification_loss: 0.7542\n",
      "[2020-04-28 16:49:30,038] checkpoint created at /home/ubuntu/ebs/Notebooks/for gaussian/pascal07_counting/model_latest.pt\n",
      "\n",
      "--------------------------------------------------------\n",
      "\n",
      "learning rate: 5e-05\n",
      "learning rate: 0.005\n",
      "stage 2 of the training: using criterion2\n"
     ]
    },
    {
     "data": {
      "application/vnd.jupyter.widget-view+json": {
       "model_id": "",
       "version_major": 2,
       "version_minor": 0
      },
      "text/plain": [
       "HBox(children=(IntProgress(value=0, description='train', max=157, style=ProgressStyle(description_width='initi…"
      ]
     },
     "metadata": {},
     "output_type": "display_data"
    },
    {
     "name": "stdout",
     "output_type": "stream",
     "text": [
      "validation start\n"
     ]
    },
    {
     "data": {
      "application/vnd.jupyter.widget-view+json": {
       "model_id": "",
       "version_major": 2,
       "version_minor": 0
      },
      "text/plain": [
       "HBox(children=(IntProgress(value=0, description='val', max=2510, style=ProgressStyle(description_width='initia…"
      ]
     },
     "metadata": {},
     "output_type": "display_data"
    },
    {
     "name": "stdout",
     "output_type": "stream",
     "text": [
      "mrmse_nz: 1.206230, rmrmse_nz: 0.618157, mrmse: 0.302367, rmrmse: 0.165549 \n",
      "[2020-04-28 16:51:59,264] epoch: 55 | classification_loss: 0.7487\n",
      "[2020-04-28 16:51:59,837] checkpoint created at /home/ubuntu/ebs/Notebooks/for gaussian/pascal07_counting/model_latest.pt\n",
      "[2020-04-28 16:52:01,250] checkpoint created at /home/ubuntu/ebs/Notebooks/for gaussian/pascal07_counting/model_mrmse.pt\n",
      "\n",
      "--------------------------------------------------------\n",
      "\n",
      "learning rate: 5e-05\n",
      "learning rate: 0.005\n",
      "stage 2 of the training: using criterion2\n"
     ]
    },
    {
     "data": {
      "application/vnd.jupyter.widget-view+json": {
       "model_id": "",
       "version_major": 2,
       "version_minor": 0
      },
      "text/plain": [
       "HBox(children=(IntProgress(value=0, description='train', max=157, style=ProgressStyle(description_width='initi…"
      ]
     },
     "metadata": {},
     "output_type": "display_data"
    },
    {
     "name": "stdout",
     "output_type": "stream",
     "text": [
      "validation start\n"
     ]
    },
    {
     "data": {
      "application/vnd.jupyter.widget-view+json": {
       "model_id": "",
       "version_major": 2,
       "version_minor": 0
      },
      "text/plain": [
       "HBox(children=(IntProgress(value=0, description='val', max=2510, style=ProgressStyle(description_width='initia…"
      ]
     },
     "metadata": {},
     "output_type": "display_data"
    },
    {
     "name": "stdout",
     "output_type": "stream",
     "text": [
      "mrmse_nz: 1.208861, rmrmse_nz: 0.621362, mrmse: 0.304146, rmrmse: 0.167818 \n",
      "[2020-04-28 16:54:30,974] epoch: 56 | classification_loss: 0.7466\n",
      "[2020-04-28 16:54:31,524] checkpoint created at /home/ubuntu/ebs/Notebooks/for gaussian/pascal07_counting/model_latest.pt\n",
      "\n",
      "--------------------------------------------------------\n",
      "\n",
      "learning rate: 5e-05\n",
      "learning rate: 0.005\n",
      "stage 2 of the training: using criterion2\n"
     ]
    },
    {
     "data": {
      "application/vnd.jupyter.widget-view+json": {
       "model_id": "",
       "version_major": 2,
       "version_minor": 0
      },
      "text/plain": [
       "HBox(children=(IntProgress(value=0, description='train', max=157, style=ProgressStyle(description_width='initi…"
      ]
     },
     "metadata": {},
     "output_type": "display_data"
    },
    {
     "name": "stdout",
     "output_type": "stream",
     "text": [
      "validation start\n"
     ]
    },
    {
     "data": {
      "application/vnd.jupyter.widget-view+json": {
       "model_id": "",
       "version_major": 2,
       "version_minor": 0
      },
      "text/plain": [
       "HBox(children=(IntProgress(value=0, description='val', max=2510, style=ProgressStyle(description_width='initia…"
      ]
     },
     "metadata": {},
     "output_type": "display_data"
    },
    {
     "name": "stdout",
     "output_type": "stream",
     "text": [
      "mrmse_nz: 1.230915, rmrmse_nz: 0.624629, mrmse: 0.306107, rmrmse: 0.162949 \n",
      "[2020-04-28 16:57:01,394] epoch: 57 | classification_loss: 0.7475\n",
      "[2020-04-28 16:57:01,975] checkpoint created at /home/ubuntu/ebs/Notebooks/for gaussian/pascal07_counting/model_latest.pt\n",
      "\n",
      "--------------------------------------------------------\n",
      "\n",
      "learning rate: 5e-05\n",
      "learning rate: 0.005\n",
      "stage 2 of the training: using criterion2\n"
     ]
    },
    {
     "data": {
      "application/vnd.jupyter.widget-view+json": {
       "model_id": "",
       "version_major": 2,
       "version_minor": 0
      },
      "text/plain": [
       "HBox(children=(IntProgress(value=0, description='train', max=157, style=ProgressStyle(description_width='initi…"
      ]
     },
     "metadata": {},
     "output_type": "display_data"
    },
    {
     "name": "stdout",
     "output_type": "stream",
     "text": [
      "validation start\n"
     ]
    },
    {
     "data": {
      "application/vnd.jupyter.widget-view+json": {
       "model_id": "",
       "version_major": 2,
       "version_minor": 0
      },
      "text/plain": [
       "HBox(children=(IntProgress(value=0, description='val', max=2510, style=ProgressStyle(description_width='initia…"
      ]
     },
     "metadata": {},
     "output_type": "display_data"
    },
    {
     "name": "stdout",
     "output_type": "stream",
     "text": [
      "mrmse_nz: 1.213244, rmrmse_nz: 0.623530, mrmse: 0.305075, rmrmse: 0.167988 \n",
      "[2020-04-28 16:59:31,545] epoch: 58 | classification_loss: 0.7537\n",
      "[2020-04-28 16:59:32,095] checkpoint created at /home/ubuntu/ebs/Notebooks/for gaussian/pascal07_counting/model_latest.pt\n",
      "\n",
      "--------------------------------------------------------\n",
      "\n",
      "learning rate: 5e-05\n",
      "learning rate: 0.005\n",
      "stage 2 of the training: using criterion2\n"
     ]
    },
    {
     "data": {
      "application/vnd.jupyter.widget-view+json": {
       "model_id": "",
       "version_major": 2,
       "version_minor": 0
      },
      "text/plain": [
       "HBox(children=(IntProgress(value=0, description='train', max=157, style=ProgressStyle(description_width='initi…"
      ]
     },
     "metadata": {},
     "output_type": "display_data"
    },
    {
     "name": "stdout",
     "output_type": "stream",
     "text": [
      "validation start\n"
     ]
    },
    {
     "data": {
      "application/vnd.jupyter.widget-view+json": {
       "model_id": "",
       "version_major": 2,
       "version_minor": 0
      },
      "text/plain": [
       "HBox(children=(IntProgress(value=0, description='val', max=2510, style=ProgressStyle(description_width='initia…"
      ]
     },
     "metadata": {},
     "output_type": "display_data"
    },
    {
     "name": "stdout",
     "output_type": "stream",
     "text": [
      "mrmse_nz: 1.208901, rmrmse_nz: 0.614527, mrmse: 0.304889, rmrmse: 0.166549 \n",
      "[2020-04-28 17:02:01,498] epoch: 59 | classification_loss: 0.7460\n",
      "[2020-04-28 17:02:02,046] checkpoint created at /home/ubuntu/ebs/Notebooks/for gaussian/pascal07_counting/model_latest.pt\n",
      "\n",
      "--------------------------------------------------------\n",
      "\n",
      "learning rate: 5e-05\n",
      "learning rate: 0.005\n",
      "stage 2 of the training: using criterion2\n"
     ]
    },
    {
     "data": {
      "application/vnd.jupyter.widget-view+json": {
       "model_id": "",
       "version_major": 2,
       "version_minor": 0
      },
      "text/plain": [
       "HBox(children=(IntProgress(value=0, description='train', max=157, style=ProgressStyle(description_width='initi…"
      ]
     },
     "metadata": {},
     "output_type": "display_data"
    },
    {
     "name": "stdout",
     "output_type": "stream",
     "text": [
      "validation start\n"
     ]
    },
    {
     "data": {
      "application/vnd.jupyter.widget-view+json": {
       "model_id": "",
       "version_major": 2,
       "version_minor": 0
      },
      "text/plain": [
       "HBox(children=(IntProgress(value=0, description='val', max=2510, style=ProgressStyle(description_width='initia…"
      ]
     },
     "metadata": {},
     "output_type": "display_data"
    },
    {
     "name": "stdout",
     "output_type": "stream",
     "text": [
      "mrmse_nz: 1.210974, rmrmse_nz: 0.618937, mrmse: 0.301445, rmrmse: 0.163726 \n",
      "[2020-04-28 17:04:31,984] epoch: 60 | classification_loss: 0.7482\n",
      "[2020-04-28 17:04:32,563] checkpoint created at /home/ubuntu/ebs/Notebooks/for gaussian/pascal07_counting/model_latest.pt\n",
      "[2020-04-28 17:04:33,974] checkpoint created at /home/ubuntu/ebs/Notebooks/for gaussian/pascal07_counting/model_mrmse.pt\n",
      "\n",
      "--------------------------------------------------------\n",
      "\n",
      "learning rate: 5e-05\n",
      "learning rate: 0.005\n",
      "stage 2 of the training: using criterion2\n"
     ]
    },
    {
     "data": {
      "application/vnd.jupyter.widget-view+json": {
       "model_id": "",
       "version_major": 2,
       "version_minor": 0
      },
      "text/plain": [
       "HBox(children=(IntProgress(value=0, description='train', max=157, style=ProgressStyle(description_width='initi…"
      ]
     },
     "metadata": {},
     "output_type": "display_data"
    },
    {
     "name": "stdout",
     "output_type": "stream",
     "text": [
      "validation start\n"
     ]
    },
    {
     "data": {
      "application/vnd.jupyter.widget-view+json": {
       "model_id": "",
       "version_major": 2,
       "version_minor": 0
      },
      "text/plain": [
       "HBox(children=(IntProgress(value=0, description='val', max=2510, style=ProgressStyle(description_width='initia…"
      ]
     },
     "metadata": {},
     "output_type": "display_data"
    },
    {
     "name": "stdout",
     "output_type": "stream",
     "text": [
      "mrmse_nz: 1.216964, rmrmse_nz: 0.613695, mrmse: 0.303918, rmrmse: 0.161754 \n",
      "[2020-04-28 17:07:04,346] epoch: 61 | classification_loss: 0.7460\n",
      "[2020-04-28 17:07:04,899] checkpoint created at /home/ubuntu/ebs/Notebooks/for gaussian/pascal07_counting/model_latest.pt\n",
      "\n",
      "--------------------------------------------------------\n",
      "\n",
      "learning rate: 5e-05\n",
      "learning rate: 0.005\n",
      "stage 2 of the training: using criterion2\n"
     ]
    },
    {
     "data": {
      "application/vnd.jupyter.widget-view+json": {
       "model_id": "",
       "version_major": 2,
       "version_minor": 0
      },
      "text/plain": [
       "HBox(children=(IntProgress(value=0, description='train', max=157, style=ProgressStyle(description_width='initi…"
      ]
     },
     "metadata": {},
     "output_type": "display_data"
    },
    {
     "name": "stdout",
     "output_type": "stream",
     "text": [
      "validation start\n"
     ]
    },
    {
     "data": {
      "application/vnd.jupyter.widget-view+json": {
       "model_id": "",
       "version_major": 2,
       "version_minor": 0
      },
      "text/plain": [
       "HBox(children=(IntProgress(value=0, description='val', max=2510, style=ProgressStyle(description_width='initia…"
      ]
     },
     "metadata": {},
     "output_type": "display_data"
    },
    {
     "name": "stdout",
     "output_type": "stream",
     "text": [
      "mrmse_nz: 1.222608, rmrmse_nz: 0.620521, mrmse: 0.305587, rmrmse: 0.166320 \n",
      "[2020-04-28 17:09:34,859] epoch: 62 | classification_loss: 0.7438\n",
      "[2020-04-28 17:09:35,414] checkpoint created at /home/ubuntu/ebs/Notebooks/for gaussian/pascal07_counting/model_latest.pt\n",
      "\n",
      "--------------------------------------------------------\n",
      "\n",
      "learning rate: 5e-05\n",
      "learning rate: 0.005\n",
      "stage 2 of the training: using criterion2\n"
     ]
    },
    {
     "data": {
      "application/vnd.jupyter.widget-view+json": {
       "model_id": "",
       "version_major": 2,
       "version_minor": 0
      },
      "text/plain": [
       "HBox(children=(IntProgress(value=0, description='train', max=157, style=ProgressStyle(description_width='initi…"
      ]
     },
     "metadata": {},
     "output_type": "display_data"
    },
    {
     "name": "stdout",
     "output_type": "stream",
     "text": [
      "validation start\n"
     ]
    },
    {
     "data": {
      "application/vnd.jupyter.widget-view+json": {
       "model_id": "",
       "version_major": 2,
       "version_minor": 0
      },
      "text/plain": [
       "HBox(children=(IntProgress(value=0, description='val', max=2510, style=ProgressStyle(description_width='initia…"
      ]
     },
     "metadata": {},
     "output_type": "display_data"
    },
    {
     "name": "stdout",
     "output_type": "stream",
     "text": [
      "mrmse_nz: 1.209528, rmrmse_nz: 0.620040, mrmse: 0.304535, rmrmse: 0.167897 \n",
      "[2020-04-28 17:12:04,611] epoch: 63 | classification_loss: 0.7425\n",
      "[2020-04-28 17:12:05,187] checkpoint created at /home/ubuntu/ebs/Notebooks/for gaussian/pascal07_counting/model_latest.pt\n",
      "\n",
      "--------------------------------------------------------\n",
      "\n",
      "learning rate: 5e-05\n",
      "learning rate: 0.005\n",
      "stage 2 of the training: using criterion2\n"
     ]
    },
    {
     "data": {
      "application/vnd.jupyter.widget-view+json": {
       "model_id": "",
       "version_major": 2,
       "version_minor": 0
      },
      "text/plain": [
       "HBox(children=(IntProgress(value=0, description='train', max=157, style=ProgressStyle(description_width='initi…"
      ]
     },
     "metadata": {},
     "output_type": "display_data"
    },
    {
     "name": "stdout",
     "output_type": "stream",
     "text": [
      "validation start\n"
     ]
    },
    {
     "data": {
      "application/vnd.jupyter.widget-view+json": {
       "model_id": "",
       "version_major": 2,
       "version_minor": 0
      },
      "text/plain": [
       "HBox(children=(IntProgress(value=0, description='val', max=2510, style=ProgressStyle(description_width='initia…"
      ]
     },
     "metadata": {},
     "output_type": "display_data"
    },
    {
     "name": "stdout",
     "output_type": "stream",
     "text": [
      "mrmse_nz: 1.222672, rmrmse_nz: 0.627477, mrmse: 0.304612, rmrmse: 0.165736 \n",
      "[2020-04-28 17:14:35,336] epoch: 64 | classification_loss: 0.7454\n",
      "[2020-04-28 17:14:35,883] checkpoint created at /home/ubuntu/ebs/Notebooks/for gaussian/pascal07_counting/model_latest.pt\n",
      "\n",
      "--------------------------------------------------------\n",
      "\n",
      "learning rate: 5e-05\n",
      "learning rate: 0.005\n",
      "stage 2 of the training: using criterion2\n"
     ]
    },
    {
     "data": {
      "application/vnd.jupyter.widget-view+json": {
       "model_id": "",
       "version_major": 2,
       "version_minor": 0
      },
      "text/plain": [
       "HBox(children=(IntProgress(value=0, description='train', max=157, style=ProgressStyle(description_width='initi…"
      ]
     },
     "metadata": {},
     "output_type": "display_data"
    },
    {
     "name": "stdout",
     "output_type": "stream",
     "text": [
      "validation start\n"
     ]
    },
    {
     "data": {
      "application/vnd.jupyter.widget-view+json": {
       "model_id": "",
       "version_major": 2,
       "version_minor": 0
      },
      "text/plain": [
       "HBox(children=(IntProgress(value=0, description='val', max=2510, style=ProgressStyle(description_width='initia…"
      ]
     },
     "metadata": {},
     "output_type": "display_data"
    },
    {
     "name": "stdout",
     "output_type": "stream",
     "text": [
      "mrmse_nz: 1.218164, rmrmse_nz: 0.621226, mrmse: 0.304892, rmrmse: 0.167256 \n",
      "[2020-04-28 17:17:04,326] epoch: 65 | classification_loss: 0.7436\n",
      "[2020-04-28 17:17:04,884] checkpoint created at /home/ubuntu/ebs/Notebooks/for gaussian/pascal07_counting/model_latest.pt\n",
      "\n",
      "--------------------------------------------------------\n",
      "\n",
      "learning rate: 5e-05\n",
      "learning rate: 0.005\n",
      "stage 2 of the training: using criterion2\n"
     ]
    },
    {
     "data": {
      "application/vnd.jupyter.widget-view+json": {
       "model_id": "",
       "version_major": 2,
       "version_minor": 0
      },
      "text/plain": [
       "HBox(children=(IntProgress(value=0, description='train', max=157, style=ProgressStyle(description_width='initi…"
      ]
     },
     "metadata": {},
     "output_type": "display_data"
    },
    {
     "name": "stdout",
     "output_type": "stream",
     "text": [
      "validation start\n"
     ]
    },
    {
     "data": {
      "application/vnd.jupyter.widget-view+json": {
       "model_id": "",
       "version_major": 2,
       "version_minor": 0
      },
      "text/plain": [
       "HBox(children=(IntProgress(value=0, description='val', max=2510, style=ProgressStyle(description_width='initia…"
      ]
     },
     "metadata": {},
     "output_type": "display_data"
    },
    {
     "name": "stdout",
     "output_type": "stream",
     "text": [
      "mrmse_nz: 1.211433, rmrmse_nz: 0.618571, mrmse: 0.303746, rmrmse: 0.166214 \n",
      "[2020-04-28 17:19:34,935] epoch: 66 | classification_loss: 0.7412\n",
      "[2020-04-28 17:19:35,483] checkpoint created at /home/ubuntu/ebs/Notebooks/for gaussian/pascal07_counting/model_latest.pt\n",
      "\n",
      "--------------------------------------------------------\n",
      "\n",
      "learning rate: 5e-05\n",
      "learning rate: 0.005\n",
      "stage 2 of the training: using criterion2\n"
     ]
    },
    {
     "data": {
      "application/vnd.jupyter.widget-view+json": {
       "model_id": "",
       "version_major": 2,
       "version_minor": 0
      },
      "text/plain": [
       "HBox(children=(IntProgress(value=0, description='train', max=157, style=ProgressStyle(description_width='initi…"
      ]
     },
     "metadata": {},
     "output_type": "display_data"
    },
    {
     "name": "stdout",
     "output_type": "stream",
     "text": [
      "validation start\n"
     ]
    },
    {
     "data": {
      "application/vnd.jupyter.widget-view+json": {
       "model_id": "",
       "version_major": 2,
       "version_minor": 0
      },
      "text/plain": [
       "HBox(children=(IntProgress(value=0, description='val', max=2510, style=ProgressStyle(description_width='initia…"
      ]
     },
     "metadata": {},
     "output_type": "display_data"
    },
    {
     "name": "stdout",
     "output_type": "stream",
     "text": [
      "mrmse_nz: 1.224872, rmrmse_nz: 0.623245, mrmse: 0.307285, rmrmse: 0.166970 \n",
      "[2020-04-28 17:22:04,560] epoch: 67 | classification_loss: 0.7437\n",
      "[2020-04-28 17:22:05,109] checkpoint created at /home/ubuntu/ebs/Notebooks/for gaussian/pascal07_counting/model_latest.pt\n",
      "\n",
      "--------------------------------------------------------\n",
      "\n",
      "learning rate: 5e-05\n",
      "learning rate: 0.005\n",
      "stage 2 of the training: using criterion2\n"
     ]
    },
    {
     "data": {
      "application/vnd.jupyter.widget-view+json": {
       "model_id": "",
       "version_major": 2,
       "version_minor": 0
      },
      "text/plain": [
       "HBox(children=(IntProgress(value=0, description='train', max=157, style=ProgressStyle(description_width='initi…"
      ]
     },
     "metadata": {},
     "output_type": "display_data"
    },
    {
     "name": "stdout",
     "output_type": "stream",
     "text": [
      "validation start\n"
     ]
    },
    {
     "data": {
      "application/vnd.jupyter.widget-view+json": {
       "model_id": "",
       "version_major": 2,
       "version_minor": 0
      },
      "text/plain": [
       "HBox(children=(IntProgress(value=0, description='val', max=2510, style=ProgressStyle(description_width='initia…"
      ]
     },
     "metadata": {},
     "output_type": "display_data"
    },
    {
     "name": "stdout",
     "output_type": "stream",
     "text": [
      "mrmse_nz: 1.242905, rmrmse_nz: 0.637838, mrmse: 0.311047, rmrmse: 0.170532 \n",
      "[2020-04-28 17:24:35,710] epoch: 68 | classification_loss: 0.7392\n",
      "[2020-04-28 17:24:36,257] checkpoint created at /home/ubuntu/ebs/Notebooks/for gaussian/pascal07_counting/model_latest.pt\n",
      "\n",
      "--------------------------------------------------------\n",
      "\n",
      "learning rate: 5e-05\n",
      "learning rate: 0.005\n",
      "stage 2 of the training: using criterion2\n"
     ]
    },
    {
     "data": {
      "application/vnd.jupyter.widget-view+json": {
       "model_id": "",
       "version_major": 2,
       "version_minor": 0
      },
      "text/plain": [
       "HBox(children=(IntProgress(value=0, description='train', max=157, style=ProgressStyle(description_width='initi…"
      ]
     },
     "metadata": {},
     "output_type": "display_data"
    },
    {
     "name": "stdout",
     "output_type": "stream",
     "text": [
      "validation start\n"
     ]
    },
    {
     "data": {
      "application/vnd.jupyter.widget-view+json": {
       "model_id": "",
       "version_major": 2,
       "version_minor": 0
      },
      "text/plain": [
       "HBox(children=(IntProgress(value=0, description='val', max=2510, style=ProgressStyle(description_width='initia…"
      ]
     },
     "metadata": {},
     "output_type": "display_data"
    },
    {
     "name": "stdout",
     "output_type": "stream",
     "text": [
      "mrmse_nz: 1.217242, rmrmse_nz: 0.622087, mrmse: 0.304551, rmrmse: 0.166004 \n",
      "[2020-04-28 17:27:06,908] epoch: 69 | classification_loss: 0.7406\n",
      "[2020-04-28 17:27:07,477] checkpoint created at /home/ubuntu/ebs/Notebooks/for gaussian/pascal07_counting/model_latest.pt\n",
      "\n",
      "--------------------------------------------------------\n",
      "\n",
      "learning rate: 5e-05\n",
      "learning rate: 0.005\n",
      "stage 2 of the training: using criterion2\n"
     ]
    },
    {
     "data": {
      "application/vnd.jupyter.widget-view+json": {
       "model_id": "",
       "version_major": 2,
       "version_minor": 0
      },
      "text/plain": [
       "HBox(children=(IntProgress(value=0, description='train', max=157, style=ProgressStyle(description_width='initi…"
      ]
     },
     "metadata": {},
     "output_type": "display_data"
    },
    {
     "name": "stdout",
     "output_type": "stream",
     "text": [
      "validation start\n"
     ]
    },
    {
     "data": {
      "application/vnd.jupyter.widget-view+json": {
       "model_id": "",
       "version_major": 2,
       "version_minor": 0
      },
      "text/plain": [
       "HBox(children=(IntProgress(value=0, description='val', max=2510, style=ProgressStyle(description_width='initia…"
      ]
     },
     "metadata": {},
     "output_type": "display_data"
    },
    {
     "name": "stdout",
     "output_type": "stream",
     "text": [
      "mrmse_nz: 1.230807, rmrmse_nz: 0.638645, mrmse: 0.306915, rmrmse: 0.168472 \n",
      "[2020-04-28 17:29:35,439] epoch: 70 | classification_loss: 0.7402\n",
      "[2020-04-28 17:29:35,984] checkpoint created at /home/ubuntu/ebs/Notebooks/for gaussian/pascal07_counting/model_latest.pt\n",
      "\n",
      "--------------------------------------------------------\n",
      "\n",
      "learning rate: 5e-05\n",
      "learning rate: 0.005\n",
      "stage 2 of the training: using criterion2\n"
     ]
    },
    {
     "data": {
      "application/vnd.jupyter.widget-view+json": {
       "model_id": "",
       "version_major": 2,
       "version_minor": 0
      },
      "text/plain": [
       "HBox(children=(IntProgress(value=0, description='train', max=157, style=ProgressStyle(description_width='initi…"
      ]
     },
     "metadata": {},
     "output_type": "display_data"
    },
    {
     "name": "stdout",
     "output_type": "stream",
     "text": [
      "validation start\n"
     ]
    },
    {
     "data": {
      "application/vnd.jupyter.widget-view+json": {
       "model_id": "",
       "version_major": 2,
       "version_minor": 0
      },
      "text/plain": [
       "HBox(children=(IntProgress(value=0, description='val', max=2510, style=ProgressStyle(description_width='initia…"
      ]
     },
     "metadata": {},
     "output_type": "display_data"
    },
    {
     "name": "stdout",
     "output_type": "stream",
     "text": [
      "mrmse_nz: 1.222696, rmrmse_nz: 0.624851, mrmse: 0.302132, rmrmse: 0.161831 \n",
      "[2020-04-28 17:32:06,007] epoch: 71 | classification_loss: 0.7387\n",
      "[2020-04-28 17:32:06,561] checkpoint created at /home/ubuntu/ebs/Notebooks/for gaussian/pascal07_counting/model_latest.pt\n",
      "\n",
      "--------------------------------------------------------\n",
      "\n",
      "learning rate: 5e-05\n",
      "learning rate: 0.005\n",
      "stage 2 of the training: using criterion2\n"
     ]
    },
    {
     "data": {
      "application/vnd.jupyter.widget-view+json": {
       "model_id": "",
       "version_major": 2,
       "version_minor": 0
      },
      "text/plain": [
       "HBox(children=(IntProgress(value=0, description='train', max=157, style=ProgressStyle(description_width='initi…"
      ]
     },
     "metadata": {},
     "output_type": "display_data"
    },
    {
     "name": "stdout",
     "output_type": "stream",
     "text": [
      "validation start\n"
     ]
    },
    {
     "data": {
      "application/vnd.jupyter.widget-view+json": {
       "model_id": "",
       "version_major": 2,
       "version_minor": 0
      },
      "text/plain": [
       "HBox(children=(IntProgress(value=0, description='val', max=2510, style=ProgressStyle(description_width='initia…"
      ]
     },
     "metadata": {},
     "output_type": "display_data"
    },
    {
     "name": "stdout",
     "output_type": "stream",
     "text": [
      "mrmse_nz: 1.222609, rmrmse_nz: 0.628935, mrmse: 0.303990, rmrmse: 0.164875 \n",
      "[2020-04-28 17:34:35,265] epoch: 72 | classification_loss: 0.7369\n",
      "[2020-04-28 17:34:35,815] checkpoint created at /home/ubuntu/ebs/Notebooks/for gaussian/pascal07_counting/model_latest.pt\n",
      "\n",
      "--------------------------------------------------------\n",
      "\n",
      "learning rate: 5e-05\n",
      "learning rate: 0.005\n",
      "stage 2 of the training: using criterion2\n"
     ]
    },
    {
     "data": {
      "application/vnd.jupyter.widget-view+json": {
       "model_id": "",
       "version_major": 2,
       "version_minor": 0
      },
      "text/plain": [
       "HBox(children=(IntProgress(value=0, description='train', max=157, style=ProgressStyle(description_width='initi…"
      ]
     },
     "metadata": {},
     "output_type": "display_data"
    },
    {
     "name": "stdout",
     "output_type": "stream",
     "text": [
      "validation start\n"
     ]
    },
    {
     "data": {
      "application/vnd.jupyter.widget-view+json": {
       "model_id": "",
       "version_major": 2,
       "version_minor": 0
      },
      "text/plain": [
       "HBox(children=(IntProgress(value=0, description='val', max=2510, style=ProgressStyle(description_width='initia…"
      ]
     },
     "metadata": {},
     "output_type": "display_data"
    },
    {
     "name": "stdout",
     "output_type": "stream",
     "text": [
      "mrmse_nz: 1.220135, rmrmse_nz: 0.628928, mrmse: 0.303486, rmrmse: 0.164109 \n",
      "[2020-04-28 17:37:05,298] epoch: 73 | classification_loss: 0.7361\n",
      "[2020-04-28 17:37:05,874] checkpoint created at /home/ubuntu/ebs/Notebooks/for gaussian/pascal07_counting/model_latest.pt\n",
      "\n",
      "--------------------------------------------------------\n",
      "\n",
      "learning rate: 5e-05\n",
      "learning rate: 0.005\n",
      "stage 2 of the training: using criterion2\n"
     ]
    },
    {
     "data": {
      "application/vnd.jupyter.widget-view+json": {
       "model_id": "",
       "version_major": 2,
       "version_minor": 0
      },
      "text/plain": [
       "HBox(children=(IntProgress(value=0, description='train', max=157, style=ProgressStyle(description_width='initi…"
      ]
     },
     "metadata": {},
     "output_type": "display_data"
    },
    {
     "name": "stdout",
     "output_type": "stream",
     "text": [
      "validation start\n"
     ]
    },
    {
     "data": {
      "application/vnd.jupyter.widget-view+json": {
       "model_id": "",
       "version_major": 2,
       "version_minor": 0
      },
      "text/plain": [
       "HBox(children=(IntProgress(value=0, description='val', max=2510, style=ProgressStyle(description_width='initia…"
      ]
     },
     "metadata": {},
     "output_type": "display_data"
    },
    {
     "name": "stdout",
     "output_type": "stream",
     "text": [
      "mrmse_nz: 1.214957, rmrmse_nz: 0.618201, mrmse: 0.300944, rmrmse: 0.161139 \n",
      "[2020-04-28 17:39:35,087] epoch: 74 | classification_loss: 0.7355\n",
      "[2020-04-28 17:39:35,639] checkpoint created at /home/ubuntu/ebs/Notebooks/for gaussian/pascal07_counting/model_latest.pt\n",
      "[2020-04-28 17:39:37,046] checkpoint created at /home/ubuntu/ebs/Notebooks/for gaussian/pascal07_counting/model_mrmse.pt\n",
      "\n",
      "--------------------------------------------------------\n",
      "\n",
      "learning rate: 5e-05\n",
      "learning rate: 0.005\n",
      "stage 2 of the training: using criterion2\n"
     ]
    },
    {
     "data": {
      "application/vnd.jupyter.widget-view+json": {
       "model_id": "",
       "version_major": 2,
       "version_minor": 0
      },
      "text/plain": [
       "HBox(children=(IntProgress(value=0, description='train', max=157, style=ProgressStyle(description_width='initi…"
      ]
     },
     "metadata": {},
     "output_type": "display_data"
    },
    {
     "name": "stdout",
     "output_type": "stream",
     "text": [
      "validation start\n"
     ]
    },
    {
     "data": {
      "application/vnd.jupyter.widget-view+json": {
       "model_id": "",
       "version_major": 2,
       "version_minor": 0
      },
      "text/plain": [
       "HBox(children=(IntProgress(value=0, description='val', max=2510, style=ProgressStyle(description_width='initia…"
      ]
     },
     "metadata": {},
     "output_type": "display_data"
    },
    {
     "name": "stdout",
     "output_type": "stream",
     "text": [
      "mrmse_nz: 1.218001, rmrmse_nz: 0.621811, mrmse: 0.302748, rmrmse: 0.162819 \n",
      "[2020-04-28 17:42:07,960] epoch: 75 | classification_loss: 0.7349\n",
      "[2020-04-28 17:42:08,511] checkpoint created at /home/ubuntu/ebs/Notebooks/for gaussian/pascal07_counting/model_latest.pt\n",
      "\n",
      "--------------------------------------------------------\n",
      "\n",
      "learning rate: 5e-05\n",
      "learning rate: 0.005\n",
      "stage 2 of the training: using criterion2\n"
     ]
    },
    {
     "data": {
      "application/vnd.jupyter.widget-view+json": {
       "model_id": "",
       "version_major": 2,
       "version_minor": 0
      },
      "text/plain": [
       "HBox(children=(IntProgress(value=0, description='train', max=157, style=ProgressStyle(description_width='initi…"
      ]
     },
     "metadata": {},
     "output_type": "display_data"
    },
    {
     "name": "stdout",
     "output_type": "stream",
     "text": [
      "validation start\n"
     ]
    },
    {
     "data": {
      "application/vnd.jupyter.widget-view+json": {
       "model_id": "",
       "version_major": 2,
       "version_minor": 0
      },
      "text/plain": [
       "HBox(children=(IntProgress(value=0, description='val', max=2510, style=ProgressStyle(description_width='initia…"
      ]
     },
     "metadata": {},
     "output_type": "display_data"
    },
    {
     "name": "stdout",
     "output_type": "stream",
     "text": [
      "mrmse_nz: 1.224910, rmrmse_nz: 0.633300, mrmse: 0.303074, rmrmse: 0.163988 \n",
      "[2020-04-28 17:44:37,283] epoch: 76 | classification_loss: 0.7358\n",
      "[2020-04-28 17:44:37,860] checkpoint created at /home/ubuntu/ebs/Notebooks/for gaussian/pascal07_counting/model_latest.pt\n",
      "\n",
      "--------------------------------------------------------\n",
      "\n",
      "learning rate: 5e-05\n",
      "learning rate: 0.005\n",
      "stage 2 of the training: using criterion2\n"
     ]
    },
    {
     "data": {
      "application/vnd.jupyter.widget-view+json": {
       "model_id": "",
       "version_major": 2,
       "version_minor": 0
      },
      "text/plain": [
       "HBox(children=(IntProgress(value=0, description='train', max=157, style=ProgressStyle(description_width='initi…"
      ]
     },
     "metadata": {},
     "output_type": "display_data"
    },
    {
     "name": "stdout",
     "output_type": "stream",
     "text": [
      "validation start\n"
     ]
    },
    {
     "data": {
      "application/vnd.jupyter.widget-view+json": {
       "model_id": "",
       "version_major": 2,
       "version_minor": 0
      },
      "text/plain": [
       "HBox(children=(IntProgress(value=0, description='val', max=2510, style=ProgressStyle(description_width='initia…"
      ]
     },
     "metadata": {},
     "output_type": "display_data"
    },
    {
     "name": "stdout",
     "output_type": "stream",
     "text": [
      "mrmse_nz: 1.225401, rmrmse_nz: 0.639165, mrmse: 0.305042, rmrmse: 0.167080 \n",
      "[2020-04-28 17:47:06,805] epoch: 77 | classification_loss: 0.7371\n",
      "[2020-04-28 17:47:07,383] checkpoint created at /home/ubuntu/ebs/Notebooks/for gaussian/pascal07_counting/model_latest.pt\n",
      "\n",
      "--------------------------------------------------------\n",
      "\n",
      "learning rate: 5e-05\n",
      "learning rate: 0.005\n",
      "stage 2 of the training: using criterion2\n"
     ]
    },
    {
     "data": {
      "application/vnd.jupyter.widget-view+json": {
       "model_id": "",
       "version_major": 2,
       "version_minor": 0
      },
      "text/plain": [
       "HBox(children=(IntProgress(value=0, description='train', max=157, style=ProgressStyle(description_width='initi…"
      ]
     },
     "metadata": {},
     "output_type": "display_data"
    },
    {
     "name": "stdout",
     "output_type": "stream",
     "text": [
      "validation start\n"
     ]
    },
    {
     "data": {
      "application/vnd.jupyter.widget-view+json": {
       "model_id": "",
       "version_major": 2,
       "version_minor": 0
      },
      "text/plain": [
       "HBox(children=(IntProgress(value=0, description='val', max=2510, style=ProgressStyle(description_width='initia…"
      ]
     },
     "metadata": {},
     "output_type": "display_data"
    },
    {
     "name": "stdout",
     "output_type": "stream",
     "text": [
      "mrmse_nz: 1.224544, rmrmse_nz: 0.632659, mrmse: 0.305204, rmrmse: 0.165918 \n",
      "[2020-04-28 17:49:35,924] epoch: 78 | classification_loss: 0.7325\n",
      "[2020-04-28 17:49:36,474] checkpoint created at /home/ubuntu/ebs/Notebooks/for gaussian/pascal07_counting/model_latest.pt\n",
      "\n",
      "--------------------------------------------------------\n",
      "\n",
      "learning rate: 5e-05\n",
      "learning rate: 0.005\n",
      "stage 2 of the training: using criterion2\n"
     ]
    },
    {
     "data": {
      "application/vnd.jupyter.widget-view+json": {
       "model_id": "",
       "version_major": 2,
       "version_minor": 0
      },
      "text/plain": [
       "HBox(children=(IntProgress(value=0, description='train', max=157, style=ProgressStyle(description_width='initi…"
      ]
     },
     "metadata": {},
     "output_type": "display_data"
    },
    {
     "name": "stdout",
     "output_type": "stream",
     "text": [
      "validation start\n"
     ]
    },
    {
     "data": {
      "application/vnd.jupyter.widget-view+json": {
       "model_id": "",
       "version_major": 2,
       "version_minor": 0
      },
      "text/plain": [
       "HBox(children=(IntProgress(value=0, description='val', max=2510, style=ProgressStyle(description_width='initia…"
      ]
     },
     "metadata": {},
     "output_type": "display_data"
    },
    {
     "name": "stdout",
     "output_type": "stream",
     "text": [
      "mrmse_nz: 1.211736, rmrmse_nz: 0.619685, mrmse: 0.301189, rmrmse: 0.161950 \n",
      "[2020-04-28 17:52:05,362] epoch: 79 | classification_loss: 0.7306\n",
      "[2020-04-28 17:52:05,913] checkpoint created at /home/ubuntu/ebs/Notebooks/for gaussian/pascal07_counting/model_latest.pt\n",
      "\n",
      "--------------------------------------------------------\n",
      "\n",
      "learning rate: 5e-05\n",
      "learning rate: 0.005\n",
      "stage 2 of the training: using criterion2\n"
     ]
    },
    {
     "data": {
      "application/vnd.jupyter.widget-view+json": {
       "model_id": "",
       "version_major": 2,
       "version_minor": 0
      },
      "text/plain": [
       "HBox(children=(IntProgress(value=0, description='train', max=157, style=ProgressStyle(description_width='initi…"
      ]
     },
     "metadata": {},
     "output_type": "display_data"
    },
    {
     "name": "stdout",
     "output_type": "stream",
     "text": [
      "validation start\n"
     ]
    },
    {
     "data": {
      "application/vnd.jupyter.widget-view+json": {
       "model_id": "",
       "version_major": 2,
       "version_minor": 0
      },
      "text/plain": [
       "HBox(children=(IntProgress(value=0, description='val', max=2510, style=ProgressStyle(description_width='initia…"
      ]
     },
     "metadata": {},
     "output_type": "display_data"
    },
    {
     "name": "stdout",
     "output_type": "stream",
     "text": [
      "mrmse_nz: 1.233811, rmrmse_nz: 0.642708, mrmse: 0.308143, rmrmse: 0.168854 \n",
      "[2020-04-28 17:54:35,665] epoch: 80 | classification_loss: 0.7335\n",
      "[2020-04-28 17:54:36,212] checkpoint created at /home/ubuntu/ebs/Notebooks/for gaussian/pascal07_counting/model_latest.pt\n",
      "\n",
      "--------------------------------------------------------\n",
      "\n",
      "learning rate: 5e-05\n",
      "learning rate: 0.005\n",
      "stage 2 of the training: using criterion2\n"
     ]
    },
    {
     "data": {
      "application/vnd.jupyter.widget-view+json": {
       "model_id": "",
       "version_major": 2,
       "version_minor": 0
      },
      "text/plain": [
       "HBox(children=(IntProgress(value=0, description='train', max=157, style=ProgressStyle(description_width='initi…"
      ]
     },
     "metadata": {},
     "output_type": "display_data"
    },
    {
     "name": "stdout",
     "output_type": "stream",
     "text": [
      "validation start\n"
     ]
    },
    {
     "data": {
      "application/vnd.jupyter.widget-view+json": {
       "model_id": "",
       "version_major": 2,
       "version_minor": 0
      },
      "text/plain": [
       "HBox(children=(IntProgress(value=0, description='val', max=2510, style=ProgressStyle(description_width='initia…"
      ]
     },
     "metadata": {},
     "output_type": "display_data"
    },
    {
     "name": "stdout",
     "output_type": "stream",
     "text": [
      "mrmse_nz: 1.230021, rmrmse_nz: 0.630047, mrmse: 0.305312, rmrmse: 0.163807 \n",
      "[2020-04-28 17:57:04,293] epoch: 81 | classification_loss: 0.7293\n",
      "[2020-04-28 17:57:04,843] checkpoint created at /home/ubuntu/ebs/Notebooks/for gaussian/pascal07_counting/model_latest.pt\n",
      "\n",
      "--------------------------------------------------------\n",
      "\n",
      "learning rate: 5e-05\n",
      "learning rate: 0.005\n",
      "stage 2 of the training: using criterion2\n"
     ]
    },
    {
     "data": {
      "application/vnd.jupyter.widget-view+json": {
       "model_id": "",
       "version_major": 2,
       "version_minor": 0
      },
      "text/plain": [
       "HBox(children=(IntProgress(value=0, description='train', max=157, style=ProgressStyle(description_width='initi…"
      ]
     },
     "metadata": {},
     "output_type": "display_data"
    },
    {
     "name": "stdout",
     "output_type": "stream",
     "text": [
      "validation start\n"
     ]
    },
    {
     "data": {
      "application/vnd.jupyter.widget-view+json": {
       "model_id": "",
       "version_major": 2,
       "version_minor": 0
      },
      "text/plain": [
       "HBox(children=(IntProgress(value=0, description='val', max=2510, style=ProgressStyle(description_width='initia…"
      ]
     },
     "metadata": {},
     "output_type": "display_data"
    },
    {
     "name": "stdout",
     "output_type": "stream",
     "text": [
      "mrmse_nz: 1.214655, rmrmse_nz: 0.624815, mrmse: 0.301778, rmrmse: 0.163468 \n",
      "[2020-04-28 17:59:34,035] epoch: 82 | classification_loss: 0.7301\n",
      "[2020-04-28 17:59:34,616] checkpoint created at /home/ubuntu/ebs/Notebooks/for gaussian/pascal07_counting/model_latest.pt\n",
      "\n",
      "--------------------------------------------------------\n",
      "\n",
      "learning rate: 5e-05\n",
      "learning rate: 0.005\n",
      "stage 2 of the training: using criterion2\n"
     ]
    },
    {
     "data": {
      "application/vnd.jupyter.widget-view+json": {
       "model_id": "",
       "version_major": 2,
       "version_minor": 0
      },
      "text/plain": [
       "HBox(children=(IntProgress(value=0, description='train', max=157, style=ProgressStyle(description_width='initi…"
      ]
     },
     "metadata": {},
     "output_type": "display_data"
    },
    {
     "name": "stdout",
     "output_type": "stream",
     "text": [
      "validation start\n"
     ]
    },
    {
     "data": {
      "application/vnd.jupyter.widget-view+json": {
       "model_id": "",
       "version_major": 2,
       "version_minor": 0
      },
      "text/plain": [
       "HBox(children=(IntProgress(value=0, description='val', max=2510, style=ProgressStyle(description_width='initia…"
      ]
     },
     "metadata": {},
     "output_type": "display_data"
    },
    {
     "name": "stdout",
     "output_type": "stream",
     "text": [
      "mrmse_nz: 1.203979, rmrmse_nz: 0.617005, mrmse: 0.300264, rmrmse: 0.163300 \n",
      "[2020-04-28 18:02:03,663] epoch: 83 | classification_loss: 0.7318\n",
      "[2020-04-28 18:02:04,212] checkpoint created at /home/ubuntu/ebs/Notebooks/for gaussian/pascal07_counting/model_latest.pt\n",
      "[2020-04-28 18:02:05,619] checkpoint created at /home/ubuntu/ebs/Notebooks/for gaussian/pascal07_counting/model_mrmse.pt\n",
      "\n",
      "--------------------------------------------------------\n",
      "\n",
      "learning rate: 5e-05\n",
      "learning rate: 0.005\n",
      "stage 2 of the training: using criterion2\n"
     ]
    },
    {
     "data": {
      "application/vnd.jupyter.widget-view+json": {
       "model_id": "",
       "version_major": 2,
       "version_minor": 0
      },
      "text/plain": [
       "HBox(children=(IntProgress(value=0, description='train', max=157, style=ProgressStyle(description_width='initi…"
      ]
     },
     "metadata": {},
     "output_type": "display_data"
    },
    {
     "name": "stdout",
     "output_type": "stream",
     "text": [
      "validation start\n"
     ]
    },
    {
     "data": {
      "application/vnd.jupyter.widget-view+json": {
       "model_id": "",
       "version_major": 2,
       "version_minor": 0
      },
      "text/plain": [
       "HBox(children=(IntProgress(value=0, description='val', max=2510, style=ProgressStyle(description_width='initia…"
      ]
     },
     "metadata": {},
     "output_type": "display_data"
    },
    {
     "name": "stdout",
     "output_type": "stream",
     "text": [
      "mrmse_nz: 1.215701, rmrmse_nz: 0.625897, mrmse: 0.303353, rmrmse: 0.163770 \n",
      "[2020-04-28 18:04:35,048] epoch: 84 | classification_loss: 0.7303\n",
      "[2020-04-28 18:04:35,597] checkpoint created at /home/ubuntu/ebs/Notebooks/for gaussian/pascal07_counting/model_latest.pt\n",
      "\n",
      "--------------------------------------------------------\n",
      "\n",
      "learning rate: 5e-05\n",
      "learning rate: 0.005\n",
      "stage 2 of the training: using criterion2\n"
     ]
    },
    {
     "data": {
      "application/vnd.jupyter.widget-view+json": {
       "model_id": "",
       "version_major": 2,
       "version_minor": 0
      },
      "text/plain": [
       "HBox(children=(IntProgress(value=0, description='train', max=157, style=ProgressStyle(description_width='initi…"
      ]
     },
     "metadata": {},
     "output_type": "display_data"
    },
    {
     "name": "stdout",
     "output_type": "stream",
     "text": [
      "validation start\n"
     ]
    },
    {
     "data": {
      "application/vnd.jupyter.widget-view+json": {
       "model_id": "",
       "version_major": 2,
       "version_minor": 0
      },
      "text/plain": [
       "HBox(children=(IntProgress(value=0, description='val', max=2510, style=ProgressStyle(description_width='initia…"
      ]
     },
     "metadata": {},
     "output_type": "display_data"
    },
    {
     "name": "stdout",
     "output_type": "stream",
     "text": [
      "mrmse_nz: 1.216190, rmrmse_nz: 0.629611, mrmse: 0.302425, rmrmse: 0.163717 \n",
      "[2020-04-28 18:07:05,668] epoch: 85 | classification_loss: 0.7286\n",
      "[2020-04-28 18:07:06,220] checkpoint created at /home/ubuntu/ebs/Notebooks/for gaussian/pascal07_counting/model_latest.pt\n",
      "\n",
      "--------------------------------------------------------\n",
      "\n",
      "learning rate: 5e-05\n",
      "learning rate: 0.005\n",
      "stage 2 of the training: using criterion2\n"
     ]
    },
    {
     "data": {
      "application/vnd.jupyter.widget-view+json": {
       "model_id": "",
       "version_major": 2,
       "version_minor": 0
      },
      "text/plain": [
       "HBox(children=(IntProgress(value=0, description='train', max=157, style=ProgressStyle(description_width='initi…"
      ]
     },
     "metadata": {},
     "output_type": "display_data"
    },
    {
     "name": "stdout",
     "output_type": "stream",
     "text": [
      "validation start\n"
     ]
    },
    {
     "data": {
      "application/vnd.jupyter.widget-view+json": {
       "model_id": "",
       "version_major": 2,
       "version_minor": 0
      },
      "text/plain": [
       "HBox(children=(IntProgress(value=0, description='val', max=2510, style=ProgressStyle(description_width='initia…"
      ]
     },
     "metadata": {},
     "output_type": "display_data"
    },
    {
     "name": "stdout",
     "output_type": "stream",
     "text": [
      "mrmse_nz: 1.216554, rmrmse_nz: 0.626315, mrmse: 0.301788, rmrmse: 0.163922 \n",
      "[2020-04-28 18:09:35,453] epoch: 86 | classification_loss: 0.7293\n",
      "[2020-04-28 18:09:35,999] checkpoint created at /home/ubuntu/ebs/Notebooks/for gaussian/pascal07_counting/model_latest.pt\n",
      "\n",
      "--------------------------------------------------------\n",
      "\n",
      "learning rate: 5e-05\n",
      "learning rate: 0.005\n",
      "stage 2 of the training: using criterion2\n"
     ]
    },
    {
     "data": {
      "application/vnd.jupyter.widget-view+json": {
       "model_id": "",
       "version_major": 2,
       "version_minor": 0
      },
      "text/plain": [
       "HBox(children=(IntProgress(value=0, description='train', max=157, style=ProgressStyle(description_width='initi…"
      ]
     },
     "metadata": {},
     "output_type": "display_data"
    },
    {
     "name": "stdout",
     "output_type": "stream",
     "text": [
      "validation start\n"
     ]
    },
    {
     "data": {
      "application/vnd.jupyter.widget-view+json": {
       "model_id": "",
       "version_major": 2,
       "version_minor": 0
      },
      "text/plain": [
       "HBox(children=(IntProgress(value=0, description='val', max=2510, style=ProgressStyle(description_width='initia…"
      ]
     },
     "metadata": {},
     "output_type": "display_data"
    },
    {
     "name": "stdout",
     "output_type": "stream",
     "text": [
      "mrmse_nz: 1.231571, rmrmse_nz: 0.637879, mrmse: 0.305330, rmrmse: 0.165509 \n",
      "[2020-04-28 18:12:05,818] epoch: 87 | classification_loss: 0.7286\n",
      "[2020-04-28 18:12:06,372] checkpoint created at /home/ubuntu/ebs/Notebooks/for gaussian/pascal07_counting/model_latest.pt\n",
      "\n",
      "--------------------------------------------------------\n",
      "\n",
      "learning rate: 5e-05\n",
      "learning rate: 0.005\n",
      "stage 2 of the training: using criterion2\n"
     ]
    },
    {
     "data": {
      "application/vnd.jupyter.widget-view+json": {
       "model_id": "",
       "version_major": 2,
       "version_minor": 0
      },
      "text/plain": [
       "HBox(children=(IntProgress(value=0, description='train', max=157, style=ProgressStyle(description_width='initi…"
      ]
     },
     "metadata": {},
     "output_type": "display_data"
    },
    {
     "name": "stdout",
     "output_type": "stream",
     "text": [
      "validation start\n"
     ]
    },
    {
     "data": {
      "application/vnd.jupyter.widget-view+json": {
       "model_id": "",
       "version_major": 2,
       "version_minor": 0
      },
      "text/plain": [
       "HBox(children=(IntProgress(value=0, description='val', max=2510, style=ProgressStyle(description_width='initia…"
      ]
     },
     "metadata": {},
     "output_type": "display_data"
    },
    {
     "name": "stdout",
     "output_type": "stream",
     "text": [
      "mrmse_nz: 1.224323, rmrmse_nz: 0.629079, mrmse: 0.305202, rmrmse: 0.165686 \n",
      "[2020-04-28 18:14:34,695] epoch: 88 | classification_loss: 0.7266\n",
      "[2020-04-28 18:14:35,244] checkpoint created at /home/ubuntu/ebs/Notebooks/for gaussian/pascal07_counting/model_latest.pt\n",
      "\n",
      "--------------------------------------------------------\n",
      "\n",
      "learning rate: 5e-05\n",
      "learning rate: 0.005\n",
      "stage 2 of the training: using criterion2\n"
     ]
    },
    {
     "data": {
      "application/vnd.jupyter.widget-view+json": {
       "model_id": "",
       "version_major": 2,
       "version_minor": 0
      },
      "text/plain": [
       "HBox(children=(IntProgress(value=0, description='train', max=157, style=ProgressStyle(description_width='initi…"
      ]
     },
     "metadata": {},
     "output_type": "display_data"
    },
    {
     "name": "stdout",
     "output_type": "stream",
     "text": [
      "validation start\n"
     ]
    },
    {
     "data": {
      "application/vnd.jupyter.widget-view+json": {
       "model_id": "",
       "version_major": 2,
       "version_minor": 0
      },
      "text/plain": [
       "HBox(children=(IntProgress(value=0, description='val', max=2510, style=ProgressStyle(description_width='initia…"
      ]
     },
     "metadata": {},
     "output_type": "display_data"
    },
    {
     "name": "stdout",
     "output_type": "stream",
     "text": [
      "mrmse_nz: 1.226580, rmrmse_nz: 0.631033, mrmse: 0.305987, rmrmse: 0.165897 \n",
      "[2020-04-28 18:17:04,548] epoch: 89 | classification_loss: 0.7299\n",
      "[2020-04-28 18:17:05,123] checkpoint created at /home/ubuntu/ebs/Notebooks/for gaussian/pascal07_counting/model_latest.pt\n",
      "\n",
      "--------------------------------------------------------\n",
      "\n",
      "learning rate: 5e-05\n",
      "learning rate: 0.005\n",
      "stage 2 of the training: using criterion2\n"
     ]
    },
    {
     "data": {
      "application/vnd.jupyter.widget-view+json": {
       "model_id": "",
       "version_major": 2,
       "version_minor": 0
      },
      "text/plain": [
       "HBox(children=(IntProgress(value=0, description='train', max=157, style=ProgressStyle(description_width='initi…"
      ]
     },
     "metadata": {},
     "output_type": "display_data"
    },
    {
     "name": "stdout",
     "output_type": "stream",
     "text": [
      "validation start\n"
     ]
    },
    {
     "data": {
      "application/vnd.jupyter.widget-view+json": {
       "model_id": "",
       "version_major": 2,
       "version_minor": 0
      },
      "text/plain": [
       "HBox(children=(IntProgress(value=0, description='val', max=2510, style=ProgressStyle(description_width='initia…"
      ]
     },
     "metadata": {},
     "output_type": "display_data"
    },
    {
     "name": "stdout",
     "output_type": "stream",
     "text": [
      "mrmse_nz: 1.204041, rmrmse_nz: 0.618837, mrmse: 0.300855, rmrmse: 0.163235 \n",
      "[2020-04-28 18:19:35,198] epoch: 90 | classification_loss: 0.7294\n",
      "[2020-04-28 18:19:35,749] checkpoint created at /home/ubuntu/ebs/Notebooks/for gaussian/pascal07_counting/model_latest.pt\n",
      "\n",
      "--------------------------------------------------------\n",
      "\n",
      "learning rate: 5e-05\n",
      "learning rate: 0.005\n",
      "stage 2 of the training: using criterion2\n"
     ]
    },
    {
     "data": {
      "application/vnd.jupyter.widget-view+json": {
       "model_id": "",
       "version_major": 2,
       "version_minor": 0
      },
      "text/plain": [
       "HBox(children=(IntProgress(value=0, description='train', max=157, style=ProgressStyle(description_width='initi…"
      ]
     },
     "metadata": {},
     "output_type": "display_data"
    },
    {
     "name": "stdout",
     "output_type": "stream",
     "text": [
      "validation start\n"
     ]
    },
    {
     "data": {
      "application/vnd.jupyter.widget-view+json": {
       "model_id": "",
       "version_major": 2,
       "version_minor": 0
      },
      "text/plain": [
       "HBox(children=(IntProgress(value=0, description='val', max=2510, style=ProgressStyle(description_width='initia…"
      ]
     },
     "metadata": {},
     "output_type": "display_data"
    },
    {
     "name": "stdout",
     "output_type": "stream",
     "text": [
      "mrmse_nz: 1.217834, rmrmse_nz: 0.632091, mrmse: 0.302382, rmrmse: 0.165014 \n",
      "[2020-04-28 18:22:06,180] epoch: 91 | classification_loss: 0.7265\n",
      "[2020-04-28 18:22:06,728] checkpoint created at /home/ubuntu/ebs/Notebooks/for gaussian/pascal07_counting/model_latest.pt\n",
      "\n",
      "--------------------------------------------------------\n",
      "\n",
      "learning rate: 5e-05\n",
      "learning rate: 0.005\n",
      "stage 2 of the training: using criterion2\n"
     ]
    },
    {
     "data": {
      "application/vnd.jupyter.widget-view+json": {
       "model_id": "",
       "version_major": 2,
       "version_minor": 0
      },
      "text/plain": [
       "HBox(children=(IntProgress(value=0, description='train', max=157, style=ProgressStyle(description_width='initi…"
      ]
     },
     "metadata": {},
     "output_type": "display_data"
    },
    {
     "name": "stdout",
     "output_type": "stream",
     "text": [
      "validation start\n"
     ]
    },
    {
     "data": {
      "application/vnd.jupyter.widget-view+json": {
       "model_id": "",
       "version_major": 2,
       "version_minor": 0
      },
      "text/plain": [
       "HBox(children=(IntProgress(value=0, description='val', max=2510, style=ProgressStyle(description_width='initia…"
      ]
     },
     "metadata": {},
     "output_type": "display_data"
    },
    {
     "name": "stdout",
     "output_type": "stream",
     "text": [
      "mrmse_nz: 1.222838, rmrmse_nz: 0.637790, mrmse: 0.305749, rmrmse: 0.167091 \n",
      "[2020-04-28 18:24:36,119] epoch: 92 | classification_loss: 0.7296\n",
      "[2020-04-28 18:24:36,689] checkpoint created at /home/ubuntu/ebs/Notebooks/for gaussian/pascal07_counting/model_latest.pt\n",
      "\n",
      "--------------------------------------------------------\n",
      "\n",
      "learning rate: 5e-05\n",
      "learning rate: 0.005\n",
      "stage 2 of the training: using criterion2\n"
     ]
    },
    {
     "data": {
      "application/vnd.jupyter.widget-view+json": {
       "model_id": "",
       "version_major": 2,
       "version_minor": 0
      },
      "text/plain": [
       "HBox(children=(IntProgress(value=0, description='train', max=157, style=ProgressStyle(description_width='initi…"
      ]
     },
     "metadata": {},
     "output_type": "display_data"
    },
    {
     "name": "stdout",
     "output_type": "stream",
     "text": [
      "validation start\n"
     ]
    },
    {
     "data": {
      "application/vnd.jupyter.widget-view+json": {
       "model_id": "",
       "version_major": 2,
       "version_minor": 0
      },
      "text/plain": [
       "HBox(children=(IntProgress(value=0, description='val', max=2510, style=ProgressStyle(description_width='initia…"
      ]
     },
     "metadata": {},
     "output_type": "display_data"
    },
    {
     "name": "stdout",
     "output_type": "stream",
     "text": [
      "mrmse_nz: 1.232278, rmrmse_nz: 0.627967, mrmse: 0.306193, rmrmse: 0.162038 \n",
      "[2020-04-28 18:27:05,277] epoch: 93 | classification_loss: 0.7245\n",
      "[2020-04-28 18:27:05,826] checkpoint created at /home/ubuntu/ebs/Notebooks/for gaussian/pascal07_counting/model_latest.pt\n",
      "\n",
      "--------------------------------------------------------\n",
      "\n",
      "learning rate: 5e-05\n",
      "learning rate: 0.005\n",
      "stage 2 of the training: using criterion2\n"
     ]
    },
    {
     "data": {
      "application/vnd.jupyter.widget-view+json": {
       "model_id": "",
       "version_major": 2,
       "version_minor": 0
      },
      "text/plain": [
       "HBox(children=(IntProgress(value=0, description='train', max=157, style=ProgressStyle(description_width='initi…"
      ]
     },
     "metadata": {},
     "output_type": "display_data"
    },
    {
     "name": "stdout",
     "output_type": "stream",
     "text": [
      "validation start\n"
     ]
    },
    {
     "data": {
      "application/vnd.jupyter.widget-view+json": {
       "model_id": "",
       "version_major": 2,
       "version_minor": 0
      },
      "text/plain": [
       "HBox(children=(IntProgress(value=0, description='val', max=2510, style=ProgressStyle(description_width='initia…"
      ]
     },
     "metadata": {},
     "output_type": "display_data"
    },
    {
     "name": "stdout",
     "output_type": "stream",
     "text": [
      "mrmse_nz: 1.238028, rmrmse_nz: 0.630051, mrmse: 0.307045, rmrmse: 0.163059 \n",
      "[2020-04-28 18:29:34,394] epoch: 94 | classification_loss: 0.7235\n",
      "[2020-04-28 18:29:34,939] checkpoint created at /home/ubuntu/ebs/Notebooks/for gaussian/pascal07_counting/model_latest.pt\n",
      "\n",
      "--------------------------------------------------------\n",
      "\n",
      "learning rate: 5e-05\n",
      "learning rate: 0.005\n",
      "stage 2 of the training: using criterion2\n"
     ]
    },
    {
     "data": {
      "application/vnd.jupyter.widget-view+json": {
       "model_id": "",
       "version_major": 2,
       "version_minor": 0
      },
      "text/plain": [
       "HBox(children=(IntProgress(value=0, description='train', max=157, style=ProgressStyle(description_width='initi…"
      ]
     },
     "metadata": {},
     "output_type": "display_data"
    },
    {
     "name": "stdout",
     "output_type": "stream",
     "text": [
      "validation start\n"
     ]
    },
    {
     "data": {
      "application/vnd.jupyter.widget-view+json": {
       "model_id": "",
       "version_major": 2,
       "version_minor": 0
      },
      "text/plain": [
       "HBox(children=(IntProgress(value=0, description='val', max=2510, style=ProgressStyle(description_width='initia…"
      ]
     },
     "metadata": {},
     "output_type": "display_data"
    },
    {
     "name": "stdout",
     "output_type": "stream",
     "text": [
      "mrmse_nz: 1.227070, rmrmse_nz: 0.627652, mrmse: 0.305350, rmrmse: 0.162997 \n",
      "[2020-04-28 18:32:04,960] epoch: 95 | classification_loss: 0.7261\n",
      "[2020-04-28 18:32:05,509] checkpoint created at /home/ubuntu/ebs/Notebooks/for gaussian/pascal07_counting/model_latest.pt\n",
      "\n",
      "--------------------------------------------------------\n",
      "\n",
      "learning rate: 5e-05\n",
      "learning rate: 0.005\n",
      "stage 2 of the training: using criterion2\n"
     ]
    },
    {
     "data": {
      "application/vnd.jupyter.widget-view+json": {
       "model_id": "",
       "version_major": 2,
       "version_minor": 0
      },
      "text/plain": [
       "HBox(children=(IntProgress(value=0, description='train', max=157, style=ProgressStyle(description_width='initi…"
      ]
     },
     "metadata": {},
     "output_type": "display_data"
    },
    {
     "name": "stdout",
     "output_type": "stream",
     "text": [
      "validation start\n"
     ]
    },
    {
     "data": {
      "application/vnd.jupyter.widget-view+json": {
       "model_id": "",
       "version_major": 2,
       "version_minor": 0
      },
      "text/plain": [
       "HBox(children=(IntProgress(value=0, description='val', max=2510, style=ProgressStyle(description_width='initia…"
      ]
     },
     "metadata": {},
     "output_type": "display_data"
    },
    {
     "name": "stdout",
     "output_type": "stream",
     "text": [
      "mrmse_nz: 1.220329, rmrmse_nz: 0.622441, mrmse: 0.302306, rmrmse: 0.161687 \n",
      "[2020-04-28 18:34:34,692] epoch: 96 | classification_loss: 0.7239\n",
      "[2020-04-28 18:34:35,242] checkpoint created at /home/ubuntu/ebs/Notebooks/for gaussian/pascal07_counting/model_latest.pt\n",
      "\n",
      "--------------------------------------------------------\n",
      "\n",
      "learning rate: 5e-05\n",
      "learning rate: 0.005\n",
      "stage 2 of the training: using criterion2\n"
     ]
    },
    {
     "data": {
      "application/vnd.jupyter.widget-view+json": {
       "model_id": "",
       "version_major": 2,
       "version_minor": 0
      },
      "text/plain": [
       "HBox(children=(IntProgress(value=0, description='train', max=157, style=ProgressStyle(description_width='initi…"
      ]
     },
     "metadata": {},
     "output_type": "display_data"
    },
    {
     "name": "stdout",
     "output_type": "stream",
     "text": [
      "validation start\n"
     ]
    },
    {
     "data": {
      "application/vnd.jupyter.widget-view+json": {
       "model_id": "",
       "version_major": 2,
       "version_minor": 0
      },
      "text/plain": [
       "HBox(children=(IntProgress(value=0, description='val', max=2510, style=ProgressStyle(description_width='initia…"
      ]
     },
     "metadata": {},
     "output_type": "display_data"
    },
    {
     "name": "stdout",
     "output_type": "stream",
     "text": [
      "mrmse_nz: 1.217721, rmrmse_nz: 0.622620, mrmse: 0.301806, rmrmse: 0.162052 \n",
      "[2020-04-28 18:37:04,736] epoch: 97 | classification_loss: 0.7240\n",
      "[2020-04-28 18:37:05,290] checkpoint created at /home/ubuntu/ebs/Notebooks/for gaussian/pascal07_counting/model_latest.pt\n",
      "\n",
      "--------------------------------------------------------\n",
      "\n",
      "learning rate: 5e-05\n",
      "learning rate: 0.005\n",
      "stage 2 of the training: using criterion2\n"
     ]
    },
    {
     "data": {
      "application/vnd.jupyter.widget-view+json": {
       "model_id": "",
       "version_major": 2,
       "version_minor": 0
      },
      "text/plain": [
       "HBox(children=(IntProgress(value=0, description='train', max=157, style=ProgressStyle(description_width='initi…"
      ]
     },
     "metadata": {},
     "output_type": "display_data"
    },
    {
     "name": "stdout",
     "output_type": "stream",
     "text": [
      "validation start\n"
     ]
    },
    {
     "data": {
      "application/vnd.jupyter.widget-view+json": {
       "model_id": "",
       "version_major": 2,
       "version_minor": 0
      },
      "text/plain": [
       "HBox(children=(IntProgress(value=0, description='val', max=2510, style=ProgressStyle(description_width='initia…"
      ]
     },
     "metadata": {},
     "output_type": "display_data"
    },
    {
     "name": "stdout",
     "output_type": "stream",
     "text": [
      "mrmse_nz: 1.219255, rmrmse_nz: 0.623678, mrmse: 0.302045, rmrmse: 0.161388 \n",
      "[2020-04-28 18:39:34,980] epoch: 98 | classification_loss: 0.7236\n",
      "[2020-04-28 18:39:35,527] checkpoint created at /home/ubuntu/ebs/Notebooks/for gaussian/pascal07_counting/model_latest.pt\n",
      "\n",
      "--------------------------------------------------------\n",
      "\n",
      "learning rate: 5e-05\n",
      "learning rate: 0.005\n",
      "stage 2 of the training: using criterion2\n"
     ]
    },
    {
     "data": {
      "application/vnd.jupyter.widget-view+json": {
       "model_id": "",
       "version_major": 2,
       "version_minor": 0
      },
      "text/plain": [
       "HBox(children=(IntProgress(value=0, description='train', max=157, style=ProgressStyle(description_width='initi…"
      ]
     },
     "metadata": {},
     "output_type": "display_data"
    },
    {
     "name": "stdout",
     "output_type": "stream",
     "text": [
      "validation start\n"
     ]
    },
    {
     "data": {
      "application/vnd.jupyter.widget-view+json": {
       "model_id": "",
       "version_major": 2,
       "version_minor": 0
      },
      "text/plain": [
       "HBox(children=(IntProgress(value=0, description='val', max=2510, style=ProgressStyle(description_width='initia…"
      ]
     },
     "metadata": {},
     "output_type": "display_data"
    },
    {
     "name": "stdout",
     "output_type": "stream",
     "text": [
      "mrmse_nz: 1.226711, rmrmse_nz: 0.635705, mrmse: 0.304835, rmrmse: 0.166344 \n",
      "[2020-04-28 18:42:05,079] epoch: 99 | classification_loss: 0.7210\n",
      "[2020-04-28 18:42:05,625] checkpoint created at /home/ubuntu/ebs/Notebooks/for gaussian/pascal07_counting/model_latest.pt\n",
      "\n",
      "--------------------------------------------------------\n",
      "\n",
      "learning rate: 2.5e-05\n",
      "learning rate: 0.0025\n",
      "stage 2 of the training: using criterion2\n"
     ]
    },
    {
     "data": {
      "application/vnd.jupyter.widget-view+json": {
       "model_id": "",
       "version_major": 2,
       "version_minor": 0
      },
      "text/plain": [
       "HBox(children=(IntProgress(value=0, description='train', max=157, style=ProgressStyle(description_width='initi…"
      ]
     },
     "metadata": {},
     "output_type": "display_data"
    },
    {
     "name": "stdout",
     "output_type": "stream",
     "text": [
      "validation start\n"
     ]
    },
    {
     "data": {
      "application/vnd.jupyter.widget-view+json": {
       "model_id": "",
       "version_major": 2,
       "version_minor": 0
      },
      "text/plain": [
       "HBox(children=(IntProgress(value=0, description='val', max=2510, style=ProgressStyle(description_width='initia…"
      ]
     },
     "metadata": {},
     "output_type": "display_data"
    },
    {
     "name": "stdout",
     "output_type": "stream",
     "text": [
      "mrmse_nz: 1.222464, rmrmse_nz: 0.628494, mrmse: 0.302885, rmrmse: 0.162327 \n",
      "[2020-04-28 18:44:34,128] epoch: 100 | classification_loss: 0.7228\n",
      "[2020-04-28 18:44:34,672] checkpoint created at /home/ubuntu/ebs/Notebooks/for gaussian/pascal07_counting/model_latest.pt\n",
      "\n",
      "--------------------------------------------------------\n",
      "\n",
      "learning rate: 2.5e-05\n",
      "learning rate: 0.0025\n",
      "stage 2 of the training: using criterion2\n"
     ]
    },
    {
     "data": {
      "application/vnd.jupyter.widget-view+json": {
       "model_id": "",
       "version_major": 2,
       "version_minor": 0
      },
      "text/plain": [
       "HBox(children=(IntProgress(value=0, description='train', max=157, style=ProgressStyle(description_width='initi…"
      ]
     },
     "metadata": {},
     "output_type": "display_data"
    },
    {
     "name": "stdout",
     "output_type": "stream",
     "text": [
      "validation start\n"
     ]
    },
    {
     "data": {
      "application/vnd.jupyter.widget-view+json": {
       "model_id": "",
       "version_major": 2,
       "version_minor": 0
      },
      "text/plain": [
       "HBox(children=(IntProgress(value=0, description='val', max=2510, style=ProgressStyle(description_width='initia…"
      ]
     },
     "metadata": {},
     "output_type": "display_data"
    },
    {
     "name": "stdout",
     "output_type": "stream",
     "text": [
      "mrmse_nz: 1.217230, rmrmse_nz: 0.627503, mrmse: 0.302635, rmrmse: 0.163661 \n",
      "[2020-04-28 18:47:03,937] epoch: 101 | classification_loss: 0.7210\n",
      "[2020-04-28 18:47:04,514] checkpoint created at /home/ubuntu/ebs/Notebooks/for gaussian/pascal07_counting/model_latest.pt\n",
      "\n",
      "--------------------------------------------------------\n",
      "\n",
      "learning rate: 2.5e-05\n",
      "learning rate: 0.0025\n",
      "stage 2 of the training: using criterion2\n"
     ]
    },
    {
     "data": {
      "application/vnd.jupyter.widget-view+json": {
       "model_id": "",
       "version_major": 2,
       "version_minor": 0
      },
      "text/plain": [
       "HBox(children=(IntProgress(value=0, description='train', max=157, style=ProgressStyle(description_width='initi…"
      ]
     },
     "metadata": {},
     "output_type": "display_data"
    },
    {
     "name": "stdout",
     "output_type": "stream",
     "text": [
      "validation start\n"
     ]
    },
    {
     "data": {
      "application/vnd.jupyter.widget-view+json": {
       "model_id": "",
       "version_major": 2,
       "version_minor": 0
      },
      "text/plain": [
       "HBox(children=(IntProgress(value=0, description='val', max=2510, style=ProgressStyle(description_width='initia…"
      ]
     },
     "metadata": {},
     "output_type": "display_data"
    },
    {
     "name": "stdout",
     "output_type": "stream",
     "text": [
      "mrmse_nz: 1.222876, rmrmse_nz: 0.627522, mrmse: 0.302860, rmrmse: 0.162648 \n",
      "[2020-04-28 18:49:33,636] epoch: 102 | classification_loss: 0.7259\n",
      "[2020-04-28 18:49:34,187] checkpoint created at /home/ubuntu/ebs/Notebooks/for gaussian/pascal07_counting/model_latest.pt\n",
      "\n",
      "--------------------------------------------------------\n",
      "\n",
      "learning rate: 2.5e-05\n",
      "learning rate: 0.0025\n",
      "stage 2 of the training: using criterion2\n"
     ]
    },
    {
     "data": {
      "application/vnd.jupyter.widget-view+json": {
       "model_id": "",
       "version_major": 2,
       "version_minor": 0
      },
      "text/plain": [
       "HBox(children=(IntProgress(value=0, description='train', max=157, style=ProgressStyle(description_width='initi…"
      ]
     },
     "metadata": {},
     "output_type": "display_data"
    },
    {
     "name": "stdout",
     "output_type": "stream",
     "text": [
      "validation start\n"
     ]
    },
    {
     "data": {
      "application/vnd.jupyter.widget-view+json": {
       "model_id": "",
       "version_major": 2,
       "version_minor": 0
      },
      "text/plain": [
       "HBox(children=(IntProgress(value=0, description='val', max=2510, style=ProgressStyle(description_width='initia…"
      ]
     },
     "metadata": {},
     "output_type": "display_data"
    },
    {
     "name": "stdout",
     "output_type": "stream",
     "text": [
      "mrmse_nz: 1.230301, rmrmse_nz: 0.627875, mrmse: 0.306569, rmrmse: 0.163129 \n",
      "[2020-04-28 18:52:03,422] epoch: 103 | classification_loss: 0.7210\n",
      "[2020-04-28 18:52:03,996] checkpoint created at /home/ubuntu/ebs/Notebooks/for gaussian/pascal07_counting/model_latest.pt\n",
      "\n",
      "--------------------------------------------------------\n",
      "\n",
      "learning rate: 2.5e-05\n",
      "learning rate: 0.0025\n",
      "stage 2 of the training: using criterion2\n"
     ]
    },
    {
     "data": {
      "application/vnd.jupyter.widget-view+json": {
       "model_id": "",
       "version_major": 2,
       "version_minor": 0
      },
      "text/plain": [
       "HBox(children=(IntProgress(value=0, description='train', max=157, style=ProgressStyle(description_width='initi…"
      ]
     },
     "metadata": {},
     "output_type": "display_data"
    },
    {
     "name": "stdout",
     "output_type": "stream",
     "text": [
      "validation start\n"
     ]
    },
    {
     "data": {
      "application/vnd.jupyter.widget-view+json": {
       "model_id": "",
       "version_major": 2,
       "version_minor": 0
      },
      "text/plain": [
       "HBox(children=(IntProgress(value=0, description='val', max=2510, style=ProgressStyle(description_width='initia…"
      ]
     },
     "metadata": {},
     "output_type": "display_data"
    },
    {
     "name": "stdout",
     "output_type": "stream",
     "text": [
      "mrmse_nz: 1.234283, rmrmse_nz: 0.631428, mrmse: 0.307149, rmrmse: 0.163830 \n",
      "[2020-04-28 18:54:33,469] epoch: 104 | classification_loss: 0.7198\n",
      "[2020-04-28 18:54:34,018] checkpoint created at /home/ubuntu/ebs/Notebooks/for gaussian/pascal07_counting/model_latest.pt\n",
      "\n",
      "--------------------------------------------------------\n",
      "\n",
      "learning rate: 2.5e-05\n",
      "learning rate: 0.0025\n",
      "stage 2 of the training: using criterion2\n"
     ]
    },
    {
     "data": {
      "application/vnd.jupyter.widget-view+json": {
       "model_id": "",
       "version_major": 2,
       "version_minor": 0
      },
      "text/plain": [
       "HBox(children=(IntProgress(value=0, description='train', max=157, style=ProgressStyle(description_width='initi…"
      ]
     },
     "metadata": {},
     "output_type": "display_data"
    },
    {
     "name": "stdout",
     "output_type": "stream",
     "text": [
      "validation start\n"
     ]
    },
    {
     "data": {
      "application/vnd.jupyter.widget-view+json": {
       "model_id": "",
       "version_major": 2,
       "version_minor": 0
      },
      "text/plain": [
       "HBox(children=(IntProgress(value=0, description='val', max=2510, style=ProgressStyle(description_width='initia…"
      ]
     },
     "metadata": {},
     "output_type": "display_data"
    },
    {
     "name": "stdout",
     "output_type": "stream",
     "text": [
      "mrmse_nz: 1.231963, rmrmse_nz: 0.628035, mrmse: 0.305974, rmrmse: 0.163658 \n",
      "[2020-04-28 18:57:02,967] epoch: 105 | classification_loss: 0.7186\n",
      "[2020-04-28 18:57:03,544] checkpoint created at /home/ubuntu/ebs/Notebooks/for gaussian/pascal07_counting/model_latest.pt\n",
      "\n",
      "--------------------------------------------------------\n",
      "\n",
      "learning rate: 2.5e-05\n",
      "learning rate: 0.0025\n",
      "stage 2 of the training: using criterion2\n"
     ]
    },
    {
     "data": {
      "application/vnd.jupyter.widget-view+json": {
       "model_id": "",
       "version_major": 2,
       "version_minor": 0
      },
      "text/plain": [
       "HBox(children=(IntProgress(value=0, description='train', max=157, style=ProgressStyle(description_width='initi…"
      ]
     },
     "metadata": {},
     "output_type": "display_data"
    },
    {
     "name": "stdout",
     "output_type": "stream",
     "text": [
      "validation start\n"
     ]
    },
    {
     "data": {
      "application/vnd.jupyter.widget-view+json": {
       "model_id": "",
       "version_major": 2,
       "version_minor": 0
      },
      "text/plain": [
       "HBox(children=(IntProgress(value=0, description='val', max=2510, style=ProgressStyle(description_width='initia…"
      ]
     },
     "metadata": {},
     "output_type": "display_data"
    },
    {
     "name": "stdout",
     "output_type": "stream",
     "text": [
      "mrmse_nz: 1.222178, rmrmse_nz: 0.630793, mrmse: 0.304491, rmrmse: 0.165192 \n",
      "[2020-04-28 18:59:32,472] epoch: 106 | classification_loss: 0.7175\n",
      "[2020-04-28 18:59:33,046] checkpoint created at /home/ubuntu/ebs/Notebooks/for gaussian/pascal07_counting/model_latest.pt\n",
      "\n",
      "--------------------------------------------------------\n",
      "\n",
      "learning rate: 2.5e-05\n",
      "learning rate: 0.0025\n",
      "stage 2 of the training: using criterion2\n"
     ]
    },
    {
     "data": {
      "application/vnd.jupyter.widget-view+json": {
       "model_id": "",
       "version_major": 2,
       "version_minor": 0
      },
      "text/plain": [
       "HBox(children=(IntProgress(value=0, description='train', max=157, style=ProgressStyle(description_width='initi…"
      ]
     },
     "metadata": {},
     "output_type": "display_data"
    },
    {
     "name": "stdout",
     "output_type": "stream",
     "text": [
      "validation start\n"
     ]
    },
    {
     "data": {
      "application/vnd.jupyter.widget-view+json": {
       "model_id": "",
       "version_major": 2,
       "version_minor": 0
      },
      "text/plain": [
       "HBox(children=(IntProgress(value=0, description='val', max=2510, style=ProgressStyle(description_width='initia…"
      ]
     },
     "metadata": {},
     "output_type": "display_data"
    },
    {
     "name": "stdout",
     "output_type": "stream",
     "text": [
      "mrmse_nz: 1.231494, rmrmse_nz: 0.631373, mrmse: 0.306188, rmrmse: 0.164269 \n",
      "[2020-04-28 19:02:02,034] epoch: 107 | classification_loss: 0.7207\n",
      "[2020-04-28 19:02:02,583] checkpoint created at /home/ubuntu/ebs/Notebooks/for gaussian/pascal07_counting/model_latest.pt\n",
      "\n",
      "--------------------------------------------------------\n",
      "\n",
      "learning rate: 2.5e-05\n",
      "learning rate: 0.0025\n",
      "stage 2 of the training: using criterion2\n"
     ]
    },
    {
     "data": {
      "application/vnd.jupyter.widget-view+json": {
       "model_id": "",
       "version_major": 2,
       "version_minor": 0
      },
      "text/plain": [
       "HBox(children=(IntProgress(value=0, description='train', max=157, style=ProgressStyle(description_width='initi…"
      ]
     },
     "metadata": {},
     "output_type": "display_data"
    },
    {
     "name": "stdout",
     "output_type": "stream",
     "text": [
      "validation start\n"
     ]
    },
    {
     "data": {
      "application/vnd.jupyter.widget-view+json": {
       "model_id": "",
       "version_major": 2,
       "version_minor": 0
      },
      "text/plain": [
       "HBox(children=(IntProgress(value=0, description='val', max=2510, style=ProgressStyle(description_width='initia…"
      ]
     },
     "metadata": {},
     "output_type": "display_data"
    },
    {
     "name": "stdout",
     "output_type": "stream",
     "text": [
      "mrmse_nz: 1.231568, rmrmse_nz: 0.632181, mrmse: 0.305913, rmrmse: 0.164694 \n",
      "[2020-04-28 19:04:32,278] epoch: 108 | classification_loss: 0.7197\n",
      "[2020-04-28 19:04:32,831] checkpoint created at /home/ubuntu/ebs/Notebooks/for gaussian/pascal07_counting/model_latest.pt\n",
      "\n",
      "--------------------------------------------------------\n",
      "\n",
      "learning rate: 2.5e-05\n",
      "learning rate: 0.0025\n",
      "stage 2 of the training: using criterion2\n"
     ]
    },
    {
     "data": {
      "application/vnd.jupyter.widget-view+json": {
       "model_id": "",
       "version_major": 2,
       "version_minor": 0
      },
      "text/plain": [
       "HBox(children=(IntProgress(value=0, description='train', max=157, style=ProgressStyle(description_width='initi…"
      ]
     },
     "metadata": {},
     "output_type": "display_data"
    },
    {
     "name": "stdout",
     "output_type": "stream",
     "text": [
      "validation start\n"
     ]
    },
    {
     "data": {
      "application/vnd.jupyter.widget-view+json": {
       "model_id": "",
       "version_major": 2,
       "version_minor": 0
      },
      "text/plain": [
       "HBox(children=(IntProgress(value=0, description='val', max=2510, style=ProgressStyle(description_width='initia…"
      ]
     },
     "metadata": {},
     "output_type": "display_data"
    },
    {
     "name": "stdout",
     "output_type": "stream",
     "text": [
      "mrmse_nz: 1.211539, rmrmse_nz: 0.619588, mrmse: 0.300964, rmrmse: 0.162399 \n",
      "[2020-04-28 19:07:01,943] epoch: 109 | classification_loss: 0.7175\n",
      "[2020-04-28 19:07:02,521] checkpoint created at /home/ubuntu/ebs/Notebooks/for gaussian/pascal07_counting/model_latest.pt\n",
      "\n",
      "--------------------------------------------------------\n",
      "\n",
      "learning rate: 2.5e-05\n",
      "learning rate: 0.0025\n",
      "stage 2 of the training: using criterion2\n"
     ]
    },
    {
     "data": {
      "application/vnd.jupyter.widget-view+json": {
       "model_id": "",
       "version_major": 2,
       "version_minor": 0
      },
      "text/plain": [
       "HBox(children=(IntProgress(value=0, description='train', max=157, style=ProgressStyle(description_width='initi…"
      ]
     },
     "metadata": {},
     "output_type": "display_data"
    },
    {
     "name": "stdout",
     "output_type": "stream",
     "text": [
      "validation start\n"
     ]
    },
    {
     "data": {
      "application/vnd.jupyter.widget-view+json": {
       "model_id": "",
       "version_major": 2,
       "version_minor": 0
      },
      "text/plain": [
       "HBox(children=(IntProgress(value=0, description='val', max=2510, style=ProgressStyle(description_width='initia…"
      ]
     },
     "metadata": {},
     "output_type": "display_data"
    },
    {
     "name": "stdout",
     "output_type": "stream",
     "text": [
      "mrmse_nz: 1.219838, rmrmse_nz: 0.626437, mrmse: 0.302744, rmrmse: 0.163307 \n",
      "[2020-04-28 19:09:31,946] epoch: 110 | classification_loss: 0.7167\n",
      "[2020-04-28 19:09:32,521] checkpoint created at /home/ubuntu/ebs/Notebooks/for gaussian/pascal07_counting/model_latest.pt\n",
      "\n",
      "--------------------------------------------------------\n",
      "\n",
      "learning rate: 2.5e-05\n",
      "learning rate: 0.0025\n",
      "stage 2 of the training: using criterion2\n"
     ]
    },
    {
     "data": {
      "application/vnd.jupyter.widget-view+json": {
       "model_id": "",
       "version_major": 2,
       "version_minor": 0
      },
      "text/plain": [
       "HBox(children=(IntProgress(value=0, description='train', max=157, style=ProgressStyle(description_width='initi…"
      ]
     },
     "metadata": {},
     "output_type": "display_data"
    },
    {
     "name": "stdout",
     "output_type": "stream",
     "text": [
      "validation start\n"
     ]
    },
    {
     "data": {
      "application/vnd.jupyter.widget-view+json": {
       "model_id": "",
       "version_major": 2,
       "version_minor": 0
      },
      "text/plain": [
       "HBox(children=(IntProgress(value=0, description='val', max=2510, style=ProgressStyle(description_width='initia…"
      ]
     },
     "metadata": {},
     "output_type": "display_data"
    },
    {
     "name": "stdout",
     "output_type": "stream",
     "text": [
      "mrmse_nz: 1.208425, rmrmse_nz: 0.623658, mrmse: 0.301981, rmrmse: 0.164243 \n",
      "[2020-04-28 19:12:00,968] epoch: 111 | classification_loss: 0.7189\n",
      "[2020-04-28 19:12:01,518] checkpoint created at /home/ubuntu/ebs/Notebooks/for gaussian/pascal07_counting/model_latest.pt\n",
      "\n",
      "--------------------------------------------------------\n",
      "\n",
      "learning rate: 2.5e-05\n",
      "learning rate: 0.0025\n",
      "stage 2 of the training: using criterion2\n"
     ]
    },
    {
     "data": {
      "application/vnd.jupyter.widget-view+json": {
       "model_id": "",
       "version_major": 2,
       "version_minor": 0
      },
      "text/plain": [
       "HBox(children=(IntProgress(value=0, description='train', max=157, style=ProgressStyle(description_width='initi…"
      ]
     },
     "metadata": {},
     "output_type": "display_data"
    },
    {
     "name": "stdout",
     "output_type": "stream",
     "text": [
      "validation start\n"
     ]
    },
    {
     "data": {
      "application/vnd.jupyter.widget-view+json": {
       "model_id": "",
       "version_major": 2,
       "version_minor": 0
      },
      "text/plain": [
       "HBox(children=(IntProgress(value=0, description='val', max=2510, style=ProgressStyle(description_width='initia…"
      ]
     },
     "metadata": {},
     "output_type": "display_data"
    },
    {
     "name": "stdout",
     "output_type": "stream",
     "text": [
      "mrmse_nz: 1.213885, rmrmse_nz: 0.633842, mrmse: 0.303118, rmrmse: 0.167327 \n",
      "[2020-04-28 19:14:31,665] epoch: 112 | classification_loss: 0.7165\n",
      "[2020-04-28 19:14:32,212] checkpoint created at /home/ubuntu/ebs/Notebooks/for gaussian/pascal07_counting/model_latest.pt\n",
      "\n",
      "--------------------------------------------------------\n",
      "\n",
      "learning rate: 2.5e-05\n",
      "learning rate: 0.0025\n",
      "stage 2 of the training: using criterion2\n"
     ]
    },
    {
     "data": {
      "application/vnd.jupyter.widget-view+json": {
       "model_id": "",
       "version_major": 2,
       "version_minor": 0
      },
      "text/plain": [
       "HBox(children=(IntProgress(value=0, description='train', max=157, style=ProgressStyle(description_width='initi…"
      ]
     },
     "metadata": {},
     "output_type": "display_data"
    },
    {
     "name": "stdout",
     "output_type": "stream",
     "text": [
      "validation start\n"
     ]
    },
    {
     "data": {
      "application/vnd.jupyter.widget-view+json": {
       "model_id": "",
       "version_major": 2,
       "version_minor": 0
      },
      "text/plain": [
       "HBox(children=(IntProgress(value=0, description='val', max=2510, style=ProgressStyle(description_width='initia…"
      ]
     },
     "metadata": {},
     "output_type": "display_data"
    },
    {
     "name": "stdout",
     "output_type": "stream",
     "text": [
      "mrmse_nz: 1.216470, rmrmse_nz: 0.626776, mrmse: 0.303202, rmrmse: 0.163561 \n",
      "[2020-04-28 19:17:00,682] epoch: 113 | classification_loss: 0.7163\n",
      "[2020-04-28 19:17:01,233] checkpoint created at /home/ubuntu/ebs/Notebooks/for gaussian/pascal07_counting/model_latest.pt\n",
      "\n",
      "--------------------------------------------------------\n",
      "\n",
      "learning rate: 2.5e-05\n",
      "learning rate: 0.0025\n",
      "stage 2 of the training: using criterion2\n"
     ]
    },
    {
     "data": {
      "application/vnd.jupyter.widget-view+json": {
       "model_id": "",
       "version_major": 2,
       "version_minor": 0
      },
      "text/plain": [
       "HBox(children=(IntProgress(value=0, description='train', max=157, style=ProgressStyle(description_width='initi…"
      ]
     },
     "metadata": {},
     "output_type": "display_data"
    },
    {
     "name": "stdout",
     "output_type": "stream",
     "text": [
      "validation start\n"
     ]
    },
    {
     "data": {
      "application/vnd.jupyter.widget-view+json": {
       "model_id": "",
       "version_major": 2,
       "version_minor": 0
      },
      "text/plain": [
       "HBox(children=(IntProgress(value=0, description='val', max=2510, style=ProgressStyle(description_width='initia…"
      ]
     },
     "metadata": {},
     "output_type": "display_data"
    },
    {
     "name": "stdout",
     "output_type": "stream",
     "text": [
      "mrmse_nz: 1.216731, rmrmse_nz: 0.626779, mrmse: 0.302170, rmrmse: 0.162884 \n",
      "[2020-04-28 19:19:30,706] epoch: 114 | classification_loss: 0.7159\n",
      "[2020-04-28 19:19:31,254] checkpoint created at /home/ubuntu/ebs/Notebooks/for gaussian/pascal07_counting/model_latest.pt\n",
      "\n",
      "--------------------------------------------------------\n",
      "\n",
      "learning rate: 2.5e-05\n",
      "learning rate: 0.0025\n",
      "stage 2 of the training: using criterion2\n"
     ]
    },
    {
     "data": {
      "application/vnd.jupyter.widget-view+json": {
       "model_id": "",
       "version_major": 2,
       "version_minor": 0
      },
      "text/plain": [
       "HBox(children=(IntProgress(value=0, description='train', max=157, style=ProgressStyle(description_width='initi…"
      ]
     },
     "metadata": {},
     "output_type": "display_data"
    },
    {
     "name": "stdout",
     "output_type": "stream",
     "text": [
      "validation start\n"
     ]
    },
    {
     "data": {
      "application/vnd.jupyter.widget-view+json": {
       "model_id": "",
       "version_major": 2,
       "version_minor": 0
      },
      "text/plain": [
       "HBox(children=(IntProgress(value=0, description='val', max=2510, style=ProgressStyle(description_width='initia…"
      ]
     },
     "metadata": {},
     "output_type": "display_data"
    },
    {
     "name": "stdout",
     "output_type": "stream",
     "text": [
      "mrmse_nz: 1.219256, rmrmse_nz: 0.624852, mrmse: 0.303797, rmrmse: 0.162680 \n",
      "[2020-04-28 19:22:00,669] epoch: 115 | classification_loss: 0.7184\n",
      "[2020-04-28 19:22:01,217] checkpoint created at /home/ubuntu/ebs/Notebooks/for gaussian/pascal07_counting/model_latest.pt\n",
      "\n",
      "--------------------------------------------------------\n",
      "\n",
      "learning rate: 2.5e-05\n",
      "learning rate: 0.0025\n",
      "stage 2 of the training: using criterion2\n"
     ]
    },
    {
     "data": {
      "application/vnd.jupyter.widget-view+json": {
       "model_id": "",
       "version_major": 2,
       "version_minor": 0
      },
      "text/plain": [
       "HBox(children=(IntProgress(value=0, description='train', max=157, style=ProgressStyle(description_width='initi…"
      ]
     },
     "metadata": {},
     "output_type": "display_data"
    },
    {
     "name": "stdout",
     "output_type": "stream",
     "text": [
      "validation start\n"
     ]
    },
    {
     "data": {
      "application/vnd.jupyter.widget-view+json": {
       "model_id": "",
       "version_major": 2,
       "version_minor": 0
      },
      "text/plain": [
       "HBox(children=(IntProgress(value=0, description='val', max=2510, style=ProgressStyle(description_width='initia…"
      ]
     },
     "metadata": {},
     "output_type": "display_data"
    },
    {
     "name": "stdout",
     "output_type": "stream",
     "text": [
      "mrmse_nz: 1.236305, rmrmse_nz: 0.635871, mrmse: 0.306895, rmrmse: 0.163724 \n",
      "[2020-04-28 19:24:29,449] epoch: 116 | classification_loss: 0.7177\n",
      "[2020-04-28 19:24:30,025] checkpoint created at /home/ubuntu/ebs/Notebooks/for gaussian/pascal07_counting/model_latest.pt\n",
      "\n",
      "--------------------------------------------------------\n",
      "\n",
      "learning rate: 2.5e-05\n",
      "learning rate: 0.0025\n",
      "stage 2 of the training: using criterion2\n"
     ]
    },
    {
     "data": {
      "application/vnd.jupyter.widget-view+json": {
       "model_id": "",
       "version_major": 2,
       "version_minor": 0
      },
      "text/plain": [
       "HBox(children=(IntProgress(value=0, description='train', max=157, style=ProgressStyle(description_width='initi…"
      ]
     },
     "metadata": {},
     "output_type": "display_data"
    },
    {
     "name": "stdout",
     "output_type": "stream",
     "text": [
      "validation start\n"
     ]
    },
    {
     "data": {
      "application/vnd.jupyter.widget-view+json": {
       "model_id": "",
       "version_major": 2,
       "version_minor": 0
      },
      "text/plain": [
       "HBox(children=(IntProgress(value=0, description='val', max=2510, style=ProgressStyle(description_width='initia…"
      ]
     },
     "metadata": {},
     "output_type": "display_data"
    },
    {
     "name": "stdout",
     "output_type": "stream",
     "text": [
      "mrmse_nz: 1.226440, rmrmse_nz: 0.624948, mrmse: 0.304928, rmrmse: 0.161541 \n",
      "[2020-04-28 19:27:00,022] epoch: 117 | classification_loss: 0.7169\n",
      "[2020-04-28 19:27:00,569] checkpoint created at /home/ubuntu/ebs/Notebooks/for gaussian/pascal07_counting/model_latest.pt\n",
      "\n",
      "--------------------------------------------------------\n",
      "\n",
      "learning rate: 2.5e-05\n",
      "learning rate: 0.0025\n",
      "stage 2 of the training: using criterion2\n"
     ]
    },
    {
     "data": {
      "application/vnd.jupyter.widget-view+json": {
       "model_id": "",
       "version_major": 2,
       "version_minor": 0
      },
      "text/plain": [
       "HBox(children=(IntProgress(value=0, description='train', max=157, style=ProgressStyle(description_width='initi…"
      ]
     },
     "metadata": {},
     "output_type": "display_data"
    },
    {
     "name": "stdout",
     "output_type": "stream",
     "text": [
      "validation start\n"
     ]
    },
    {
     "data": {
      "application/vnd.jupyter.widget-view+json": {
       "model_id": "",
       "version_major": 2,
       "version_minor": 0
      },
      "text/plain": [
       "HBox(children=(IntProgress(value=0, description='val', max=2510, style=ProgressStyle(description_width='initia…"
      ]
     },
     "metadata": {},
     "output_type": "display_data"
    },
    {
     "name": "stdout",
     "output_type": "stream",
     "text": [
      "mrmse_nz: 1.229698, rmrmse_nz: 0.629563, mrmse: 0.305233, rmrmse: 0.162947 \n",
      "[2020-04-28 19:29:30,317] epoch: 118 | classification_loss: 0.7149\n",
      "[2020-04-28 19:29:30,863] checkpoint created at /home/ubuntu/ebs/Notebooks/for gaussian/pascal07_counting/model_latest.pt\n",
      "\n",
      "--------------------------------------------------------\n",
      "\n",
      "learning rate: 2.5e-05\n",
      "learning rate: 0.0025\n",
      "stage 2 of the training: using criterion2\n"
     ]
    },
    {
     "data": {
      "application/vnd.jupyter.widget-view+json": {
       "model_id": "",
       "version_major": 2,
       "version_minor": 0
      },
      "text/plain": [
       "HBox(children=(IntProgress(value=0, description='train', max=157, style=ProgressStyle(description_width='initi…"
      ]
     },
     "metadata": {},
     "output_type": "display_data"
    },
    {
     "name": "stdout",
     "output_type": "stream",
     "text": [
      "validation start\n"
     ]
    },
    {
     "data": {
      "application/vnd.jupyter.widget-view+json": {
       "model_id": "",
       "version_major": 2,
       "version_minor": 0
      },
      "text/plain": [
       "HBox(children=(IntProgress(value=0, description='val', max=2510, style=ProgressStyle(description_width='initia…"
      ]
     },
     "metadata": {},
     "output_type": "display_data"
    },
    {
     "name": "stdout",
     "output_type": "stream",
     "text": [
      "mrmse_nz: 1.226737, rmrmse_nz: 0.624631, mrmse: 0.303635, rmrmse: 0.162093 \n",
      "[2020-04-28 19:32:00,924] epoch: 119 | classification_loss: 0.7152\n",
      "[2020-04-28 19:32:01,479] checkpoint created at /home/ubuntu/ebs/Notebooks/for gaussian/pascal07_counting/model_latest.pt\n",
      "\n",
      "--------------------------------------------------------\n",
      "\n",
      "learning rate: 2.5e-05\n",
      "learning rate: 0.0025\n",
      "stage 2 of the training: using criterion2\n"
     ]
    },
    {
     "data": {
      "application/vnd.jupyter.widget-view+json": {
       "model_id": "",
       "version_major": 2,
       "version_minor": 0
      },
      "text/plain": [
       "HBox(children=(IntProgress(value=0, description='train', max=157, style=ProgressStyle(description_width='initi…"
      ]
     },
     "metadata": {},
     "output_type": "display_data"
    },
    {
     "name": "stdout",
     "output_type": "stream",
     "text": [
      "validation start\n"
     ]
    },
    {
     "data": {
      "application/vnd.jupyter.widget-view+json": {
       "model_id": "",
       "version_major": 2,
       "version_minor": 0
      },
      "text/plain": [
       "HBox(children=(IntProgress(value=0, description='val', max=2510, style=ProgressStyle(description_width='initia…"
      ]
     },
     "metadata": {},
     "output_type": "display_data"
    },
    {
     "name": "stdout",
     "output_type": "stream",
     "text": [
      "mrmse_nz: 1.218736, rmrmse_nz: 0.630660, mrmse: 0.303296, rmrmse: 0.164122 \n",
      "[2020-04-28 19:34:30,722] epoch: 120 | classification_loss: 0.7136\n",
      "[2020-04-28 19:34:31,269] checkpoint created at /home/ubuntu/ebs/Notebooks/for gaussian/pascal07_counting/model_latest.pt\n",
      "\n",
      "--------------------------------------------------------\n",
      "\n",
      "learning rate: 2.5e-05\n",
      "learning rate: 0.0025\n",
      "stage 2 of the training: using criterion2\n"
     ]
    },
    {
     "data": {
      "application/vnd.jupyter.widget-view+json": {
       "model_id": "",
       "version_major": 2,
       "version_minor": 0
      },
      "text/plain": [
       "HBox(children=(IntProgress(value=0, description='train', max=157, style=ProgressStyle(description_width='initi…"
      ]
     },
     "metadata": {},
     "output_type": "display_data"
    },
    {
     "name": "stdout",
     "output_type": "stream",
     "text": [
      "validation start\n"
     ]
    },
    {
     "data": {
      "application/vnd.jupyter.widget-view+json": {
       "model_id": "",
       "version_major": 2,
       "version_minor": 0
      },
      "text/plain": [
       "HBox(children=(IntProgress(value=0, description='val', max=2510, style=ProgressStyle(description_width='initia…"
      ]
     },
     "metadata": {},
     "output_type": "display_data"
    },
    {
     "name": "stdout",
     "output_type": "stream",
     "text": [
      "mrmse_nz: 1.213184, rmrmse_nz: 0.631955, mrmse: 0.302278, rmrmse: 0.166347 \n",
      "[2020-04-28 19:37:01,274] epoch: 121 | classification_loss: 0.7191\n",
      "[2020-04-28 19:37:01,821] checkpoint created at /home/ubuntu/ebs/Notebooks/for gaussian/pascal07_counting/model_latest.pt\n",
      "\n",
      "--------------------------------------------------------\n",
      "\n",
      "learning rate: 2.5e-05\n",
      "learning rate: 0.0025\n",
      "stage 2 of the training: using criterion2\n"
     ]
    },
    {
     "data": {
      "application/vnd.jupyter.widget-view+json": {
       "model_id": "",
       "version_major": 2,
       "version_minor": 0
      },
      "text/plain": [
       "HBox(children=(IntProgress(value=0, description='train', max=157, style=ProgressStyle(description_width='initi…"
      ]
     },
     "metadata": {},
     "output_type": "display_data"
    },
    {
     "name": "stdout",
     "output_type": "stream",
     "text": [
      "validation start\n"
     ]
    },
    {
     "data": {
      "application/vnd.jupyter.widget-view+json": {
       "model_id": "",
       "version_major": 2,
       "version_minor": 0
      },
      "text/plain": [
       "HBox(children=(IntProgress(value=0, description='val', max=2510, style=ProgressStyle(description_width='initia…"
      ]
     },
     "metadata": {},
     "output_type": "display_data"
    },
    {
     "name": "stdout",
     "output_type": "stream",
     "text": [
      "mrmse_nz: 1.231157, rmrmse_nz: 0.627996, mrmse: 0.306764, rmrmse: 0.163739 \n",
      "[2020-04-28 19:39:30,632] epoch: 122 | classification_loss: 0.7141\n",
      "[2020-04-28 19:39:31,185] checkpoint created at /home/ubuntu/ebs/Notebooks/for gaussian/pascal07_counting/model_latest.pt\n",
      "\n",
      "--------------------------------------------------------\n",
      "\n",
      "learning rate: 2.5e-05\n",
      "learning rate: 0.0025\n",
      "stage 2 of the training: using criterion2\n"
     ]
    },
    {
     "data": {
      "application/vnd.jupyter.widget-view+json": {
       "model_id": "",
       "version_major": 2,
       "version_minor": 0
      },
      "text/plain": [
       "HBox(children=(IntProgress(value=0, description='train', max=157, style=ProgressStyle(description_width='initi…"
      ]
     },
     "metadata": {},
     "output_type": "display_data"
    },
    {
     "name": "stdout",
     "output_type": "stream",
     "text": [
      "validation start\n"
     ]
    },
    {
     "data": {
      "application/vnd.jupyter.widget-view+json": {
       "model_id": "",
       "version_major": 2,
       "version_minor": 0
      },
      "text/plain": [
       "HBox(children=(IntProgress(value=0, description='val', max=2510, style=ProgressStyle(description_width='initia…"
      ]
     },
     "metadata": {},
     "output_type": "display_data"
    },
    {
     "name": "stdout",
     "output_type": "stream",
     "text": [
      "mrmse_nz: 1.224405, rmrmse_nz: 0.630868, mrmse: 0.304062, rmrmse: 0.164636 \n",
      "[2020-04-28 19:42:00,546] epoch: 123 | classification_loss: 0.7152\n",
      "[2020-04-28 19:42:01,123] checkpoint created at /home/ubuntu/ebs/Notebooks/for gaussian/pascal07_counting/model_latest.pt\n",
      "\n",
      "--------------------------------------------------------\n",
      "\n",
      "learning rate: 2.5e-05\n",
      "learning rate: 0.0025\n",
      "stage 2 of the training: using criterion2\n"
     ]
    },
    {
     "data": {
      "application/vnd.jupyter.widget-view+json": {
       "model_id": "",
       "version_major": 2,
       "version_minor": 0
      },
      "text/plain": [
       "HBox(children=(IntProgress(value=0, description='train', max=157, style=ProgressStyle(description_width='initi…"
      ]
     },
     "metadata": {},
     "output_type": "display_data"
    },
    {
     "name": "stdout",
     "output_type": "stream",
     "text": [
      "validation start\n"
     ]
    },
    {
     "data": {
      "application/vnd.jupyter.widget-view+json": {
       "model_id": "",
       "version_major": 2,
       "version_minor": 0
      },
      "text/plain": [
       "HBox(children=(IntProgress(value=0, description='val', max=2510, style=ProgressStyle(description_width='initia…"
      ]
     },
     "metadata": {},
     "output_type": "display_data"
    },
    {
     "name": "stdout",
     "output_type": "stream",
     "text": [
      "mrmse_nz: 1.209437, rmrmse_nz: 0.630859, mrmse: 0.301442, rmrmse: 0.165499 \n",
      "[2020-04-28 19:44:29,483] epoch: 124 | classification_loss: 0.7173\n",
      "[2020-04-28 19:44:30,032] checkpoint created at /home/ubuntu/ebs/Notebooks/for gaussian/pascal07_counting/model_latest.pt\n",
      "\n",
      "--------------------------------------------------------\n",
      "\n",
      "learning rate: 2.5e-05\n",
      "learning rate: 0.0025\n",
      "stage 2 of the training: using criterion2\n"
     ]
    },
    {
     "data": {
      "application/vnd.jupyter.widget-view+json": {
       "model_id": "",
       "version_major": 2,
       "version_minor": 0
      },
      "text/plain": [
       "HBox(children=(IntProgress(value=0, description='train', max=157, style=ProgressStyle(description_width='initi…"
      ]
     },
     "metadata": {},
     "output_type": "display_data"
    },
    {
     "name": "stdout",
     "output_type": "stream",
     "text": [
      "validation start\n"
     ]
    },
    {
     "data": {
      "application/vnd.jupyter.widget-view+json": {
       "model_id": "",
       "version_major": 2,
       "version_minor": 0
      },
      "text/plain": [
       "HBox(children=(IntProgress(value=0, description='val', max=2510, style=ProgressStyle(description_width='initia…"
      ]
     },
     "metadata": {},
     "output_type": "display_data"
    },
    {
     "name": "stdout",
     "output_type": "stream",
     "text": [
      "mrmse_nz: 1.214676, rmrmse_nz: 0.626758, mrmse: 0.302918, rmrmse: 0.164601 \n",
      "[2020-04-28 19:46:58,660] epoch: 125 | classification_loss: 0.7144\n",
      "[2020-04-28 19:46:59,209] checkpoint created at /home/ubuntu/ebs/Notebooks/for gaussian/pascal07_counting/model_latest.pt\n",
      "\n",
      "--------------------------------------------------------\n",
      "\n",
      "learning rate: 2.5e-05\n",
      "learning rate: 0.0025\n",
      "stage 2 of the training: using criterion2\n"
     ]
    },
    {
     "data": {
      "application/vnd.jupyter.widget-view+json": {
       "model_id": "",
       "version_major": 2,
       "version_minor": 0
      },
      "text/plain": [
       "HBox(children=(IntProgress(value=0, description='train', max=157, style=ProgressStyle(description_width='initi…"
      ]
     },
     "metadata": {},
     "output_type": "display_data"
    },
    {
     "name": "stdout",
     "output_type": "stream",
     "text": [
      "validation start\n"
     ]
    },
    {
     "data": {
      "application/vnd.jupyter.widget-view+json": {
       "model_id": "",
       "version_major": 2,
       "version_minor": 0
      },
      "text/plain": [
       "HBox(children=(IntProgress(value=0, description='val', max=2510, style=ProgressStyle(description_width='initia…"
      ]
     },
     "metadata": {},
     "output_type": "display_data"
    },
    {
     "name": "stdout",
     "output_type": "stream",
     "text": [
      "mrmse_nz: 1.214038, rmrmse_nz: 0.619654, mrmse: 0.301019, rmrmse: 0.160790 \n",
      "[2020-04-28 19:49:28,734] epoch: 126 | classification_loss: 0.7141\n",
      "[2020-04-28 19:49:29,282] checkpoint created at /home/ubuntu/ebs/Notebooks/for gaussian/pascal07_counting/model_latest.pt\n",
      "\n",
      "--------------------------------------------------------\n",
      "\n",
      "learning rate: 2.5e-05\n",
      "learning rate: 0.0025\n",
      "stage 2 of the training: using criterion2\n"
     ]
    },
    {
     "data": {
      "application/vnd.jupyter.widget-view+json": {
       "model_id": "",
       "version_major": 2,
       "version_minor": 0
      },
      "text/plain": [
       "HBox(children=(IntProgress(value=0, description='train', max=157, style=ProgressStyle(description_width='initi…"
      ]
     },
     "metadata": {},
     "output_type": "display_data"
    },
    {
     "name": "stdout",
     "output_type": "stream",
     "text": [
      "validation start\n"
     ]
    },
    {
     "data": {
      "application/vnd.jupyter.widget-view+json": {
       "model_id": "",
       "version_major": 2,
       "version_minor": 0
      },
      "text/plain": [
       "HBox(children=(IntProgress(value=0, description='val', max=2510, style=ProgressStyle(description_width='initia…"
      ]
     },
     "metadata": {},
     "output_type": "display_data"
    },
    {
     "name": "stdout",
     "output_type": "stream",
     "text": [
      "mrmse_nz: 1.220184, rmrmse_nz: 0.623327, mrmse: 0.302790, rmrmse: 0.161253 \n",
      "[2020-04-28 19:51:59,359] epoch: 127 | classification_loss: 0.7144\n",
      "[2020-04-28 19:51:59,936] checkpoint created at /home/ubuntu/ebs/Notebooks/for gaussian/pascal07_counting/model_latest.pt\n",
      "\n",
      "--------------------------------------------------------\n",
      "\n",
      "learning rate: 2.5e-05\n",
      "learning rate: 0.0025\n",
      "stage 2 of the training: using criterion2\n"
     ]
    },
    {
     "data": {
      "application/vnd.jupyter.widget-view+json": {
       "model_id": "",
       "version_major": 2,
       "version_minor": 0
      },
      "text/plain": [
       "HBox(children=(IntProgress(value=0, description='train', max=157, style=ProgressStyle(description_width='initi…"
      ]
     },
     "metadata": {},
     "output_type": "display_data"
    },
    {
     "name": "stdout",
     "output_type": "stream",
     "text": [
      "validation start\n"
     ]
    },
    {
     "data": {
      "application/vnd.jupyter.widget-view+json": {
       "model_id": "",
       "version_major": 2,
       "version_minor": 0
      },
      "text/plain": [
       "HBox(children=(IntProgress(value=0, description='val', max=2510, style=ProgressStyle(description_width='initia…"
      ]
     },
     "metadata": {},
     "output_type": "display_data"
    },
    {
     "name": "stdout",
     "output_type": "stream",
     "text": [
      "mrmse_nz: 1.234134, rmrmse_nz: 0.636702, mrmse: 0.305483, rmrmse: 0.164682 \n",
      "[2020-04-28 19:54:28,508] epoch: 128 | classification_loss: 0.7121\n",
      "[2020-04-28 19:54:29,055] checkpoint created at /home/ubuntu/ebs/Notebooks/for gaussian/pascal07_counting/model_latest.pt\n",
      "\n",
      "--------------------------------------------------------\n",
      "\n",
      "learning rate: 2.5e-05\n",
      "learning rate: 0.0025\n",
      "stage 2 of the training: using criterion2\n"
     ]
    },
    {
     "data": {
      "application/vnd.jupyter.widget-view+json": {
       "model_id": "",
       "version_major": 2,
       "version_minor": 0
      },
      "text/plain": [
       "HBox(children=(IntProgress(value=0, description='train', max=157, style=ProgressStyle(description_width='initi…"
      ]
     },
     "metadata": {},
     "output_type": "display_data"
    },
    {
     "name": "stdout",
     "output_type": "stream",
     "text": [
      "validation start\n"
     ]
    },
    {
     "data": {
      "application/vnd.jupyter.widget-view+json": {
       "model_id": "",
       "version_major": 2,
       "version_minor": 0
      },
      "text/plain": [
       "HBox(children=(IntProgress(value=0, description='val', max=2510, style=ProgressStyle(description_width='initia…"
      ]
     },
     "metadata": {},
     "output_type": "display_data"
    },
    {
     "name": "stdout",
     "output_type": "stream",
     "text": [
      "mrmse_nz: 1.218530, rmrmse_nz: 0.629845, mrmse: 0.302820, rmrmse: 0.164263 \n",
      "[2020-04-28 19:56:58,134] epoch: 129 | classification_loss: 0.7153\n",
      "[2020-04-28 19:56:58,682] checkpoint created at /home/ubuntu/ebs/Notebooks/for gaussian/pascal07_counting/model_latest.pt\n",
      "\n",
      "--------------------------------------------------------\n",
      "\n",
      "learning rate: 2.5e-05\n",
      "learning rate: 0.0025\n",
      "stage 2 of the training: using criterion2\n"
     ]
    },
    {
     "data": {
      "application/vnd.jupyter.widget-view+json": {
       "model_id": "",
       "version_major": 2,
       "version_minor": 0
      },
      "text/plain": [
       "HBox(children=(IntProgress(value=0, description='train', max=157, style=ProgressStyle(description_width='initi…"
      ]
     },
     "metadata": {},
     "output_type": "display_data"
    },
    {
     "name": "stdout",
     "output_type": "stream",
     "text": [
      "validation start\n"
     ]
    },
    {
     "data": {
      "application/vnd.jupyter.widget-view+json": {
       "model_id": "",
       "version_major": 2,
       "version_minor": 0
      },
      "text/plain": [
       "HBox(children=(IntProgress(value=0, description='val', max=2510, style=ProgressStyle(description_width='initia…"
      ]
     },
     "metadata": {},
     "output_type": "display_data"
    },
    {
     "name": "stdout",
     "output_type": "stream",
     "text": [
      "mrmse_nz: 1.223828, rmrmse_nz: 0.627555, mrmse: 0.301968, rmrmse: 0.161721 \n",
      "[2020-04-28 19:59:27,292] epoch: 130 | classification_loss: 0.7133\n",
      "[2020-04-28 19:59:27,842] checkpoint created at /home/ubuntu/ebs/Notebooks/for gaussian/pascal07_counting/model_latest.pt\n",
      "\n",
      "--------------------------------------------------------\n",
      "\n",
      "learning rate: 2.5e-05\n",
      "learning rate: 0.0025\n",
      "stage 2 of the training: using criterion2\n"
     ]
    },
    {
     "data": {
      "application/vnd.jupyter.widget-view+json": {
       "model_id": "",
       "version_major": 2,
       "version_minor": 0
      },
      "text/plain": [
       "HBox(children=(IntProgress(value=0, description='train', max=157, style=ProgressStyle(description_width='initi…"
      ]
     },
     "metadata": {},
     "output_type": "display_data"
    },
    {
     "name": "stdout",
     "output_type": "stream",
     "text": [
      "validation start\n"
     ]
    },
    {
     "data": {
      "application/vnd.jupyter.widget-view+json": {
       "model_id": "",
       "version_major": 2,
       "version_minor": 0
      },
      "text/plain": [
       "HBox(children=(IntProgress(value=0, description='val', max=2510, style=ProgressStyle(description_width='initia…"
      ]
     },
     "metadata": {},
     "output_type": "display_data"
    },
    {
     "name": "stdout",
     "output_type": "stream",
     "text": [
      "mrmse_nz: 1.246456, rmrmse_nz: 0.634213, mrmse: 0.307616, rmrmse: 0.162994 \n",
      "[2020-04-28 20:01:58,416] epoch: 131 | classification_loss: 0.7139\n",
      "[2020-04-28 20:01:58,970] checkpoint created at /home/ubuntu/ebs/Notebooks/for gaussian/pascal07_counting/model_latest.pt\n",
      "\n",
      "--------------------------------------------------------\n",
      "\n",
      "learning rate: 2.5e-05\n",
      "learning rate: 0.0025\n",
      "stage 2 of the training: using criterion2\n"
     ]
    },
    {
     "data": {
      "application/vnd.jupyter.widget-view+json": {
       "model_id": "",
       "version_major": 2,
       "version_minor": 0
      },
      "text/plain": [
       "HBox(children=(IntProgress(value=0, description='train', max=157, style=ProgressStyle(description_width='initi…"
      ]
     },
     "metadata": {},
     "output_type": "display_data"
    },
    {
     "name": "stdout",
     "output_type": "stream",
     "text": [
      "validation start\n"
     ]
    },
    {
     "data": {
      "application/vnd.jupyter.widget-view+json": {
       "model_id": "",
       "version_major": 2,
       "version_minor": 0
      },
      "text/plain": [
       "HBox(children=(IntProgress(value=0, description='val', max=2510, style=ProgressStyle(description_width='initia…"
      ]
     },
     "metadata": {},
     "output_type": "display_data"
    },
    {
     "name": "stdout",
     "output_type": "stream",
     "text": [
      "mrmse_nz: 1.214169, rmrmse_nz: 0.632391, mrmse: 0.303828, rmrmse: 0.166476 \n",
      "[2020-04-28 20:04:28,643] epoch: 132 | classification_loss: 0.7148\n",
      "[2020-04-28 20:04:29,194] checkpoint created at /home/ubuntu/ebs/Notebooks/for gaussian/pascal07_counting/model_latest.pt\n",
      "\n",
      "--------------------------------------------------------\n",
      "\n",
      "learning rate: 2.5e-05\n",
      "learning rate: 0.0025\n",
      "stage 2 of the training: using criterion2\n"
     ]
    },
    {
     "data": {
      "application/vnd.jupyter.widget-view+json": {
       "model_id": "",
       "version_major": 2,
       "version_minor": 0
      },
      "text/plain": [
       "HBox(children=(IntProgress(value=0, description='train', max=157, style=ProgressStyle(description_width='initi…"
      ]
     },
     "metadata": {},
     "output_type": "display_data"
    },
    {
     "name": "stdout",
     "output_type": "stream",
     "text": [
      "validation start\n"
     ]
    },
    {
     "data": {
      "application/vnd.jupyter.widget-view+json": {
       "model_id": "",
       "version_major": 2,
       "version_minor": 0
      },
      "text/plain": [
       "HBox(children=(IntProgress(value=0, description='val', max=2510, style=ProgressStyle(description_width='initia…"
      ]
     },
     "metadata": {},
     "output_type": "display_data"
    },
    {
     "name": "stdout",
     "output_type": "stream",
     "text": [
      "mrmse_nz: 1.212547, rmrmse_nz: 0.622758, mrmse: 0.301304, rmrmse: 0.162320 \n",
      "[2020-04-28 20:06:58,792] epoch: 133 | classification_loss: 0.7088\n",
      "[2020-04-28 20:06:59,366] checkpoint created at /home/ubuntu/ebs/Notebooks/for gaussian/pascal07_counting/model_latest.pt\n",
      "\n",
      "--------------------------------------------------------\n",
      "\n",
      "learning rate: 2.5e-05\n",
      "learning rate: 0.0025\n",
      "stage 2 of the training: using criterion2\n"
     ]
    },
    {
     "data": {
      "application/vnd.jupyter.widget-view+json": {
       "model_id": "",
       "version_major": 2,
       "version_minor": 0
      },
      "text/plain": [
       "HBox(children=(IntProgress(value=0, description='train', max=157, style=ProgressStyle(description_width='initi…"
      ]
     },
     "metadata": {},
     "output_type": "display_data"
    },
    {
     "name": "stdout",
     "output_type": "stream",
     "text": [
      "validation start\n"
     ]
    },
    {
     "data": {
      "application/vnd.jupyter.widget-view+json": {
       "model_id": "",
       "version_major": 2,
       "version_minor": 0
      },
      "text/plain": [
       "HBox(children=(IntProgress(value=0, description='val', max=2510, style=ProgressStyle(description_width='initia…"
      ]
     },
     "metadata": {},
     "output_type": "display_data"
    },
    {
     "name": "stdout",
     "output_type": "stream",
     "text": [
      "mrmse_nz: 1.229199, rmrmse_nz: 0.630116, mrmse: 0.304134, rmrmse: 0.162537 \n",
      "[2020-04-28 20:09:28,348] epoch: 134 | classification_loss: 0.7123\n",
      "[2020-04-28 20:09:28,898] checkpoint created at /home/ubuntu/ebs/Notebooks/for gaussian/pascal07_counting/model_latest.pt\n",
      "\n",
      "--------------------------------------------------------\n",
      "\n",
      "learning rate: 2.5e-05\n",
      "learning rate: 0.0025\n",
      "stage 2 of the training: using criterion2\n"
     ]
    },
    {
     "data": {
      "application/vnd.jupyter.widget-view+json": {
       "model_id": "",
       "version_major": 2,
       "version_minor": 0
      },
      "text/plain": [
       "HBox(children=(IntProgress(value=0, description='train', max=157, style=ProgressStyle(description_width='initi…"
      ]
     },
     "metadata": {},
     "output_type": "display_data"
    },
    {
     "name": "stdout",
     "output_type": "stream",
     "text": [
      "validation start\n"
     ]
    },
    {
     "data": {
      "application/vnd.jupyter.widget-view+json": {
       "model_id": "",
       "version_major": 2,
       "version_minor": 0
      },
      "text/plain": [
       "HBox(children=(IntProgress(value=0, description='val', max=2510, style=ProgressStyle(description_width='initia…"
      ]
     },
     "metadata": {},
     "output_type": "display_data"
    },
    {
     "name": "stdout",
     "output_type": "stream",
     "text": [
      "mrmse_nz: 1.236977, rmrmse_nz: 0.631483, mrmse: 0.305802, rmrmse: 0.163032 \n",
      "[2020-04-28 20:11:57,750] epoch: 135 | classification_loss: 0.7136\n",
      "[2020-04-28 20:11:58,299] checkpoint created at /home/ubuntu/ebs/Notebooks/for gaussian/pascal07_counting/model_latest.pt\n",
      "\n",
      "--------------------------------------------------------\n",
      "\n",
      "learning rate: 2.5e-05\n",
      "learning rate: 0.0025\n",
      "stage 2 of the training: using criterion2\n"
     ]
    },
    {
     "data": {
      "application/vnd.jupyter.widget-view+json": {
       "model_id": "",
       "version_major": 2,
       "version_minor": 0
      },
      "text/plain": [
       "HBox(children=(IntProgress(value=0, description='train', max=157, style=ProgressStyle(description_width='initi…"
      ]
     },
     "metadata": {},
     "output_type": "display_data"
    },
    {
     "name": "stdout",
     "output_type": "stream",
     "text": [
      "validation start\n"
     ]
    },
    {
     "data": {
      "application/vnd.jupyter.widget-view+json": {
       "model_id": "",
       "version_major": 2,
       "version_minor": 0
      },
      "text/plain": [
       "HBox(children=(IntProgress(value=0, description='val', max=2510, style=ProgressStyle(description_width='initia…"
      ]
     },
     "metadata": {},
     "output_type": "display_data"
    },
    {
     "name": "stdout",
     "output_type": "stream",
     "text": [
      "mrmse_nz: 1.214905, rmrmse_nz: 0.628680, mrmse: 0.302662, rmrmse: 0.164868 \n",
      "[2020-04-28 20:14:28,232] epoch: 136 | classification_loss: 0.7112\n",
      "[2020-04-28 20:14:28,780] checkpoint created at /home/ubuntu/ebs/Notebooks/for gaussian/pascal07_counting/model_latest.pt\n",
      "\n",
      "--------------------------------------------------------\n",
      "\n",
      "learning rate: 2.5e-05\n",
      "learning rate: 0.0025\n",
      "stage 2 of the training: using criterion2\n"
     ]
    },
    {
     "data": {
      "application/vnd.jupyter.widget-view+json": {
       "model_id": "",
       "version_major": 2,
       "version_minor": 0
      },
      "text/plain": [
       "HBox(children=(IntProgress(value=0, description='train', max=157, style=ProgressStyle(description_width='initi…"
      ]
     },
     "metadata": {},
     "output_type": "display_data"
    },
    {
     "name": "stdout",
     "output_type": "stream",
     "text": [
      "validation start\n"
     ]
    },
    {
     "data": {
      "application/vnd.jupyter.widget-view+json": {
       "model_id": "",
       "version_major": 2,
       "version_minor": 0
      },
      "text/plain": [
       "HBox(children=(IntProgress(value=0, description='val', max=2510, style=ProgressStyle(description_width='initia…"
      ]
     },
     "metadata": {},
     "output_type": "display_data"
    },
    {
     "name": "stdout",
     "output_type": "stream",
     "text": [
      "mrmse_nz: 1.224699, rmrmse_nz: 0.629696, mrmse: 0.304192, rmrmse: 0.163118 \n",
      "[2020-04-28 20:16:57,492] epoch: 137 | classification_loss: 0.7126\n",
      "[2020-04-28 20:16:58,036] checkpoint created at /home/ubuntu/ebs/Notebooks/for gaussian/pascal07_counting/model_latest.pt\n",
      "\n",
      "--------------------------------------------------------\n",
      "\n",
      "learning rate: 2.5e-05\n",
      "learning rate: 0.0025\n",
      "stage 2 of the training: using criterion2\n"
     ]
    },
    {
     "data": {
      "application/vnd.jupyter.widget-view+json": {
       "model_id": "",
       "version_major": 2,
       "version_minor": 0
      },
      "text/plain": [
       "HBox(children=(IntProgress(value=0, description='train', max=157, style=ProgressStyle(description_width='initi…"
      ]
     },
     "metadata": {},
     "output_type": "display_data"
    },
    {
     "name": "stdout",
     "output_type": "stream",
     "text": [
      "validation start\n"
     ]
    },
    {
     "data": {
      "application/vnd.jupyter.widget-view+json": {
       "model_id": "",
       "version_major": 2,
       "version_minor": 0
      },
      "text/plain": [
       "HBox(children=(IntProgress(value=0, description='val', max=2510, style=ProgressStyle(description_width='initia…"
      ]
     },
     "metadata": {},
     "output_type": "display_data"
    },
    {
     "name": "stdout",
     "output_type": "stream",
     "text": [
      "mrmse_nz: 1.233306, rmrmse_nz: 0.636397, mrmse: 0.306557, rmrmse: 0.163968 \n",
      "[2020-04-28 20:19:26,907] epoch: 138 | classification_loss: 0.7109\n",
      "[2020-04-28 20:19:27,086] checkpoint created at /home/ubuntu/ebs/Notebooks/for gaussian/pascal07_counting/model_latest.pt\n",
      "\n",
      "--------------------------------------------------------\n",
      "\n",
      "learning rate: 2.5e-05\n",
      "learning rate: 0.0025\n",
      "stage 2 of the training: using criterion2\n"
     ]
    },
    {
     "data": {
      "application/vnd.jupyter.widget-view+json": {
       "model_id": "",
       "version_major": 2,
       "version_minor": 0
      },
      "text/plain": [
       "HBox(children=(IntProgress(value=0, description='train', max=157, style=ProgressStyle(description_width='initi…"
      ]
     },
     "metadata": {},
     "output_type": "display_data"
    },
    {
     "name": "stdout",
     "output_type": "stream",
     "text": [
      "validation start\n"
     ]
    },
    {
     "data": {
      "application/vnd.jupyter.widget-view+json": {
       "model_id": "",
       "version_major": 2,
       "version_minor": 0
      },
      "text/plain": [
       "HBox(children=(IntProgress(value=0, description='val', max=2510, style=ProgressStyle(description_width='initia…"
      ]
     },
     "metadata": {},
     "output_type": "display_data"
    },
    {
     "name": "stdout",
     "output_type": "stream",
     "text": [
      "mrmse_nz: 1.227718, rmrmse_nz: 0.626016, mrmse: 0.305102, rmrmse: 0.162404 \n",
      "[2020-04-28 20:21:55,992] epoch: 139 | classification_loss: 0.7131\n",
      "[2020-04-28 20:21:56,567] checkpoint created at /home/ubuntu/ebs/Notebooks/for gaussian/pascal07_counting/model_latest.pt\n",
      "\n",
      "--------------------------------------------------------\n",
      "\n",
      "learning rate: 2.5e-05\n",
      "learning rate: 0.0025\n",
      "stage 2 of the training: using criterion2\n"
     ]
    },
    {
     "data": {
      "application/vnd.jupyter.widget-view+json": {
       "model_id": "",
       "version_major": 2,
       "version_minor": 0
      },
      "text/plain": [
       "HBox(children=(IntProgress(value=0, description='train', max=157, style=ProgressStyle(description_width='initi…"
      ]
     },
     "metadata": {},
     "output_type": "display_data"
    },
    {
     "name": "stdout",
     "output_type": "stream",
     "text": [
      "validation start\n"
     ]
    },
    {
     "data": {
      "application/vnd.jupyter.widget-view+json": {
       "model_id": "",
       "version_major": 2,
       "version_minor": 0
      },
      "text/plain": [
       "HBox(children=(IntProgress(value=0, description='val', max=2510, style=ProgressStyle(description_width='initia…"
      ]
     },
     "metadata": {},
     "output_type": "display_data"
    },
    {
     "name": "stdout",
     "output_type": "stream",
     "text": [
      "mrmse_nz: 1.216240, rmrmse_nz: 0.623877, mrmse: 0.302057, rmrmse: 0.161869 \n",
      "[2020-04-28 20:24:25,723] epoch: 140 | classification_loss: 0.7117\n",
      "[2020-04-28 20:24:26,289] checkpoint created at /home/ubuntu/ebs/Notebooks/for gaussian/pascal07_counting/model_latest.pt\n",
      "\n",
      "--------------------------------------------------------\n",
      "\n",
      "learning rate: 2.5e-05\n",
      "learning rate: 0.0025\n",
      "stage 2 of the training: using criterion2\n"
     ]
    },
    {
     "data": {
      "application/vnd.jupyter.widget-view+json": {
       "model_id": "",
       "version_major": 2,
       "version_minor": 0
      },
      "text/plain": [
       "HBox(children=(IntProgress(value=0, description='train', max=157, style=ProgressStyle(description_width='initi…"
      ]
     },
     "metadata": {},
     "output_type": "display_data"
    },
    {
     "name": "stdout",
     "output_type": "stream",
     "text": [
      "validation start\n"
     ]
    },
    {
     "data": {
      "application/vnd.jupyter.widget-view+json": {
       "model_id": "",
       "version_major": 2,
       "version_minor": 0
      },
      "text/plain": [
       "HBox(children=(IntProgress(value=0, description='val', max=2510, style=ProgressStyle(description_width='initia…"
      ]
     },
     "metadata": {},
     "output_type": "display_data"
    },
    {
     "name": "stdout",
     "output_type": "stream",
     "text": [
      "mrmse_nz: 1.208961, rmrmse_nz: 0.626925, mrmse: 0.300290, rmrmse: 0.163348 \n",
      "[2020-04-28 20:27:05,412] epoch: 141 | classification_loss: 0.7083\n",
      "[2020-04-28 20:27:06,151] checkpoint created at /home/ubuntu/ebs/Notebooks/for gaussian/pascal07_counting/model_latest.pt\n",
      "\n",
      "--------------------------------------------------------\n",
      "\n",
      "learning rate: 2.5e-05\n",
      "learning rate: 0.0025\n",
      "stage 2 of the training: using criterion2\n"
     ]
    },
    {
     "data": {
      "application/vnd.jupyter.widget-view+json": {
       "model_id": "",
       "version_major": 2,
       "version_minor": 0
      },
      "text/plain": [
       "HBox(children=(IntProgress(value=0, description='train', max=157, style=ProgressStyle(description_width='initi…"
      ]
     },
     "metadata": {},
     "output_type": "display_data"
    },
    {
     "name": "stdout",
     "output_type": "stream",
     "text": [
      "validation start\n"
     ]
    },
    {
     "data": {
      "application/vnd.jupyter.widget-view+json": {
       "model_id": "",
       "version_major": 2,
       "version_minor": 0
      },
      "text/plain": [
       "HBox(children=(IntProgress(value=0, description='val', max=2510, style=ProgressStyle(description_width='initia…"
      ]
     },
     "metadata": {},
     "output_type": "display_data"
    },
    {
     "name": "stdout",
     "output_type": "stream",
     "text": [
      "mrmse_nz: 1.226934, rmrmse_nz: 0.623543, mrmse: 0.304413, rmrmse: 0.161825 \n",
      "[2020-04-28 20:29:45,226] epoch: 142 | classification_loss: 0.7111\n",
      "[2020-04-28 20:29:45,852] checkpoint created at /home/ubuntu/ebs/Notebooks/for gaussian/pascal07_counting/model_latest.pt\n",
      "\n",
      "--------------------------------------------------------\n",
      "\n",
      "learning rate: 2.5e-05\n",
      "learning rate: 0.0025\n",
      "stage 2 of the training: using criterion2\n"
     ]
    },
    {
     "data": {
      "application/vnd.jupyter.widget-view+json": {
       "model_id": "",
       "version_major": 2,
       "version_minor": 0
      },
      "text/plain": [
       "HBox(children=(IntProgress(value=0, description='train', max=157, style=ProgressStyle(description_width='initi…"
      ]
     },
     "metadata": {},
     "output_type": "display_data"
    },
    {
     "name": "stdout",
     "output_type": "stream",
     "text": [
      "validation start\n"
     ]
    },
    {
     "data": {
      "application/vnd.jupyter.widget-view+json": {
       "model_id": "",
       "version_major": 2,
       "version_minor": 0
      },
      "text/plain": [
       "HBox(children=(IntProgress(value=0, description='val', max=2510, style=ProgressStyle(description_width='initia…"
      ]
     },
     "metadata": {},
     "output_type": "display_data"
    },
    {
     "name": "stdout",
     "output_type": "stream",
     "text": [
      "mrmse_nz: 1.216556, rmrmse_nz: 0.629695, mrmse: 0.302935, rmrmse: 0.164021 \n",
      "[2020-04-28 20:32:16,296] epoch: 143 | classification_loss: 0.7106\n",
      "[2020-04-28 20:32:16,874] checkpoint created at /home/ubuntu/ebs/Notebooks/for gaussian/pascal07_counting/model_latest.pt\n",
      "\n",
      "--------------------------------------------------------\n",
      "\n",
      "learning rate: 2.5e-05\n",
      "learning rate: 0.0025\n",
      "stage 2 of the training: using criterion2\n"
     ]
    },
    {
     "data": {
      "application/vnd.jupyter.widget-view+json": {
       "model_id": "",
       "version_major": 2,
       "version_minor": 0
      },
      "text/plain": [
       "HBox(children=(IntProgress(value=0, description='train', max=157, style=ProgressStyle(description_width='initi…"
      ]
     },
     "metadata": {},
     "output_type": "display_data"
    },
    {
     "name": "stdout",
     "output_type": "stream",
     "text": [
      "validation start\n"
     ]
    },
    {
     "data": {
      "application/vnd.jupyter.widget-view+json": {
       "model_id": "",
       "version_major": 2,
       "version_minor": 0
      },
      "text/plain": [
       "HBox(children=(IntProgress(value=0, description='val', max=2510, style=ProgressStyle(description_width='initia…"
      ]
     },
     "metadata": {},
     "output_type": "display_data"
    },
    {
     "name": "stdout",
     "output_type": "stream",
     "text": [
      "mrmse_nz: 1.216720, rmrmse_nz: 0.627443, mrmse: 0.304192, rmrmse: 0.164276 \n",
      "[2020-04-28 20:34:45,843] epoch: 144 | classification_loss: 0.7104\n",
      "[2020-04-28 20:34:46,406] checkpoint created at /home/ubuntu/ebs/Notebooks/for gaussian/pascal07_counting/model_latest.pt\n",
      "\n",
      "--------------------------------------------------------\n",
      "\n",
      "learning rate: 2.5e-05\n",
      "learning rate: 0.0025\n",
      "stage 2 of the training: using criterion2\n"
     ]
    },
    {
     "data": {
      "application/vnd.jupyter.widget-view+json": {
       "model_id": "",
       "version_major": 2,
       "version_minor": 0
      },
      "text/plain": [
       "HBox(children=(IntProgress(value=0, description='train', max=157, style=ProgressStyle(description_width='initi…"
      ]
     },
     "metadata": {},
     "output_type": "display_data"
    },
    {
     "name": "stdout",
     "output_type": "stream",
     "text": [
      "validation start\n"
     ]
    },
    {
     "data": {
      "application/vnd.jupyter.widget-view+json": {
       "model_id": "",
       "version_major": 2,
       "version_minor": 0
      },
      "text/plain": [
       "HBox(children=(IntProgress(value=0, description='val', max=2510, style=ProgressStyle(description_width='initia…"
      ]
     },
     "metadata": {},
     "output_type": "display_data"
    },
    {
     "name": "stdout",
     "output_type": "stream",
     "text": [
      "mrmse_nz: 1.226381, rmrmse_nz: 0.623265, mrmse: 0.303912, rmrmse: 0.160842 \n",
      "[2020-04-28 20:37:16,583] epoch: 145 | classification_loss: 0.7107\n",
      "[2020-04-28 20:37:17,145] checkpoint created at /home/ubuntu/ebs/Notebooks/for gaussian/pascal07_counting/model_latest.pt\n",
      "\n",
      "--------------------------------------------------------\n",
      "\n",
      "learning rate: 2.5e-05\n",
      "learning rate: 0.0025\n",
      "stage 2 of the training: using criterion2\n"
     ]
    },
    {
     "data": {
      "application/vnd.jupyter.widget-view+json": {
       "model_id": "",
       "version_major": 2,
       "version_minor": 0
      },
      "text/plain": [
       "HBox(children=(IntProgress(value=0, description='train', max=157, style=ProgressStyle(description_width='initi…"
      ]
     },
     "metadata": {},
     "output_type": "display_data"
    },
    {
     "name": "stdout",
     "output_type": "stream",
     "text": [
      "validation start\n"
     ]
    },
    {
     "data": {
      "application/vnd.jupyter.widget-view+json": {
       "model_id": "",
       "version_major": 2,
       "version_minor": 0
      },
      "text/plain": [
       "HBox(children=(IntProgress(value=0, description='val', max=2510, style=ProgressStyle(description_width='initia…"
      ]
     },
     "metadata": {},
     "output_type": "display_data"
    },
    {
     "name": "stdout",
     "output_type": "stream",
     "text": [
      "mrmse_nz: 1.198473, rmrmse_nz: 0.627017, mrmse: 0.297951, rmrmse: 0.163735 \n",
      "[2020-04-28 20:39:45,779] epoch: 146 | classification_loss: 0.7094\n",
      "[2020-04-28 20:39:46,331] checkpoint created at /home/ubuntu/ebs/Notebooks/for gaussian/pascal07_counting/model_latest.pt\n",
      "[2020-04-28 20:39:47,737] checkpoint created at /home/ubuntu/ebs/Notebooks/for gaussian/pascal07_counting/model_mrmse.pt\n",
      "\n",
      "--------------------------------------------------------\n",
      "\n",
      "learning rate: 2.5e-05\n",
      "learning rate: 0.0025\n",
      "stage 2 of the training: using criterion2\n"
     ]
    },
    {
     "data": {
      "application/vnd.jupyter.widget-view+json": {
       "model_id": "",
       "version_major": 2,
       "version_minor": 0
      },
      "text/plain": [
       "HBox(children=(IntProgress(value=0, description='train', max=157, style=ProgressStyle(description_width='initi…"
      ]
     },
     "metadata": {},
     "output_type": "display_data"
    },
    {
     "name": "stdout",
     "output_type": "stream",
     "text": [
      "validation start\n"
     ]
    },
    {
     "data": {
      "application/vnd.jupyter.widget-view+json": {
       "model_id": "",
       "version_major": 2,
       "version_minor": 0
      },
      "text/plain": [
       "HBox(children=(IntProgress(value=0, description='val', max=2510, style=ProgressStyle(description_width='initia…"
      ]
     },
     "metadata": {},
     "output_type": "display_data"
    },
    {
     "name": "stdout",
     "output_type": "stream",
     "text": [
      "mrmse_nz: 1.195955, rmrmse_nz: 0.619931, mrmse: 0.297856, rmrmse: 0.162386 \n",
      "[2020-04-28 20:42:17,218] epoch: 147 | classification_loss: 0.7119\n",
      "[2020-04-28 20:42:17,796] checkpoint created at /home/ubuntu/ebs/Notebooks/for gaussian/pascal07_counting/model_latest.pt\n",
      "[2020-04-28 20:42:19,203] checkpoint created at /home/ubuntu/ebs/Notebooks/for gaussian/pascal07_counting/model_mrmse.pt\n",
      "\n",
      "--------------------------------------------------------\n",
      "\n",
      "learning rate: 2.5e-05\n",
      "learning rate: 0.0025\n",
      "stage 2 of the training: using criterion2\n"
     ]
    },
    {
     "data": {
      "application/vnd.jupyter.widget-view+json": {
       "model_id": "",
       "version_major": 2,
       "version_minor": 0
      },
      "text/plain": [
       "HBox(children=(IntProgress(value=0, description='train', max=157, style=ProgressStyle(description_width='initi…"
      ]
     },
     "metadata": {},
     "output_type": "display_data"
    },
    {
     "name": "stdout",
     "output_type": "stream",
     "text": [
      "validation start\n"
     ]
    },
    {
     "data": {
      "application/vnd.jupyter.widget-view+json": {
       "model_id": "",
       "version_major": 2,
       "version_minor": 0
      },
      "text/plain": [
       "HBox(children=(IntProgress(value=0, description='val', max=2510, style=ProgressStyle(description_width='initia…"
      ]
     },
     "metadata": {},
     "output_type": "display_data"
    },
    {
     "name": "stdout",
     "output_type": "stream",
     "text": [
      "mrmse_nz: 1.210009, rmrmse_nz: 0.631695, mrmse: 0.301720, rmrmse: 0.165439 \n",
      "[2020-04-28 20:44:48,888] epoch: 148 | classification_loss: 0.7101\n",
      "[2020-04-28 20:44:49,452] checkpoint created at /home/ubuntu/ebs/Notebooks/for gaussian/pascal07_counting/model_latest.pt\n",
      "\n",
      "--------------------------------------------------------\n",
      "\n",
      "learning rate: 2.5e-05\n",
      "learning rate: 0.0025\n",
      "stage 2 of the training: using criterion2\n"
     ]
    },
    {
     "data": {
      "application/vnd.jupyter.widget-view+json": {
       "model_id": "",
       "version_major": 2,
       "version_minor": 0
      },
      "text/plain": [
       "HBox(children=(IntProgress(value=0, description='train', max=157, style=ProgressStyle(description_width='initi…"
      ]
     },
     "metadata": {},
     "output_type": "display_data"
    },
    {
     "name": "stdout",
     "output_type": "stream",
     "text": [
      "validation start\n"
     ]
    },
    {
     "data": {
      "application/vnd.jupyter.widget-view+json": {
       "model_id": "",
       "version_major": 2,
       "version_minor": 0
      },
      "text/plain": [
       "HBox(children=(IntProgress(value=0, description='val', max=2510, style=ProgressStyle(description_width='initia…"
      ]
     },
     "metadata": {},
     "output_type": "display_data"
    },
    {
     "name": "stdout",
     "output_type": "stream",
     "text": [
      "mrmse_nz: 1.198823, rmrmse_nz: 0.623153, mrmse: 0.298223, rmrmse: 0.162958 \n",
      "[2020-04-28 20:47:19,037] epoch: 149 | classification_loss: 0.7103\n"
     ]
    },
    {
     "name": "stderr",
     "output_type": "stream",
     "text": [
      "All finished. (6 hours, 15 minutes, 52 seconds)\n"
     ]
    },
    {
     "name": "stdout",
     "output_type": "stream",
     "text": [
      "[2020-04-28 20:47:19,590] checkpoint created at /home/ubuntu/ebs/Notebooks/for gaussian/pascal07_counting/model_latest.pt\n",
      "\n",
      "--------------------------------------------------------\n",
      "\n"
     ]
    }
   ],
   "source": [
    "%matplotlib inline\n",
    "\n",
    "import warnings\n",
    "warnings.filterwarnings(\"ignore\")\n",
    "\n",
    "import os\n",
    "os.environ['CUDA_VISIBLE_DEVICES'] = '0'\n",
    "import json\n",
    "\n",
    "import torch\n",
    "import torch.nn as nn\n",
    "import torch.nn.functional as F\n",
    "import PIL.Image\n",
    "import numpy as np\n",
    "import matplotlib.pyplot as plt\n",
    "from scipy.io import loadmat\n",
    "from scipy.misc import imresize\n",
    "\n",
    "### Access PRM through [Nest](https://github.com/ZhouYanzhao/Nest)\n",
    "\n",
    "from nest import modules, run_tasks\n",
    "\n",
    "### Train a PRM-augmented classification network using image-level labels\n",
    "\n",
    "run_tasks('/home/ubuntu/ebs/Notebooks/for gaussian/CountSeg/train/config_counting_pascal07.yml')\n"
   ]
  },
  {
   "cell_type": "code",
   "execution_count": null,
   "metadata": {},
   "outputs": [],
   "source": []
  }
 ],
 "metadata": {
  "kernelspec": {
   "display_name": "Python 3",
   "language": "python",
   "name": "python3"
  },
  "language_info": {
   "codemirror_mode": {
    "name": "ipython",
    "version": 3
   },
   "file_extension": ".py",
   "mimetype": "text/x-python",
   "name": "python",
   "nbconvert_exporter": "python",
   "pygments_lexer": "ipython3",
   "version": "3.6.8"
  }
 },
 "nbformat": 4,
 "nbformat_minor": 2
}
